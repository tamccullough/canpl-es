{
 "cells": [
  {
   "cell_type": "markdown",
   "metadata": {},
   "source": [
    "### Gaussian Naive Bayes Model Likelihood"
   ]
  },
  {
   "cell_type": "code",
   "execution_count": 1,
   "metadata": {},
   "outputs": [],
   "source": [
    "import re\n",
    "import numpy as np\n",
    "import pandas as pd\n",
    "#import cpl_main as cpl"
   ]
  },
  {
   "cell_type": "code",
   "execution_count": 2,
   "metadata": {},
   "outputs": [],
   "source": [
    "year = '2019'"
   ]
  },
  {
   "cell_type": "code",
   "execution_count": 3,
   "metadata": {},
   "outputs": [],
   "source": [
    "results = pd.read_csv(f'datasets/{year}/cpl-{year}-results.csv')\n",
    "stats = pd.read_csv(f'datasets/{year}/cpl-{year}-stats.csv')\n",
    "team_ref = pd.read_csv('datasets/teams.csv')"
   ]
  },
  {
   "cell_type": "code",
   "execution_count": 4,
   "metadata": {},
   "outputs": [],
   "source": [
    "if year == '2019':\n",
    "    team_ref = team_ref[1:]"
   ]
  },
  {
   "cell_type": "code",
   "execution_count": 5,
   "metadata": {},
   "outputs": [],
   "source": [
    "results_brief = pd.read_csv(f'datasets/{year}/cpl-{year}-results_brief.csv')\n",
    "schedule = pd.read_csv(f'datasets/{year}/cpl-{year}-schedule.csv')"
   ]
  },
  {
   "cell_type": "code",
   "execution_count": 6,
   "metadata": {},
   "outputs": [],
   "source": [
    "#Import Gaussian Naive Bayes model\n",
    "from sklearn.naive_bayes import GaussianNB,BernoulliNB\n",
    "import statistics"
   ]
  },
  {
   "cell_type": "code",
   "execution_count": 7,
   "metadata": {},
   "outputs": [
    {
     "name": "stdout",
     "output_type": "stream",
     "text": [
      "York9 FC HFX Wanderers FC\n"
     ]
    }
   ],
   "source": [
    "# home side\n",
    "q1 = schedule.iloc[2]['home']\n",
    "# away side\n",
    "q2 = schedule.iloc[2]['away']\n",
    "print(q1,q2)"
   ]
  },
  {
   "cell_type": "code",
   "execution_count": 8,
   "metadata": {},
   "outputs": [],
   "source": [
    "def get_team_comparison(data,q1,q2):\n",
    "    # getting games with q1 in both home or away\n",
    "    db = data[data['team'] == q1]\n",
    "    db = db.reset_index()\n",
    "    db.pop('index')\n",
    "    # filering down more to get only the games against q2\n",
    "    db = db.sort_values(by=['m','d'])\n",
    "    db = db[(db['home'] == q2) | (db['away'] == q2)]\n",
    "    db = db.reset_index()\n",
    "    db.pop('index')\n",
    "    if db.empty == True:\n",
    "        db = pd.DataFrame([(0,0,0,0,q1,'D',q2,'D','empty',q1)],columns=['d','m','hs','as','home','hr','away','ar','summary','team'])\n",
    "    return db"
   ]
  },
  {
   "cell_type": "code",
   "execution_count": 9,
   "metadata": {},
   "outputs": [],
   "source": [
    "compare = get_team_comparison(results_brief,q1,q2)"
   ]
  },
  {
   "cell_type": "code",
   "execution_count": 10,
   "metadata": {},
   "outputs": [],
   "source": [
    "def get_match_tables(data,query):\n",
    "    db = data[data['home'] == query]\n",
    "    db = pd.concat([db,data[data['away'] == query]])\n",
    "    db = db.sort_values(by=['m','d'])\n",
    "    return db\n",
    "\n",
    "def likelihood_input(array,a_list):\n",
    "    b = a_list[0]\n",
    "    c = a_list[1]\n",
    "    d = a_list[2]\n",
    "    array.append(b)\n",
    "    array.append(c)\n",
    "    array.append(d)\n",
    "    return array\n",
    "\n",
    "def likelihood_table(data,query):\n",
    "    df = get_match_tables(data,query)\n",
    "    array = []\n",
    "    cols = data.columns\n",
    "    for row in range(0,df.shape[0]):\n",
    "        if df.iloc[row]['home'] == query:\n",
    "            if df.iloc[row]['hr'] == 'W':\n",
    "                array = likelihood_input(array,[[1,2,1],[1,0,0],[1,1,0]])\n",
    "            if df.iloc[row]['hr'] == 'L':\n",
    "                array = likelihood_input(array,[[1,2,0],[1,0,1],[1,1,0]])\n",
    "            if df.iloc[row]['hr'] == 'D':\n",
    "                array = likelihood_input(array,[[1,2,0],[1,0,0],[1,1,1]])\n",
    "        if df.iloc[row]['away'] == query:\n",
    "            if df.iloc[row]['ar'] == 'W':\n",
    "                array = likelihood_input(array,[[2,2,1],[2,0,0],[2,1,0]])\n",
    "            if df.iloc[row]['ar'] == 'L':\n",
    "                array = likelihood_input(array,[[2,2,0],[2,0,1],[2,1,0]])\n",
    "            if df.iloc[row]['ar'] == 'D':\n",
    "                array = likelihood_input(array,[[2,2,1],[2,0,0],[2,1,1]])\n",
    "    db= pd.DataFrame(array,columns=['h/a','w/l/d','y/n'])\n",
    "    return db"
   ]
  },
  {
   "cell_type": "code",
   "execution_count": 11,
   "metadata": {},
   "outputs": [],
   "source": [
    "def get_NB_data(data,query):\n",
    "    db = likelihood_table(data,query)\n",
    "    dy = db.pop('y/n').to_list()\n",
    "    dx = [tuple(x) for x in db.values]\n",
    "    return dx, dy"
   ]
  },
  {
   "cell_type": "code",
   "execution_count": 12,
   "metadata": {},
   "outputs": [],
   "source": [
    "t1_x, t1_y = get_NB_data(compare,q1)\n",
    "t2_x, t2_y = get_NB_data(compare,q2)"
   ]
  },
  {
   "cell_type": "code",
   "execution_count": 13,
   "metadata": {},
   "outputs": [],
   "source": [
    "def get_match_prediction_result(query,x,y,array):\n",
    "    prediction = get_gnb_prediction(query,x,y,array)\n",
    "    return prediction\n",
    "\n",
    "def get_match_prediction(q1,q2,x1,y1,x2,y2):\n",
    "    if len(x1) == 0:\n",
    "        x = round(1/3,2)\n",
    "        home_win, away_win,draw = x,x,x\n",
    "        return home_win,away_win,draw\n",
    "    home_win = get_match_prediction_result(q1,x1,y1,[1,2])\n",
    "    draw = get_match_prediction_result(q1,x1,y1,[1,1])\n",
    "    away_win = get_match_prediction_result(q2,x2,y2,[2,2])\n",
    "    return home_win, draw, away_win"
   ]
  },
  {
   "cell_type": "code",
   "execution_count": 14,
   "metadata": {},
   "outputs": [],
   "source": [
    "def gnb_mod():\n",
    "\n",
    "    gnb = GaussianNB()\n",
    "    bnb = BernoulliNB()\n",
    "    # Train the model using the training sets\n",
    "\n",
    "    gnb.fit(x,y)\n",
    "    bnb.fit(x,y)\n",
    "    \n",
    "    # use below instead of predicted = model.predict([result]) because we want the probability\n",
    "    gnb_pred = np.round(gnb.predict_proba([result])[:, 1],decimals=2)\n",
    "    bnb_pred = np.round(bnb.predict_proba([result])[:, 1],decimals=2)\n",
    "\n",
    "    pred = round((gnb_pred[0] + bnb_pred[0]) / 2,2)\n",
    "    #print(gnb_pred[0], bnb_pred[0], pred)\n",
    "\n",
    "    return pred"
   ]
  },
  {
   "cell_type": "code",
   "execution_count": 17,
   "metadata": {},
   "outputs": [],
   "source": [
    "def get_gnb_prediction(query,x,y,result):\n",
    "    \n",
    "    gnb = GaussianNB()\n",
    "    bnb = BernoulliNB()\n",
    "    # Train the model using the training sets\n",
    "    \n",
    "    gnb.fit(x,y)\n",
    "    bnb.fit(x,y)\n",
    "    \n",
    "    # use below instead of predicted = model.predict([result]) because we want the probability\n",
    "    gnb_pred = np.round(gnb.predict_proba([result])[:, 1],decimals=2)\n",
    "    bnb_pred = np.round(bnb.predict_proba([result])[:, 1],decimals=2)\n",
    "    \n",
    "    pred = round((gnb_pred[0] + bnb_pred[0]) / 2,2)\n",
    "    #print(gnb_pred[0], bnb_pred[0], pred)\n",
    "    \n",
    "    return pred\n",
    "\n",
    "def get_match_prediction_result(query,x,y,array):\n",
    "    prediction = get_gnb_prediction(query,x,y,array)\n",
    "    return prediction\n",
    "\n",
    "def get_match_prediction(q1,q2,x1,y1,x2,y2):\n",
    "    if len(x1) == 0:\n",
    "        x = round(1/3,2)\n",
    "        home_win, away_win,draw = x,x,x\n",
    "        return home_win,away_win,draw\n",
    "    home_win = get_match_prediction_result(q1,x1,y1,[1,2])\n",
    "    draw = get_match_prediction_result(q1,x1,y1,[1,1])\n",
    "    away_win = get_match_prediction_result(q2,x2,y2,[2,2])\n",
    "    return home_win, draw, away_win"
   ]
  },
  {
   "cell_type": "code",
   "execution_count": 18,
   "metadata": {},
   "outputs": [],
   "source": [
    "home_win, draw, away_win = get_match_prediction(q1,q2,t1_x,t1_y,t2_x,t2_y)"
   ]
  },
  {
   "cell_type": "code",
   "execution_count": 19,
   "metadata": {},
   "outputs": [
    {
     "name": "stdout",
     "output_type": "stream",
     "text": [
      "York9 FC \n",
      "win probability:  0.36\n"
     ]
    }
   ],
   "source": [
    "print(q1,'\\nwin probability: ', round(home_win,2))"
   ]
  },
  {
   "cell_type": "code",
   "execution_count": 20,
   "metadata": {},
   "outputs": [
    {
     "name": "stdout",
     "output_type": "stream",
     "text": [
      "HFX Wanderers FC \n",
      "win probability:  0.56\n"
     ]
    }
   ],
   "source": [
    "print(q2,'\\nwin probability: ', round(away_win,2))"
   ]
  },
  {
   "cell_type": "code",
   "execution_count": 21,
   "metadata": {},
   "outputs": [
    {
     "name": "stdout",
     "output_type": "stream",
     "text": [
      "Draw probability:  0.36\n"
     ]
    }
   ],
   "source": [
    "print('Draw probability: ', round(draw,2))"
   ]
  },
  {
   "cell_type": "code",
   "execution_count": null,
   "metadata": {},
   "outputs": [],
   "source": []
  }
 ],
 "metadata": {
  "kernelspec": {
   "display_name": "Python 3",
   "language": "python",
   "name": "python3"
  },
  "language_info": {
   "codemirror_mode": {
    "name": "ipython",
    "version": 3
   },
   "file_extension": ".py",
   "mimetype": "text/x-python",
   "name": "python",
   "nbconvert_exporter": "python",
   "pygments_lexer": "ipython3",
   "version": "3.7.6"
  }
 },
 "nbformat": 4,
 "nbformat_minor": 4
}
