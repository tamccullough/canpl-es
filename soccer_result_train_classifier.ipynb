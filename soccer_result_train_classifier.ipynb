{
 "cells": [
  {
   "cell_type": "code",
   "execution_count": 1,
   "metadata": {},
   "outputs": [],
   "source": [
    "# Todd McCullough\n",
    "# 2020\n",
    "import numpy as np\n",
    "import matplotlib.pyplot as plt\n",
    "%matplotlib inline\n",
    "import pandas as pd\n",
    "import cpl_main as cpl \n",
    "import random\n",
    "import re"
   ]
  },
  {
   "cell_type": "code",
   "execution_count": 2,
   "metadata": {},
   "outputs": [
    {
     "data": {
      "text/html": [
       "<div>\n",
       "<style scoped>\n",
       "    .dataframe tbody tr th:only-of-type {\n",
       "        vertical-align: middle;\n",
       "    }\n",
       "\n",
       "    .dataframe tbody tr th {\n",
       "        vertical-align: top;\n",
       "    }\n",
       "\n",
       "    .dataframe thead th {\n",
       "        text-align: right;\n",
       "    }\n",
       "</style>\n",
       "<table border=\"1\" class=\"dataframe\">\n",
       "  <thead>\n",
       "    <tr style=\"text-align: right;\">\n",
       "      <th></th>\n",
       "      <th>game</th>\n",
       "      <th>team</th>\n",
       "      <th>p1</th>\n",
       "      <th>p2</th>\n",
       "      <th>p3</th>\n",
       "      <th>p4</th>\n",
       "      <th>p5</th>\n",
       "      <th>p6</th>\n",
       "      <th>p7</th>\n",
       "      <th>p8</th>\n",
       "      <th>p9</th>\n",
       "      <th>p10</th>\n",
       "      <th>p11</th>\n",
       "      <th>p12</th>\n",
       "      <th>p13</th>\n",
       "      <th>p14</th>\n",
       "      <th>r</th>\n",
       "      <th>s</th>\n",
       "      <th>pred</th>\n",
       "    </tr>\n",
       "  </thead>\n",
       "  <tbody>\n",
       "    <tr>\n",
       "      <th>0</th>\n",
       "      <td>I1</td>\n",
       "      <td>Forge FC</td>\n",
       "      <td>0.71</td>\n",
       "      <td>0.89</td>\n",
       "      <td>0.74</td>\n",
       "      <td>0.71</td>\n",
       "      <td>0.48</td>\n",
       "      <td>0.89</td>\n",
       "      <td>0.77</td>\n",
       "      <td>0.52</td>\n",
       "      <td>0.50</td>\n",
       "      <td>0.48</td>\n",
       "      <td>0.42</td>\n",
       "      <td>0.0</td>\n",
       "      <td>0.0</td>\n",
       "      <td>0.0</td>\n",
       "      <td>2</td>\n",
       "      <td>1</td>\n",
       "      <td>2</td>\n",
       "    </tr>\n",
       "    <tr>\n",
       "      <th>1</th>\n",
       "      <td>I1</td>\n",
       "      <td>York9 FC</td>\n",
       "      <td>0.93</td>\n",
       "      <td>0.92</td>\n",
       "      <td>0.91</td>\n",
       "      <td>0.86</td>\n",
       "      <td>0.41</td>\n",
       "      <td>0.78</td>\n",
       "      <td>0.65</td>\n",
       "      <td>0.64</td>\n",
       "      <td>0.46</td>\n",
       "      <td>0.70</td>\n",
       "      <td>0.47</td>\n",
       "      <td>0.0</td>\n",
       "      <td>0.0</td>\n",
       "      <td>0.0</td>\n",
       "      <td>2</td>\n",
       "      <td>1</td>\n",
       "      <td>2</td>\n",
       "    </tr>\n",
       "  </tbody>\n",
       "</table>\n",
       "</div>"
      ],
      "text/plain": [
       "  game      team    p1    p2    p3    p4    p5    p6    p7    p8    p9   p10  \\\n",
       "0   I1  Forge FC  0.71  0.89  0.74  0.71  0.48  0.89  0.77  0.52  0.50  0.48   \n",
       "1   I1  York9 FC  0.93  0.92  0.91  0.86  0.41  0.78  0.65  0.64  0.46  0.70   \n",
       "\n",
       "    p11  p12  p13  p14  r  s  pred  \n",
       "0  0.42  0.0  0.0  0.0  2  1     2  \n",
       "1  0.47  0.0  0.0  0.0  2  1     2  "
      ]
     },
     "execution_count": 2,
     "metadata": {},
     "output_type": "execute_result"
    }
   ],
   "source": [
    "results = pd.read_csv(f'datasets/soccer-nn-train-pred.csv')\n",
    "results.head(2)"
   ]
  },
  {
   "cell_type": "code",
   "execution_count": 3,
   "metadata": {},
   "outputs": [
    {
     "name": "stdout",
     "output_type": "stream",
     "text": [
      "0.64 0.36\n"
     ]
    }
   ],
   "source": [
    "s,t = [],[]\n",
    "for i in range(results.shape[0]):\n",
    "    if results.loc[i]['pred'] == results.loc[i]['r']:\n",
    "        t.append(1)\n",
    "    else:\n",
    "        s.append(1)\n",
    "print(round(len(s)/results.shape[0],2),round(len(t)/results.shape[0],2))"
   ]
  },
  {
   "cell_type": "code",
   "execution_count": 4,
   "metadata": {},
   "outputs": [
    {
     "data": {
      "text/plain": [
       "(3866, 18)"
      ]
     },
     "execution_count": 4,
     "metadata": {},
     "output_type": "execute_result"
    }
   ],
   "source": [
    "results.pop('pred')\n",
    "results.shape"
   ]
  },
  {
   "cell_type": "code",
   "execution_count": 5,
   "metadata": {},
   "outputs": [],
   "source": [
    "cols = ['p1', 'p2', 'p3', 'p4', 'p5', 'p6', 'p7', 'p8', 'p9','p10', 'p11', 'p12', 'p13', 'p14']"
   ]
  },
  {
   "cell_type": "code",
   "execution_count": 6,
   "metadata": {},
   "outputs": [],
   "source": [
    "results['sum'] = round(results[cols].sum(axis=1),2)"
   ]
  },
  {
   "cell_type": "code",
   "execution_count": 7,
   "metadata": {},
   "outputs": [],
   "source": [
    "results['count'] = (results[results[cols]>0].count(axis=1))-10"
   ]
  },
  {
   "cell_type": "code",
   "execution_count": 8,
   "metadata": {},
   "outputs": [],
   "source": [
    "results['result'] = round(results['sum'] / (results['count']+0.1),2)"
   ]
  },
  {
   "cell_type": "code",
   "execution_count": 9,
   "metadata": {},
   "outputs": [],
   "source": [
    "results['plus'] = results['sum'] + results['s']"
   ]
  },
  {
   "cell_type": "code",
   "execution_count": 10,
   "metadata": {},
   "outputs": [],
   "source": [
    "results['test'] = round(results['sum']  / results['sum'].max() - 0.05,3)"
   ]
  },
  {
   "cell_type": "code",
   "execution_count": 11,
   "metadata": {},
   "outputs": [],
   "source": [
    "results['test2'] = round(results['count']  / results['count'].max() - 0.05,3)"
   ]
  },
  {
   "cell_type": "code",
   "execution_count": 12,
   "metadata": {},
   "outputs": [],
   "source": [
    "results['diff'] = round(results['s'] * results[cols].max(axis=1)).astype('int64') + 1"
   ]
  },
  {
   "cell_type": "code",
   "execution_count": 13,
   "metadata": {},
   "outputs": [
    {
     "data": {
      "text/html": [
       "<div>\n",
       "<style scoped>\n",
       "    .dataframe tbody tr th:only-of-type {\n",
       "        vertical-align: middle;\n",
       "    }\n",
       "\n",
       "    .dataframe tbody tr th {\n",
       "        vertical-align: top;\n",
       "    }\n",
       "\n",
       "    .dataframe thead th {\n",
       "        text-align: right;\n",
       "    }\n",
       "</style>\n",
       "<table border=\"1\" class=\"dataframe\">\n",
       "  <thead>\n",
       "    <tr style=\"text-align: right;\">\n",
       "      <th></th>\n",
       "      <th>game</th>\n",
       "      <th>team</th>\n",
       "      <th>p1</th>\n",
       "      <th>p2</th>\n",
       "      <th>p3</th>\n",
       "      <th>p4</th>\n",
       "      <th>p5</th>\n",
       "      <th>p6</th>\n",
       "      <th>p7</th>\n",
       "      <th>p8</th>\n",
       "      <th>...</th>\n",
       "      <th>p14</th>\n",
       "      <th>r</th>\n",
       "      <th>s</th>\n",
       "      <th>sum</th>\n",
       "      <th>count</th>\n",
       "      <th>result</th>\n",
       "      <th>plus</th>\n",
       "      <th>test</th>\n",
       "      <th>test2</th>\n",
       "      <th>diff</th>\n",
       "    </tr>\n",
       "  </thead>\n",
       "  <tbody>\n",
       "    <tr>\n",
       "      <th>0</th>\n",
       "      <td>I1</td>\n",
       "      <td>Forge FC</td>\n",
       "      <td>0.71</td>\n",
       "      <td>0.89</td>\n",
       "      <td>0.74</td>\n",
       "      <td>0.71</td>\n",
       "      <td>0.48</td>\n",
       "      <td>0.89</td>\n",
       "      <td>0.77</td>\n",
       "      <td>0.52</td>\n",
       "      <td>...</td>\n",
       "      <td>0.0</td>\n",
       "      <td>2</td>\n",
       "      <td>1</td>\n",
       "      <td>7.11</td>\n",
       "      <td>1</td>\n",
       "      <td>6.46</td>\n",
       "      <td>8.11</td>\n",
       "      <td>0.87</td>\n",
       "      <td>0.2</td>\n",
       "      <td>2</td>\n",
       "    </tr>\n",
       "    <tr>\n",
       "      <th>1</th>\n",
       "      <td>I1</td>\n",
       "      <td>York9 FC</td>\n",
       "      <td>0.93</td>\n",
       "      <td>0.92</td>\n",
       "      <td>0.91</td>\n",
       "      <td>0.86</td>\n",
       "      <td>0.41</td>\n",
       "      <td>0.78</td>\n",
       "      <td>0.65</td>\n",
       "      <td>0.64</td>\n",
       "      <td>...</td>\n",
       "      <td>0.0</td>\n",
       "      <td>2</td>\n",
       "      <td>1</td>\n",
       "      <td>7.73</td>\n",
       "      <td>1</td>\n",
       "      <td>7.03</td>\n",
       "      <td>8.73</td>\n",
       "      <td>0.95</td>\n",
       "      <td>0.2</td>\n",
       "      <td>2</td>\n",
       "    </tr>\n",
       "  </tbody>\n",
       "</table>\n",
       "<p>2 rows × 25 columns</p>\n",
       "</div>"
      ],
      "text/plain": [
       "  game      team    p1    p2    p3    p4    p5    p6    p7    p8  ...  p14  r  \\\n",
       "0   I1  Forge FC  0.71  0.89  0.74  0.71  0.48  0.89  0.77  0.52  ...  0.0  2   \n",
       "1   I1  York9 FC  0.93  0.92  0.91  0.86  0.41  0.78  0.65  0.64  ...  0.0  2   \n",
       "\n",
       "   s   sum  count  result  plus  test  test2  diff  \n",
       "0  1  7.11      1    6.46  8.11  0.87    0.2     2  \n",
       "1  1  7.73      1    7.03  8.73  0.95    0.2     2  \n",
       "\n",
       "[2 rows x 25 columns]"
      ]
     },
     "execution_count": 13,
     "metadata": {},
     "output_type": "execute_result"
    }
   ],
   "source": [
    "results.head(2)"
   ]
  },
  {
   "cell_type": "code",
   "execution_count": 14,
   "metadata": {},
   "outputs": [],
   "source": [
    "# TRANSFORM  - results['test'] = results['test']**0.5"
   ]
  },
  {
   "cell_type": "code",
   "execution_count": 15,
   "metadata": {},
   "outputs": [
    {
     "data": {
      "image/png": "[encoded data removed]",
      "text/plain": [
       "<Figure size 432x288 with 1 Axes>"
      ]
     },
     "metadata": {
      "needs_background": "light"
     },
     "output_type": "display_data"
    }
   ],
   "source": [
    "bins = np.linspace(0, 1, 40) # array with 40 evenly spaced numbers between 0 and 200\n",
    "\n",
    "plt.hist(results['test'], bins)\n",
    "plt.title('Test Distribution')\n",
    "plt.show()"
   ]
  },
  {
   "cell_type": "code",
   "execution_count": 16,
   "metadata": {},
   "outputs": [
    {
     "data": {
      "image/png": "[encoded data removed]",
      "text/plain": [
       "<Figure size 432x288 with 1 Axes>"
      ]
     },
     "metadata": {
      "needs_background": "light"
     },
     "output_type": "display_data"
    }
   ],
   "source": [
    "bins = np.linspace(0, 15, 40) # array with 40 evenly spaced numbers between 0 and 200\n",
    "\n",
    "plt.hist(results['plus'], bins)\n",
    "plt.title('Result Distribution')\n",
    "plt.show()"
   ]
  },
  {
   "cell_type": "code",
   "execution_count": 17,
   "metadata": {},
   "outputs": [
    {
     "data": {
      "image/png": "[encoded data removed]",
      "text/plain": [
       "<Figure size 432x288 with 1 Axes>"
      ]
     },
     "metadata": {
      "needs_background": "light"
     },
     "output_type": "display_data"
    },
    {
     "data": {
      "image/png": "[encoded data removed]",
      "text/plain": [
       "<Figure size 432x288 with 1 Axes>"
      ]
     },
     "metadata": {
      "needs_background": "light"
     },
     "output_type": "display_data"
    }
   ],
   "source": [
    "bins = np.linspace(0, 10, 40) # array with 40 evenly spaced numbers between 0 and 200\n",
    "\n",
    "plt.hist(results['sum'], bins)\n",
    "plt.title('Sum Distribution')\n",
    "plt.show()\n",
    "\n",
    "bins = np.linspace(1, 4, 40) # array with 40 evenly spaced numbers between 0 and 200\n",
    "\n",
    "plt.hist(results['count'], bins)\n",
    "plt.title('Count Distribution')\n",
    "plt.show()"
   ]
  },
  {
   "cell_type": "code",
   "execution_count": 18,
   "metadata": {},
   "outputs": [],
   "source": [
    "db = results.copy()"
   ]
  },
  {
   "cell_type": "code",
   "execution_count": 19,
   "metadata": {},
   "outputs": [
    {
     "data": {
      "text/plain": [
       "False"
      ]
     },
     "execution_count": 19,
     "metadata": {},
     "output_type": "execute_result"
    }
   ],
   "source": [
    "db.isnull().values.any()"
   ]
  },
  {
   "cell_type": "code",
   "execution_count": 20,
   "metadata": {},
   "outputs": [],
   "source": [
    "db.pop('game')\n",
    "db.pop('team')\n",
    "y = db.pop('r')\n",
    "X = db"
   ]
  },
  {
   "cell_type": "code",
   "execution_count": 21,
   "metadata": {},
   "outputs": [],
   "source": [
    "#X['all'] = round(X.sum(axis = 1, skipna = True) / 13,2)"
   ]
  },
  {
   "cell_type": "code",
   "execution_count": 22,
   "metadata": {},
   "outputs": [
    {
     "data": {
      "text/html": [
       "<div>\n",
       "<style scoped>\n",
       "    .dataframe tbody tr th:only-of-type {\n",
       "        vertical-align: middle;\n",
       "    }\n",
       "\n",
       "    .dataframe tbody tr th {\n",
       "        vertical-align: top;\n",
       "    }\n",
       "\n",
       "    .dataframe thead th {\n",
       "        text-align: right;\n",
       "    }\n",
       "</style>\n",
       "<table border=\"1\" class=\"dataframe\">\n",
       "  <thead>\n",
       "    <tr style=\"text-align: right;\">\n",
       "      <th></th>\n",
       "      <th>p1</th>\n",
       "      <th>p2</th>\n",
       "      <th>p3</th>\n",
       "      <th>p4</th>\n",
       "      <th>p5</th>\n",
       "      <th>p6</th>\n",
       "      <th>p7</th>\n",
       "      <th>p8</th>\n",
       "      <th>p9</th>\n",
       "      <th>p10</th>\n",
       "      <th>...</th>\n",
       "      <th>p13</th>\n",
       "      <th>p14</th>\n",
       "      <th>s</th>\n",
       "      <th>sum</th>\n",
       "      <th>count</th>\n",
       "      <th>result</th>\n",
       "      <th>plus</th>\n",
       "      <th>test</th>\n",
       "      <th>test2</th>\n",
       "      <th>diff</th>\n",
       "    </tr>\n",
       "  </thead>\n",
       "  <tbody>\n",
       "    <tr>\n",
       "      <th>0</th>\n",
       "      <td>0.71</td>\n",
       "      <td>0.89</td>\n",
       "      <td>0.74</td>\n",
       "      <td>0.71</td>\n",
       "      <td>0.48</td>\n",
       "      <td>0.89</td>\n",
       "      <td>0.77</td>\n",
       "      <td>0.52</td>\n",
       "      <td>0.50</td>\n",
       "      <td>0.48</td>\n",
       "      <td>...</td>\n",
       "      <td>0.0</td>\n",
       "      <td>0.0</td>\n",
       "      <td>1</td>\n",
       "      <td>7.11</td>\n",
       "      <td>1</td>\n",
       "      <td>6.46</td>\n",
       "      <td>8.11</td>\n",
       "      <td>0.87</td>\n",
       "      <td>0.2</td>\n",
       "      <td>2</td>\n",
       "    </tr>\n",
       "    <tr>\n",
       "      <th>1</th>\n",
       "      <td>0.93</td>\n",
       "      <td>0.92</td>\n",
       "      <td>0.91</td>\n",
       "      <td>0.86</td>\n",
       "      <td>0.41</td>\n",
       "      <td>0.78</td>\n",
       "      <td>0.65</td>\n",
       "      <td>0.64</td>\n",
       "      <td>0.46</td>\n",
       "      <td>0.70</td>\n",
       "      <td>...</td>\n",
       "      <td>0.0</td>\n",
       "      <td>0.0</td>\n",
       "      <td>1</td>\n",
       "      <td>7.73</td>\n",
       "      <td>1</td>\n",
       "      <td>7.03</td>\n",
       "      <td>8.73</td>\n",
       "      <td>0.95</td>\n",
       "      <td>0.2</td>\n",
       "      <td>2</td>\n",
       "    </tr>\n",
       "  </tbody>\n",
       "</table>\n",
       "<p>2 rows × 22 columns</p>\n",
       "</div>"
      ],
      "text/plain": [
       "     p1    p2    p3    p4    p5    p6    p7    p8    p9   p10  ...  p13  p14  \\\n",
       "0  0.71  0.89  0.74  0.71  0.48  0.89  0.77  0.52  0.50  0.48  ...  0.0  0.0   \n",
       "1  0.93  0.92  0.91  0.86  0.41  0.78  0.65  0.64  0.46  0.70  ...  0.0  0.0   \n",
       "\n",
       "   s   sum  count  result  plus  test  test2  diff  \n",
       "0  1  7.11      1    6.46  8.11  0.87    0.2     2  \n",
       "1  1  7.73      1    7.03  8.73  0.95    0.2     2  \n",
       "\n",
       "[2 rows x 22 columns]"
      ]
     },
     "execution_count": 22,
     "metadata": {},
     "output_type": "execute_result"
    }
   ],
   "source": [
    "X.head(2)"
   ]
  },
  {
   "cell_type": "code",
   "execution_count": 23,
   "metadata": {},
   "outputs": [],
   "source": [
    "#importing libraries from sklearn\n",
    "from sklearn import tree\n",
    "#from sklearn.datasets import make_classification\n",
    "#from sklearn.decomposition import PCA\n",
    "#from sklearn.discriminant_analysis import QuadraticDiscriminantAnalysis\n",
    "#from sklearn import model_selection\n",
    "from sklearn.model_selection import train_test_split\n",
    "#from sklearn.preprocessing import StandardScaler, MinMaxScaler#,Imputer\n",
    "from sklearn import metrics\n",
    "\n",
    "# import algorithm modules\n",
    "from sklearn import svm\n",
    "from sklearn.ensemble import RandomForestClassifier#, AdaBoostClassifier, VotingClassifier, BaggingClassifier\n",
    "from sklearn.metrics import accuracy_score\n",
    "#from sklearn.neighbors import KNeighborsClassifier\n",
    "#from sklearn.svm import SVC\n",
    "#from sklearn.tree import DecisionTreeClassifier"
   ]
  },
  {
   "cell_type": "code",
   "execution_count": 24,
   "metadata": {},
   "outputs": [],
   "source": [
    "X_train, X_test, y_train, y_test = train_test_split(X, y, test_size=0.2)"
   ]
  },
  {
   "cell_type": "code",
   "execution_count": 25,
   "metadata": {},
   "outputs": [],
   "source": [
    "from sklearn.metrics import precision_recall_fscore_support as score"
   ]
  },
  {
   "cell_type": "code",
   "execution_count": 26,
   "metadata": {},
   "outputs": [],
   "source": [
    "a=[]"
   ]
  },
  {
   "cell_type": "code",
   "execution_count": 27,
   "metadata": {},
   "outputs": [],
   "source": [
    "def train_rf(n_est, depth):\n",
    "    rf = RandomForestClassifier(n_estimators=n_est,\n",
    "                                max_depth=depth,\n",
    "                                min_samples_leaf = 5,\n",
    "                                min_samples_split = 12,\n",
    "                                n_jobs=-1)\n",
    "    rf_model = rf.fit(X_train,y_train)\n",
    "    y_pred = rf_model.predict(X_test)\n",
    "    precision, recall, fscore, support = score(y_test, y_pred,average='macro') # pass the y labels to the score, the predicted, positive label; what we are predicting\n",
    "    a.append([n_est,depth,round(precision, 3),round(recall, 3),round((y_pred==y_test).sum() / len(y_pred),3)])\n",
    "    print(f'EST: {n_est} / depth: {depth} /precision: {round(precision, 3)} / recall: {round(recall, 3)} / accuracy: {round((y_pred==y_test).sum() / len(y_pred),3)}')"
   ]
  },
  {
   "cell_type": "code",
   "execution_count": 27,
   "metadata": {},
   "outputs": [
    {
     "name": "stdout",
     "output_type": "stream",
     "text": [
      "EST: 10 / depth: 10 /precision: 0.521 / recall: 0.542 / accuracy: 0.611\n",
      "EST: 10 / depth: 20 /precision: 0.554 / recall: 0.562 / accuracy: 0.623\n",
      "EST: 10 / depth: 80 /precision: 0.535 / recall: 0.551 / accuracy: 0.611\n",
      "EST: 10 / depth: None /precision: 0.514 / recall: 0.54 / accuracy: 0.606\n",
      "EST: 50 / depth: 10 /precision: 0.519 / recall: 0.554 / accuracy: 0.628\n",
      "EST: 50 / depth: 20 /precision: 0.528 / recall: 0.551 / accuracy: 0.619\n",
      "EST: 50 / depth: 80 /precision: 0.518 / recall: 0.544 / accuracy: 0.614\n",
      "EST: 50 / depth: None /precision: 0.537 / recall: 0.555 / accuracy: 0.621\n",
      "EST: 100 / depth: 10 /precision: 0.523 / recall: 0.557 / accuracy: 0.633\n",
      "EST: 100 / depth: 20 /precision: 0.536 / recall: 0.555 / accuracy: 0.624\n",
      "EST: 100 / depth: 80 /precision: 0.511 / recall: 0.549 / accuracy: 0.621\n",
      "EST: 100 / depth: None /precision: 0.52 / recall: 0.55 / accuracy: 0.62\n",
      "EST: 200 / depth: 10 /precision: 0.551 / recall: 0.564 / accuracy: 0.638\n",
      "EST: 200 / depth: 20 /precision: 0.527 / recall: 0.55 / accuracy: 0.62\n",
      "EST: 200 / depth: 80 /precision: 0.527 / recall: 0.555 / accuracy: 0.625\n",
      "EST: 200 / depth: None /precision: 0.522 / recall: 0.551 / accuracy: 0.621\n"
     ]
    }
   ],
   "source": [
    "for n_est in [10,50,100,200]:\n",
    "    for depth in [10,20,80,None]:\n",
    "        train_rf(n_est,depth)"
   ]
  },
  {
   "cell_type": "code",
   "execution_count": 28,
   "metadata": {},
   "outputs": [
    {
     "data": {
      "text/html": [
       "<div>\n",
       "<style scoped>\n",
       "    .dataframe tbody tr th:only-of-type {\n",
       "        vertical-align: middle;\n",
       "    }\n",
       "\n",
       "    .dataframe tbody tr th {\n",
       "        vertical-align: top;\n",
       "    }\n",
       "\n",
       "    .dataframe thead th {\n",
       "        text-align: right;\n",
       "    }\n",
       "</style>\n",
       "<table border=\"1\" class=\"dataframe\">\n",
       "  <thead>\n",
       "    <tr style=\"text-align: right;\">\n",
       "      <th></th>\n",
       "      <th>estimators</th>\n",
       "      <th>depth</th>\n",
       "      <th>precision</th>\n",
       "      <th>recall</th>\n",
       "      <th>score</th>\n",
       "    </tr>\n",
       "  </thead>\n",
       "  <tbody>\n",
       "    <tr>\n",
       "      <th>12</th>\n",
       "      <td>200</td>\n",
       "      <td>10.0</td>\n",
       "      <td>0.551</td>\n",
       "      <td>0.564</td>\n",
       "      <td>0.638</td>\n",
       "    </tr>\n",
       "    <tr>\n",
       "      <th>8</th>\n",
       "      <td>100</td>\n",
       "      <td>10.0</td>\n",
       "      <td>0.523</td>\n",
       "      <td>0.557</td>\n",
       "      <td>0.633</td>\n",
       "    </tr>\n",
       "    <tr>\n",
       "      <th>4</th>\n",
       "      <td>50</td>\n",
       "      <td>10.0</td>\n",
       "      <td>0.519</td>\n",
       "      <td>0.554</td>\n",
       "      <td>0.628</td>\n",
       "    </tr>\n",
       "    <tr>\n",
       "      <th>14</th>\n",
       "      <td>200</td>\n",
       "      <td>80.0</td>\n",
       "      <td>0.527</td>\n",
       "      <td>0.555</td>\n",
       "      <td>0.625</td>\n",
       "    </tr>\n",
       "    <tr>\n",
       "      <th>9</th>\n",
       "      <td>100</td>\n",
       "      <td>20.0</td>\n",
       "      <td>0.536</td>\n",
       "      <td>0.555</td>\n",
       "      <td>0.624</td>\n",
       "    </tr>\n",
       "    <tr>\n",
       "      <th>1</th>\n",
       "      <td>10</td>\n",
       "      <td>20.0</td>\n",
       "      <td>0.554</td>\n",
       "      <td>0.562</td>\n",
       "      <td>0.623</td>\n",
       "    </tr>\n",
       "    <tr>\n",
       "      <th>7</th>\n",
       "      <td>50</td>\n",
       "      <td>NaN</td>\n",
       "      <td>0.537</td>\n",
       "      <td>0.555</td>\n",
       "      <td>0.621</td>\n",
       "    </tr>\n",
       "    <tr>\n",
       "      <th>15</th>\n",
       "      <td>200</td>\n",
       "      <td>NaN</td>\n",
       "      <td>0.522</td>\n",
       "      <td>0.551</td>\n",
       "      <td>0.621</td>\n",
       "    </tr>\n",
       "    <tr>\n",
       "      <th>10</th>\n",
       "      <td>100</td>\n",
       "      <td>80.0</td>\n",
       "      <td>0.511</td>\n",
       "      <td>0.549</td>\n",
       "      <td>0.621</td>\n",
       "    </tr>\n",
       "    <tr>\n",
       "      <th>13</th>\n",
       "      <td>200</td>\n",
       "      <td>20.0</td>\n",
       "      <td>0.527</td>\n",
       "      <td>0.550</td>\n",
       "      <td>0.620</td>\n",
       "    </tr>\n",
       "    <tr>\n",
       "      <th>11</th>\n",
       "      <td>100</td>\n",
       "      <td>NaN</td>\n",
       "      <td>0.520</td>\n",
       "      <td>0.550</td>\n",
       "      <td>0.620</td>\n",
       "    </tr>\n",
       "    <tr>\n",
       "      <th>5</th>\n",
       "      <td>50</td>\n",
       "      <td>20.0</td>\n",
       "      <td>0.528</td>\n",
       "      <td>0.551</td>\n",
       "      <td>0.619</td>\n",
       "    </tr>\n",
       "    <tr>\n",
       "      <th>6</th>\n",
       "      <td>50</td>\n",
       "      <td>80.0</td>\n",
       "      <td>0.518</td>\n",
       "      <td>0.544</td>\n",
       "      <td>0.614</td>\n",
       "    </tr>\n",
       "    <tr>\n",
       "      <th>2</th>\n",
       "      <td>10</td>\n",
       "      <td>80.0</td>\n",
       "      <td>0.535</td>\n",
       "      <td>0.551</td>\n",
       "      <td>0.611</td>\n",
       "    </tr>\n",
       "    <tr>\n",
       "      <th>0</th>\n",
       "      <td>10</td>\n",
       "      <td>10.0</td>\n",
       "      <td>0.521</td>\n",
       "      <td>0.542</td>\n",
       "      <td>0.611</td>\n",
       "    </tr>\n",
       "    <tr>\n",
       "      <th>3</th>\n",
       "      <td>10</td>\n",
       "      <td>NaN</td>\n",
       "      <td>0.514</td>\n",
       "      <td>0.540</td>\n",
       "      <td>0.606</td>\n",
       "    </tr>\n",
       "  </tbody>\n",
       "</table>\n",
       "</div>"
      ],
      "text/plain": [
       "    estimators  depth  precision  recall  score\n",
       "12         200   10.0      0.551   0.564  0.638\n",
       "8          100   10.0      0.523   0.557  0.633\n",
       "4           50   10.0      0.519   0.554  0.628\n",
       "14         200   80.0      0.527   0.555  0.625\n",
       "9          100   20.0      0.536   0.555  0.624\n",
       "1           10   20.0      0.554   0.562  0.623\n",
       "7           50    NaN      0.537   0.555  0.621\n",
       "15         200    NaN      0.522   0.551  0.621\n",
       "10         100   80.0      0.511   0.549  0.621\n",
       "13         200   20.0      0.527   0.550  0.620\n",
       "11         100    NaN      0.520   0.550  0.620\n",
       "5           50   20.0      0.528   0.551  0.619\n",
       "6           50   80.0      0.518   0.544  0.614\n",
       "2           10   80.0      0.535   0.551  0.611\n",
       "0           10   10.0      0.521   0.542  0.611\n",
       "3           10    NaN      0.514   0.540  0.606"
      ]
     },
     "execution_count": 28,
     "metadata": {},
     "output_type": "execute_result"
    }
   ],
   "source": [
    "final = pd.DataFrame(a,columns=['estimators','depth','precision','recall','score'])\n",
    "final.sort_values(by=['score','recall','precision'],ascending=False)"
   ]
  },
  {
   "cell_type": "markdown",
   "metadata": {},
   "source": [
    "y_pred==y_test checks the list to see if this is true, then outputs False or True, sum() will add it up and then we divide by the length\n",
    "\n",
    "precission - when it does identify spam, it is 100% correct\n",
    "recall - of the spam that enters the mailbox, only 52% is placed in the spam filter box\n",
    "accuracy - identifies mail as spam or ham\n",
    "\n",
    "that missed 48% is not that great"
   ]
  },
  {
   "cell_type": "code",
   "execution_count": 29,
   "metadata": {},
   "outputs": [],
   "source": [
    "#Random Forest Regression\n",
    "def forestRegression_1(x,y):\n",
    "    model = RandomForestClassifier(n_estimators = 200,\n",
    "                                   min_samples_leaf = 5,\n",
    "                                   min_samples_split = 12,\n",
    "                                   random_state = 0,\n",
    "                                   max_depth = 20,\n",
    "                                   n_jobs=-1)\n",
    "    model.fit(x, y)\n",
    "    return model\n",
    "\n",
    "rf = forestRegression_1(X_train, y_train)"
   ]
  },
  {
   "cell_type": "code",
   "execution_count": 30,
   "metadata": {},
   "outputs": [],
   "source": [
    "def check(a,b):\n",
    "    if a == b:\n",
    "        result = '<'\n",
    "    else:\n",
    "        result = '-'\n",
    "    return result"
   ]
  },
  {
   "cell_type": "code",
   "execution_count": 31,
   "metadata": {},
   "outputs": [
    {
     "name": "stdout",
     "output_type": "stream",
     "text": [
      "Random Forest 0.77\n"
     ]
    }
   ],
   "source": [
    "print('Random Forest',round(rf.score(X_train, y_train),2))"
   ]
  },
  {
   "cell_type": "code",
   "execution_count": 32,
   "metadata": {},
   "outputs": [],
   "source": [
    "def print_pred_results(model,result,num):\n",
    "    print('model : ', result, check(result,y_test.loc[num]))\n",
    "\n",
    "def predictionTest(num,model1,model2):\n",
    "    p = X_test.loc[num].tolist()\n",
    "    result1 = model1.predict([p]).flatten()\n",
    "    print('\\nActual       : ',y_test.loc[num])\n",
    "    print_pred_results(model1,result1,num)"
   ]
  },
  {
   "cell_type": "code",
   "execution_count": 33,
   "metadata": {},
   "outputs": [],
   "source": [
    "def cycle_prob_test(num,model):\n",
    "    p = X_test.loc[num].tolist()\n",
    "    e = model.predict_proba([p]).flatten()\n",
    "    return e.tolist()\n",
    "\n",
    "def cycle_pred_test(num,model):\n",
    "    p = X_test.loc[num].tolist()\n",
    "    e = model.predict([p]).flatten()\n",
    "    if e[0] == y_test.loc[num]:\n",
    "        a = 1\n",
    "    else:\n",
    "        a = 0\n",
    "    return a\n",
    "\n",
    "def model_pred_test(model):\n",
    "    pred = []\n",
    "    prob = []\n",
    "    numbers = X_test.index\n",
    "    random_nums = random.choices(numbers, k=50)\n",
    "    for i in random_nums:\n",
    "        pred.append(cycle_pred_test(i,model)) # check to see if the values are correct and score it\n",
    "        #prob.append(cycle_prob_test(i,model))\n",
    "    dz = pd.DataFrame(pred)\n",
    "    #df = pd.DataFrame(prob)\n",
    "    c = str(float(dz.sum().values / 50))\n",
    "    return c\n",
    "    #print('score :',c)"
   ]
  },
  {
   "cell_type": "code",
   "execution_count": 34,
   "metadata": {},
   "outputs": [
    {
     "name": "stdout",
     "output_type": "stream",
     "text": [
      "0.56\n"
     ]
    }
   ],
   "source": [
    "print(model_pred_test(rf))"
   ]
  },
  {
   "cell_type": "code",
   "execution_count": 35,
   "metadata": {},
   "outputs": [],
   "source": [
    "test_results = pd.DataFrame(index=range(10),columns=['Random Forest'])\n",
    "test_results = test_results.fillna(0.0)"
   ]
  },
  {
   "cell_type": "code",
   "execution_count": 36,
   "metadata": {},
   "outputs": [],
   "source": [
    "for i in range(10):\n",
    "    r_s = model_pred_test(rf)\n",
    "    test_results.at[i,'Random Forest'] = r_s"
   ]
  },
  {
   "cell_type": "code",
   "execution_count": 37,
   "metadata": {},
   "outputs": [
    {
     "data": {
      "text/html": [
       "<div>\n",
       "<style scoped>\n",
       "    .dataframe tbody tr th:only-of-type {\n",
       "        vertical-align: middle;\n",
       "    }\n",
       "\n",
       "    .dataframe tbody tr th {\n",
       "        vertical-align: top;\n",
       "    }\n",
       "\n",
       "    .dataframe thead th {\n",
       "        text-align: right;\n",
       "    }\n",
       "</style>\n",
       "<table border=\"1\" class=\"dataframe\">\n",
       "  <thead>\n",
       "    <tr style=\"text-align: right;\">\n",
       "      <th></th>\n",
       "      <th>Random Forest</th>\n",
       "    </tr>\n",
       "  </thead>\n",
       "  <tbody>\n",
       "    <tr>\n",
       "      <th>count</th>\n",
       "      <td>10.000000</td>\n",
       "    </tr>\n",
       "    <tr>\n",
       "      <th>mean</th>\n",
       "      <td>0.644000</td>\n",
       "    </tr>\n",
       "    <tr>\n",
       "      <th>std</th>\n",
       "      <td>0.069154</td>\n",
       "    </tr>\n",
       "    <tr>\n",
       "      <th>min</th>\n",
       "      <td>0.540000</td>\n",
       "    </tr>\n",
       "    <tr>\n",
       "      <th>25%</th>\n",
       "      <td>0.600000</td>\n",
       "    </tr>\n",
       "    <tr>\n",
       "      <th>50%</th>\n",
       "      <td>0.630000</td>\n",
       "    </tr>\n",
       "    <tr>\n",
       "      <th>75%</th>\n",
       "      <td>0.695000</td>\n",
       "    </tr>\n",
       "    <tr>\n",
       "      <th>max</th>\n",
       "      <td>0.760000</td>\n",
       "    </tr>\n",
       "  </tbody>\n",
       "</table>\n",
       "</div>"
      ],
      "text/plain": [
       "       Random Forest\n",
       "count      10.000000\n",
       "mean        0.644000\n",
       "std         0.069154\n",
       "min         0.540000\n",
       "25%         0.600000\n",
       "50%         0.630000\n",
       "75%         0.695000\n",
       "max         0.760000"
      ]
     },
     "execution_count": 37,
     "metadata": {},
     "output_type": "execute_result"
    }
   ],
   "source": [
    "test_results.describe()"
   ]
  },
  {
   "cell_type": "code",
   "execution_count": 39,
   "metadata": {},
   "outputs": [],
   "source": [
    "import pickle\n",
    "filename = 'models/cpl_roster_classifier_new.sav'\n",
    "pickle.dump(rf, open(filename, 'wb'))"
   ]
  },
  {
   "cell_type": "code",
   "execution_count": 40,
   "metadata": {},
   "outputs": [],
   "source": [
    "cpl_classifier_model = pickle.load(open(filename, 'rb'))"
   ]
  },
  {
   "cell_type": "code",
   "execution_count": 41,
   "metadata": {},
   "outputs": [
    {
     "name": "stdout",
     "output_type": "stream",
     "text": [
      "HFX Wanderers FC Valour FC\n"
     ]
    },
    {
     "name": "stderr",
     "output_type": "stream",
     "text": [
      "/home/todd/anaconda3/lib/python3.7/site-packages/pandas/core/ops/array_ops.py:253: FutureWarning: elementwise comparison failed; returning scalar instead, but in the future will perform elementwise comparison\n",
      "  res_values = method(rvalues)\n"
     ]
    },
    {
     "ename": "IndexError",
     "evalue": "index 0 is out of bounds for axis 0 with size 0",
     "output_type": "error",
     "traceback": [
      "\u001b[0;31m---------------------------------------------------------------------------\u001b[0m",
      "\u001b[0;31mIndexError\u001b[0m                                Traceback (most recent call last)",
      "\u001b[0;32m<ipython-input-41-489f3cf8b46d>\u001b[0m in \u001b[0;36m<module>\u001b[0;34m\u001b[0m\n\u001b[1;32m     30\u001b[0m \u001b[0mgame_a\u001b[0m \u001b[0;34m=\u001b[0m \u001b[0mcpl\u001b[0m\u001b[0;34m.\u001b[0m\u001b[0mget_home_away_comparison\u001b[0m\u001b[0;34m(\u001b[0m\u001b[0mstats\u001b[0m\u001b[0;34m,\u001b[0m\u001b[0mgame\u001b[0m\u001b[0;34m,\u001b[0m\u001b[0mq2\u001b[0m\u001b[0;34m)\u001b[0m\u001b[0;34m\u001b[0m\u001b[0;34m\u001b[0m\u001b[0m\n\u001b[1;32m     31\u001b[0m \u001b[0;34m\u001b[0m\u001b[0m\n\u001b[0;32m---> 32\u001b[0;31m \u001b[0mh1_roster\u001b[0m \u001b[0;34m=\u001b[0m \u001b[0mcpl\u001b[0m\u001b[0;34m.\u001b[0m\u001b[0mget_compare_roster\u001b[0m\u001b[0;34m(\u001b[0m\u001b[0mresults\u001b[0m\u001b[0;34m,\u001b[0m\u001b[0mq1\u001b[0m\u001b[0;34m,\u001b[0m\u001b[0mteam_stats\u001b[0m\u001b[0;34m,\u001b[0m\u001b[0mteam_ref\u001b[0m\u001b[0;34m,\u001b[0m\u001b[0mrated_forwards\u001b[0m\u001b[0;34m,\u001b[0m\u001b[0mrated_midfielders\u001b[0m\u001b[0;34m,\u001b[0m\u001b[0mrated_defenders\u001b[0m\u001b[0;34m,\u001b[0m\u001b[0mrated_keepers\u001b[0m\u001b[0;34m,\u001b[0m\u001b[0mplayer_info\u001b[0m\u001b[0;34m)\u001b[0m\u001b[0;34m\u001b[0m\u001b[0;34m\u001b[0m\u001b[0m\n\u001b[0m\u001b[1;32m     33\u001b[0m \u001b[0mh2_roster\u001b[0m \u001b[0;34m=\u001b[0m \u001b[0mcpl\u001b[0m\u001b[0;34m.\u001b[0m\u001b[0mget_compare_roster\u001b[0m\u001b[0;34m(\u001b[0m\u001b[0mresults\u001b[0m\u001b[0;34m,\u001b[0m\u001b[0mq2\u001b[0m\u001b[0;34m,\u001b[0m\u001b[0mteam_stats\u001b[0m\u001b[0;34m,\u001b[0m\u001b[0mteam_ref\u001b[0m\u001b[0;34m,\u001b[0m\u001b[0mrated_forwards\u001b[0m\u001b[0;34m,\u001b[0m\u001b[0mrated_midfielders\u001b[0m\u001b[0;34m,\u001b[0m\u001b[0mrated_defenders\u001b[0m\u001b[0;34m,\u001b[0m\u001b[0mrated_keepers\u001b[0m\u001b[0;34m,\u001b[0m\u001b[0mplayer_info\u001b[0m\u001b[0;34m)\u001b[0m\u001b[0;34m\u001b[0m\u001b[0;34m\u001b[0m\u001b[0m\n\u001b[1;32m     34\u001b[0m \u001b[0;34m\u001b[0m\u001b[0m\n",
      "\u001b[0;32m~/Documents/git/canpl-es/cpl_main.py\u001b[0m in \u001b[0;36mget_compare_roster\u001b[0;34m(results, query, stats, team_ref, rated_forwards, rated_midfielders, rated_defenders, rated_keepers, player_info)\u001b[0m\n\u001b[1;32m    771\u001b[0m \u001b[0;34m\u001b[0m\u001b[0m\n\u001b[1;32m    772\u001b[0m \u001b[0;32mdef\u001b[0m \u001b[0mget_compare_roster\u001b[0m\u001b[0;34m(\u001b[0m\u001b[0mresults\u001b[0m\u001b[0;34m,\u001b[0m\u001b[0mquery\u001b[0m\u001b[0;34m,\u001b[0m\u001b[0mstats\u001b[0m\u001b[0;34m,\u001b[0m\u001b[0mteam_ref\u001b[0m\u001b[0;34m,\u001b[0m\u001b[0mrated_forwards\u001b[0m\u001b[0;34m,\u001b[0m\u001b[0mrated_midfielders\u001b[0m\u001b[0;34m,\u001b[0m\u001b[0mrated_defenders\u001b[0m\u001b[0;34m,\u001b[0m\u001b[0mrated_keepers\u001b[0m\u001b[0;34m,\u001b[0m\u001b[0mplayer_info\u001b[0m\u001b[0;34m)\u001b[0m\u001b[0;34m:\u001b[0m\u001b[0;34m\u001b[0m\u001b[0;34m\u001b[0m\u001b[0m\n\u001b[0;32m--> 773\u001b[0;31m     \u001b[0mroster\u001b[0m \u001b[0;34m=\u001b[0m \u001b[0mget_roster_overall\u001b[0m\u001b[0;34m(\u001b[0m\u001b[0mquery\u001b[0m\u001b[0;34m,\u001b[0m\u001b[0mstats\u001b[0m\u001b[0;34m,\u001b[0m\u001b[0mteam_ref\u001b[0m\u001b[0;34m,\u001b[0m\u001b[0mrated_forwards\u001b[0m\u001b[0;34m,\u001b[0m\u001b[0mrated_midfielders\u001b[0m\u001b[0;34m,\u001b[0m\u001b[0mrated_defenders\u001b[0m\u001b[0;34m,\u001b[0m\u001b[0mrated_keepers\u001b[0m\u001b[0;34m,\u001b[0m\u001b[0mplayer_info\u001b[0m\u001b[0;34m)\u001b[0m\u001b[0;34m\u001b[0m\u001b[0;34m\u001b[0m\u001b[0m\n\u001b[0m\u001b[1;32m    774\u001b[0m     \u001b[0;32mdef\u001b[0m \u001b[0mget_player\u001b[0m\u001b[0;34m(\u001b[0m\u001b[0mdata\u001b[0m\u001b[0;34m,\u001b[0m\u001b[0mstring\u001b[0m\u001b[0;34m)\u001b[0m\u001b[0;34m:\u001b[0m\u001b[0;34m\u001b[0m\u001b[0;34m\u001b[0m\u001b[0m\n\u001b[1;32m    775\u001b[0m         \u001b[0mdz\u001b[0m \u001b[0;34m=\u001b[0m \u001b[0mdata\u001b[0m\u001b[0;34m[\u001b[0m\u001b[0mdata\u001b[0m\u001b[0;34m[\u001b[0m\u001b[0;34m'position'\u001b[0m\u001b[0;34m]\u001b[0m \u001b[0;34m==\u001b[0m \u001b[0mstring\u001b[0m\u001b[0;34m]\u001b[0m\u001b[0;34m\u001b[0m\u001b[0;34m\u001b[0m\u001b[0m\n",
      "\u001b[0;32m~/Documents/git/canpl-es/cpl_main.py\u001b[0m in \u001b[0;36mget_roster_overall\u001b[0;34m(query, stats, team_ref, rated_forwards, rated_midfielders, rated_defenders, rated_keepers, player_info)\u001b[0m\n\u001b[1;32m    739\u001b[0m             \u001b[0me\u001b[0m\u001b[0;34m.\u001b[0m\u001b[0mappend\u001b[0m\u001b[0;34m(\u001b[0m\u001b[0mget_name\u001b[0m\u001b[0;34m(\u001b[0m\u001b[0mplayer_info\u001b[0m\u001b[0;34m,\u001b[0m\u001b[0mroster\u001b[0m\u001b[0;34m.\u001b[0m\u001b[0miloc\u001b[0m\u001b[0;34m[\u001b[0m\u001b[0mi\u001b[0m\u001b[0;34m]\u001b[0m\u001b[0;34m[\u001b[0m\u001b[0;34m'name'\u001b[0m\u001b[0;34m]\u001b[0m\u001b[0;34m)\u001b[0m\u001b[0;34m)\u001b[0m\u001b[0;34m\u001b[0m\u001b[0;34m\u001b[0m\u001b[0m\n\u001b[1;32m    740\u001b[0m         \u001b[0;32mif\u001b[0m \u001b[0mroster\u001b[0m\u001b[0;34m.\u001b[0m\u001b[0miloc\u001b[0m\u001b[0;34m[\u001b[0m\u001b[0mi\u001b[0m\u001b[0;34m]\u001b[0m\u001b[0;34m[\u001b[0m\u001b[0;34m'position'\u001b[0m\u001b[0;34m]\u001b[0m \u001b[0;34m==\u001b[0m \u001b[0;34m'd'\u001b[0m\u001b[0;34m:\u001b[0m\u001b[0;34m\u001b[0m\u001b[0;34m\u001b[0m\u001b[0m\n\u001b[0;32m--> 741\u001b[0;31m             \u001b[0mscore\u001b[0m \u001b[0;34m=\u001b[0m \u001b[0mstr\u001b[0m\u001b[0;34m(\u001b[0m\u001b[0mget_score\u001b[0m\u001b[0;34m(\u001b[0m\u001b[0mrated_defenders\u001b[0m\u001b[0;34m,\u001b[0m\u001b[0mroster\u001b[0m\u001b[0;34m.\u001b[0m\u001b[0miloc\u001b[0m\u001b[0;34m[\u001b[0m\u001b[0mi\u001b[0m\u001b[0;34m]\u001b[0m\u001b[0;34m[\u001b[0m\u001b[0;34m'name'\u001b[0m\u001b[0;34m]\u001b[0m\u001b[0;34m)\u001b[0m\u001b[0;34m)\u001b[0m\u001b[0;34m\u001b[0m\u001b[0;34m\u001b[0m\u001b[0m\n\u001b[0m\u001b[1;32m    742\u001b[0m             \u001b[0ma\u001b[0m\u001b[0;34m.\u001b[0m\u001b[0mappend\u001b[0m\u001b[0;34m(\u001b[0m\u001b[0mscore\u001b[0m\u001b[0;34m[\u001b[0m\u001b[0;36m0\u001b[0m\u001b[0;34m:\u001b[0m\u001b[0;36m4\u001b[0m\u001b[0;34m]\u001b[0m\u001b[0;34m)\u001b[0m\u001b[0;34m\u001b[0m\u001b[0;34m\u001b[0m\u001b[0m\n\u001b[1;32m    743\u001b[0m             \u001b[0mb\u001b[0m\u001b[0;34m.\u001b[0m\u001b[0mappend\u001b[0m\u001b[0;34m(\u001b[0m\u001b[0mget_image\u001b[0m\u001b[0;34m(\u001b[0m\u001b[0mplayer_info\u001b[0m\u001b[0;34m,\u001b[0m\u001b[0mroster\u001b[0m\u001b[0;34m.\u001b[0m\u001b[0miloc\u001b[0m\u001b[0;34m[\u001b[0m\u001b[0mi\u001b[0m\u001b[0;34m]\u001b[0m\u001b[0;34m[\u001b[0m\u001b[0;34m'name'\u001b[0m\u001b[0;34m]\u001b[0m\u001b[0;34m)\u001b[0m\u001b[0;34m)\u001b[0m\u001b[0;34m\u001b[0m\u001b[0;34m\u001b[0m\u001b[0m\n",
      "\u001b[0;32m~/Documents/git/canpl-es/cpl_main.py\u001b[0m in \u001b[0;36mget_score\u001b[0;34m(data, name)\u001b[0m\n\u001b[1;32m    686\u001b[0m         \u001b[0mdb\u001b[0m \u001b[0;34m=\u001b[0m \u001b[0mdata\u001b[0m\u001b[0;34m[\u001b[0m\u001b[0mdata\u001b[0m\u001b[0;34m[\u001b[0m\u001b[0;34m'name'\u001b[0m\u001b[0;34m]\u001b[0m \u001b[0;34m==\u001b[0m \u001b[0mname\u001b[0m\u001b[0;34m]\u001b[0m\u001b[0;34m\u001b[0m\u001b[0;34m\u001b[0m\u001b[0m\n\u001b[1;32m    687\u001b[0m         \u001b[0;32mif\u001b[0m \u001b[0mdb\u001b[0m\u001b[0;34m.\u001b[0m\u001b[0mempty\u001b[0m\u001b[0;34m:\u001b[0m\u001b[0;34m\u001b[0m\u001b[0;34m\u001b[0m\u001b[0m\n\u001b[0;32m--> 688\u001b[0;31m             \u001b[0mprevious\u001b[0m \u001b[0;34m=\u001b[0m \u001b[0mplayer_info\u001b[0m\u001b[0;34m[\u001b[0m\u001b[0mplayer_info\u001b[0m\u001b[0;34m[\u001b[0m\u001b[0;34m'name'\u001b[0m\u001b[0;34m]\u001b[0m \u001b[0;34m==\u001b[0m \u001b[0mname\u001b[0m\u001b[0;34m]\u001b[0m\u001b[0;34m[\u001b[0m\u001b[0;34m'overall'\u001b[0m\u001b[0;34m]\u001b[0m\u001b[0;34m.\u001b[0m\u001b[0mvalues\u001b[0m\u001b[0;34m[\u001b[0m\u001b[0;36m0\u001b[0m\u001b[0;34m]\u001b[0m\u001b[0;34m\u001b[0m\u001b[0;34m\u001b[0m\u001b[0m\n\u001b[0m\u001b[1;32m    689\u001b[0m             \u001b[0;32mif\u001b[0m \u001b[0mprevious\u001b[0m \u001b[0;32mis\u001b[0m \u001b[0;32mNone\u001b[0m\u001b[0;34m:\u001b[0m\u001b[0;34m\u001b[0m\u001b[0;34m\u001b[0m\u001b[0m\n\u001b[1;32m    690\u001b[0m                 \u001b[0mdb\u001b[0m \u001b[0;34m=\u001b[0m \u001b[0;36m0.0\u001b[0m\u001b[0;34m\u001b[0m\u001b[0;34m\u001b[0m\u001b[0m\n",
      "\u001b[0;31mIndexError\u001b[0m: index 0 is out of bounds for axis 0 with size 0"
     ]
    }
   ],
   "source": [
    "year = '2020'\n",
    "team_ref = pd.read_csv('datasets/teams.csv')\n",
    "results = pd.read_csv(f'datasets/{year}/cpl-{year}-results.csv')\n",
    "stats = pd.read_csv(f'datasets/{year}/cpl-{year}-stats.csv')\n",
    "player_info = pd.read_csv(f'datasets/{year}/player-{year}-info.csv')\n",
    "results_brief = pd.read_csv(f'datasets/{year}/cpl-{year}-results_brief.csv')\n",
    "team_stats = pd.read_csv(f'datasets/{year}/cpl-{year}-team_stats.csv')\n",
    "schedule = pd.read_csv(f'datasets/{year}/cpl-{year}-schedule.csv')\n",
    "rated_forwards = pd.read_csv(f'datasets/{year}/cpl-{year}-forwards.csv')\n",
    "rated_midfielders = pd.read_csv(f'datasets/{year}/cpl-{year}-midfielders.csv')\n",
    "rated_defenders = pd.read_csv(f'datasets/{year}/cpl-{year}-defenders.csv')\n",
    "rated_keepers = pd.read_csv(f'datasets/{year}/cpl-{year}-keepers.csv')\n",
    "\n",
    "# home side\n",
    "q1 = schedule.iloc[3]['home']\n",
    "# away side\n",
    "q2 = schedule.iloc[3]['away']\n",
    "print(q1,q2)\n",
    "\n",
    "compare = cpl.get_team_comparison(results_brief,q1,q2)\n",
    "\n",
    "t1_x, t1_y = cpl.get_NB_data(compare,q1)\n",
    "t2_x, t2_y = cpl.get_NB_data(compare,q2)\n",
    "\n",
    "game_info = schedule[schedule['home'] == q1]\n",
    "game_info = game_info[game_info['away'] == q2]\n",
    "\n",
    "game = game_info.iloc[0]['game']\n",
    "game_h = cpl.get_home_away_comparison(stats,game,q1)\n",
    "game_a = cpl.get_home_away_comparison(stats,game,q2)\n",
    "\n",
    "h1_roster = cpl.get_compare_roster(results,q1,team_stats,team_ref,rated_forwards,rated_midfielders,rated_defenders,rated_keepers,player_info)\n",
    "h2_roster = cpl.get_compare_roster(results,q2,team_stats,team_ref,rated_forwards,rated_midfielders,rated_defenders,rated_keepers,player_info)\n",
    "\n",
    "def get_overall_roster(game_roster):\n",
    "    b = []\n",
    "    for i in range(game_roster.shape[0]):\n",
    "        b.append(game_roster.iloc[i]['overall']) # get the player overall score for each player in the game\n",
    "    if len(b) < 16:\n",
    "        i = int(16 - len(b))\n",
    "        for j in range(0,i):\n",
    "            b.append(0)\n",
    "    db = pd.DataFrame(b[0:14])\n",
    "    db = db.T\n",
    "    return db\n",
    "\n",
    "q1_roster = get_overall_roster(h1_roster)\n",
    "print(q1_roster)\n",
    "\n",
    "q2_roster = get_overall_roster(h2_roster)\n",
    "print(q2_roster)\n",
    "\n",
    "def roster_pred(model,array):\n",
    "    prediction = model.predict_proba([array]).flatten()\n",
    "    df = pd.DataFrame(prediction)\n",
    "    #print('score :',prediction)\n",
    "    return df\n",
    "\n",
    "home_win, draw, away_win = cpl.get_match_prediction(q1,q2,t1_x,t1_y,t2_x,t2_y)\n",
    "\n",
    "home_win_new, away_win_new, draw_new = cpl.get_final_game_prediction(cpl_classifier_model,q1_roster,q2_roster,home_win,away_win,draw)\n",
    "\n",
    "print(q1,'\\nwin probability: ', round(home_win_new,2))\n",
    "\n",
    "print(q2,'\\nwin probability: ', round(away_win_new,2))\n",
    "\n",
    "print('Draw probability: ', round(draw_new,2))\n",
    "\n",
    "q1_prediction = roster_pred(cpl_classifier_model,q1_roster)\n",
    "q2_prediction = roster_pred(cpl_classifier_model,q2_roster)\n",
    "\n",
    "q_draw = (q1_prediction.iloc[1][0] + q2_prediction.iloc[2][0]) /2\n",
    "\n",
    "q1_p = round(q1_prediction.iloc[2][0],2)\n",
    "q2_p = round(q2_prediction.iloc[2][0],2)\n",
    "\n",
    "if q1_p > q2_p:\n",
    "    print(q1,'predicted to win ',q1_p)\n",
    "elif q2_p > q1_p:\n",
    "    print(q2,'predicted to win ',q2_p)\n",
    "else:\n",
    "    print('A Draw is predicted ',q1_p,' ',q2_p)\n",
    "\n",
    "total_ = q1_p + home_win + q2_p + away_win + q_draw + draw\n",
    "print(round((q1_p + home_win) / total_, 2))\n",
    "\n",
    "print(round((q2_p + away_win) / total_, 2))\n",
    "\n",
    "print(round((q_draw + draw) / total_, 2))\n",
    "\n",
    "def get_final_game_prediction(model,q1_roster,q2_roster,home_win,away_win,draw):\n",
    "    q1_prediction = roster_pred(model,q1_roster)\n",
    "    q1_p = round(q1_prediction.iloc[2][0],2)\n",
    "    q2_prediction = roster_pred(model,q2_roster)\n",
    "    q2_p = round(q2_prediction.iloc[2][0],2)\n",
    "    q_draw = (q1_prediction.iloc[1][0] + q2_prediction.iloc[2][0]) / 2\n",
    "    total_ = q1_p + home_win + q2_p + away_win + q_draw + draw\n",
    "    h_w = round((q1_p + home_win) / total_, 2)\n",
    "    a_w = round((q2_p + away_win) / total_, 2)\n",
    "    g_d = round((q_draw + draw) / total_, 2)\n",
    "    return h_w, a_w, g_d\n",
    "\n",
    "home_win_new, away_win_new, draw_new = get_final_game_prediction(cpl_classifier_model,q1_roster,q2_roster,home_win,away_win,draw)\n",
    "\n",
    "print('home win prob',home_win_new,'away win prob',away_win_new,'draw prob',draw_new)"
   ]
  },
  {
   "cell_type": "code",
   "execution_count": null,
   "metadata": {},
   "outputs": [],
   "source": []
  }
 ],
 "metadata": {
  "kernelspec": {
   "display_name": "Python 3",
   "language": "python",
   "name": "python3"
  },
  "language_info": {
   "codemirror_mode": {
    "name": "ipython",
    "version": 3
   },
   "file_extension": ".py",
   "mimetype": "text/x-python",
   "name": "python",
   "nbconvert_exporter": "python",
   "pygments_lexer": "ipython3",
   "version": "3.7.6"
  }
 },
 "nbformat": 4,
 "nbformat_minor": 4
}
