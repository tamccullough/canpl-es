{
 "cells": [
  {
   "cell_type": "code",
   "execution_count": 1,
   "metadata": {},
   "outputs": [],
   "source": [
    "import re\n",
    "import numpy as np\n",
    "import pandas as pd\n",
    "import cpl_main as cpl"
   ]
  },
  {
   "cell_type": "code",
   "execution_count": 2,
   "metadata": {},
   "outputs": [],
   "source": [
    "current_teams = pd.read_csv('datasets/teams.csv')\n",
    "year = '2019'\n",
    "if year == '2019':\n",
    "    current_teams = current_teams[1:]"
   ]
  },
  {
   "cell_type": "code",
   "execution_count": 3,
   "metadata": {},
   "outputs": [],
   "source": [
    "results = pd.read_csv(f'datasets/{year}/cpl-{year}-results.csv')\n",
    "stats = pd.read_csv(f'datasets/{year}/cpl-{year}-stats.csv')"
   ]
  },
  {
   "cell_type": "code",
   "execution_count": 4,
   "metadata": {},
   "outputs": [],
   "source": [
    "if year == '2019':\n",
    "    teams_short = ['CFC', 'FCE', 'FFC', 'HFX', 'PFC', 'VFC', 'Y9']\n",
    "    colours = ['w3-2019-fiesta', 'w3-2019-princess-blue', 'w3-2019-turmeric', 'w3-vivid-blue', 'w3-vivid-reddish-purple', 'w3-2019-biking-red', 'w3-vivid-yellowish-green']\n",
    "else:\n",
    "    teams_short = ['AO','CFC', 'FCE', 'FFC', 'HFX', 'PFC', 'VFC', 'Y9']\n",
    "    colours = ['w3-vivid-red','w3-2019-fiesta', 'w3-2019-princess-blue', 'w3-2019-turmeric', 'w3-vivid-blue', 'w3-vivid-reddish-purple', 'w3-2019-biking-red', 'w3-vivid-yellowish-green']"
   ]
  },
  {
   "cell_type": "code",
   "execution_count": 5,
   "metadata": {},
   "outputs": [],
   "source": [
    "team_ref = cpl.get_team_names(current_teams.name,teams_short,colours)\n",
    "results_brief = cpl.get_results_brief(results,team_ref)\n",
    "team_stats = cpl.get_stats_all(stats,team_ref)\n",
    "week_schedule = cpl.get_schedule(results)"
   ]
  },
  {
   "cell_type": "code",
   "execution_count": 6,
   "metadata": {},
   "outputs": [
    {
     "name": "stderr",
     "output_type": "stream",
     "text": [
      "/home/todd/Documents/v-envs/canples/canples/cpl_main.py:259: SettingWithCopyWarning: \n",
      "A value is trying to be set on a copy of a slice from a DataFrame.\n",
      "Try using .loc[row_indexer,col_indexer] = value instead\n",
      "\n",
      "See the caveats in the documentation: https://pandas.pydata.org/pandas-docs/stable/user_guide/indexing.html#returning-a-view-versus-a-copy\n",
      "  db['overall'] = 0.0 # create the final column overall\n"
     ]
    }
   ],
   "source": [
    "rated_forwards = cpl.top_forwards(team_stats)\n",
    "rated_midfielders = cpl.top_midfielders(team_stats)\n",
    "rated_defenders = cpl.top_defenders(team_stats)\n",
    "rated_keepers = cpl.top_keepers(team_stats)\n",
    "rated_offenders = cpl.top_offenders(team_stats)"
   ]
  },
  {
   "cell_type": "code",
   "execution_count": 7,
   "metadata": {},
   "outputs": [],
   "source": [
    "get_games = results['game']\n",
    "if year == '2019':\n",
    "    get_games = get_games[:-2]"
   ]
  },
  {
   "cell_type": "code",
   "execution_count": 8,
   "metadata": {},
   "outputs": [],
   "source": [
    "#array = cpl.get_game_roster_prediction(stats,get_games,rated_forwards,rated_midfielders,rated_defenders,rated_keepers,results,team_stats,team_ref)"
   ]
  },
  {
   "cell_type": "code",
   "execution_count": 68,
   "metadata": {},
   "outputs": [],
   "source": [
    "#db = pd.DataFrame(array,columns=['game','team','p1','p2','p3','p4','p5','p6','p7','p8','p9','p9','p10','p11','p12','p13','r'])"
   ]
  },
  {
   "cell_type": "code",
   "execution_count": 69,
   "metadata": {},
   "outputs": [
    {
     "data": {
      "text/plain": [
       "(196, 17)"
      ]
     },
     "execution_count": 69,
     "metadata": {},
     "output_type": "execute_result"
    }
   ],
   "source": [
    "#db.shape"
   ]
  },
  {
   "cell_type": "code",
   "execution_count": 15,
   "metadata": {},
   "outputs": [],
   "source": [
    "def pump_it_up(db):\n",
    "    df = db.copy()\n",
    "    dc = df.copy()\n",
    "    m = df['p1'].copy()\n",
    "    n = df['p2'].copy()\n",
    "    o = df['p3'].copy()\n",
    "    p = df['p4'].copy()\n",
    "    q = df['p5'].copy()\n",
    "    r = df['p6'].copy()\n",
    "    df['p1'] = dc.pop('p8')\n",
    "    df['p2'] = dc.pop('p10')\n",
    "    df['p3'] = dc.pop('p12')\n",
    "    df['p4'] = dc.pop('p9')\n",
    "    df['p5'] = dc.pop('p11')\n",
    "    df['p6'] = dc.pop('p13')\n",
    "    df['p7'] = m\n",
    "    df['p8'] = n\n",
    "    df['p9'] = o\n",
    "    df['p10'] = p\n",
    "    df['p11'] = q\n",
    "    df['p12'] = r\n",
    "    df['p13'] = dc.pop('p7')\n",
    "    dc = df.copy()\n",
    "    db = pd.concat([db,df])\n",
    "    df = dc.copy()\n",
    "    m = df['p13'].copy()\n",
    "    n = df['p12'].copy()\n",
    "    o = df['p11'].copy()\n",
    "    p = df['p10'].copy()\n",
    "    q = df['p9'].copy()\n",
    "    r = df['p8'].copy()\n",
    "    df['p13'] = dc.pop('p8')\n",
    "    df['p12'] = dc.pop('p10')\n",
    "    df['p11'] = dc.pop('p12')\n",
    "    df['p10'] = dc.pop('p9')\n",
    "    df['p9'] = dc.pop('p11')\n",
    "    df['p8'] = dc.pop('p13')\n",
    "    df['p7'] = m\n",
    "    df['p6'] = n\n",
    "    df['p5'] = o\n",
    "    df['p4'] = p\n",
    "    df['p3'] = q\n",
    "    df['p2'] = r\n",
    "    df['p1'] = dc.pop('p7')\n",
    "    #dc = df.copy()\n",
    "    db = pd.concat([db,df])\n",
    "    db = cpl.index_reset(db)\n",
    "    return db"
   ]
  },
  {
   "cell_type": "code",
   "execution_count": null,
   "metadata": {},
   "outputs": [],
   "source": [
    "def pump_it_up(db):\n",
    "    cols = ['p1','p2','p3','p4','p5','p6','p7','p8','p9','p10','p11','p12','p13']\n",
    "    np.random.shuffle(cols)\n",
    "    df = db.copy()\n",
    "    dc = df.copy()\n",
    "    m = df[cols[0]].copy()\n",
    "    n = df[cols[1]].copy()\n",
    "    o = df[cols[2]].copy()\n",
    "    p = df[cols[3]].copy()\n",
    "    q = df[cols[4]].copy()\n",
    "    r = df[cols[5]].copy()\n",
    "    df[cols[0]] = dc.pop(cols[7])\n",
    "    df[cols[1]] = dc.pop(cols[8])\n",
    "    df[cols[2]] = dc.pop(cols[9])\n",
    "    df[cols[3]] = dc.pop(cols[10])\n",
    "    df[cols[4]] = dc.pop(cols[11])\n",
    "    df[cols[5]] = dc.pop(cols[12])\n",
    "    df[cols[6]] = m\n",
    "    df[cols[7]] = n\n",
    "    df[cols[8]] = o\n",
    "    df[cols[9]] = p\n",
    "    df[cols[10]] = q\n",
    "    df[cols[11]] = r\n",
    "    df[cols[12]] = dc.pop(cols[6])\n",
    "    dc = df.copy()\n",
    "    db = pd.concat([db,df])\n",
    "    '''df = dc.copy()\n",
    "    np.random.shuffle(cols)\n",
    "    m = df[cols[0]].copy()\n",
    "    n = df[cols[1]].copy()\n",
    "    o = df[cols[2]].copy()\n",
    "    p = df[cols[3]].copy()\n",
    "    q = df[cols[4]].copy()\n",
    "    r = df[cols[5]].copy()\n",
    "    df[cols[0]] = dc.pop(cols[7])\n",
    "    df[cols[1]] = dc.pop(cols[8])\n",
    "    df[cols[2]] = dc.pop(cols[9])\n",
    "    df[cols[3]] = dc.pop(cols[10])\n",
    "    df[cols[4]] = dc.pop(cols[11])\n",
    "    df[cols[5]] = dc.pop(cols[12])\n",
    "    df[cols[6]] = m\n",
    "    df[cols[7]] = n\n",
    "    df[cols[8]] = o\n",
    "    df[cols[9]] = p\n",
    "    df[cols[10]] = q\n",
    "    df[cols[11]] = r\n",
    "    df[cols[12]] = dc.pop(cols[6])\n",
    "    #dc = df.copy()\n",
    "    db = pd.concat([db,df])'''\n",
    "    db = index_reset(db)\n",
    "    return db"
   ]
  },
  {
   "cell_type": "code",
   "execution_count": 16,
   "metadata": {},
   "outputs": [
    {
     "data": {
      "text/plain": [
       "(588, 17)"
      ]
     },
     "execution_count": 16,
     "metadata": {},
     "output_type": "execute_result"
    }
   ],
   "source": [
    "df = pump_it_up(db)\n",
    "df.shape"
   ]
  },
  {
   "cell_type": "code",
   "execution_count": 17,
   "metadata": {},
   "outputs": [
    {
     "data": {
      "text/plain": [
       "(1764, 17)"
      ]
     },
     "execution_count": 17,
     "metadata": {},
     "output_type": "execute_result"
    }
   ],
   "source": [
    "db = pump_it_up(df)\n",
    "db.shape"
   ]
  },
  {
   "cell_type": "code",
   "execution_count": 18,
   "metadata": {},
   "outputs": [
    {
     "data": {
      "text/plain": [
       "(5292, 17)"
      ]
     },
     "execution_count": 18,
     "metadata": {},
     "output_type": "execute_result"
    }
   ],
   "source": [
    "df = pump_it_up(db)\n",
    "df.shape"
   ]
  },
  {
   "cell_type": "code",
   "execution_count": 19,
   "metadata": {},
   "outputs": [
    {
     "data": {
      "text/plain": [
       "(15876, 17)"
      ]
     },
     "execution_count": 19,
     "metadata": {},
     "output_type": "execute_result"
    }
   ],
   "source": [
    "db = pump_it_up(df)\n",
    "db.shape"
   ]
  },
  {
   "cell_type": "code",
   "execution_count": 20,
   "metadata": {},
   "outputs": [],
   "source": [
    "db.pop('game')\n",
    "db.pop('team')\n",
    "y = db.pop('r')\n",
    "X = db"
   ]
  },
  {
   "cell_type": "code",
   "execution_count": 22,
   "metadata": {},
   "outputs": [],
   "source": [
    "#importing libraries from sklearn\n",
    "from sklearn import tree\n",
    "#from sklearn.datasets import make_classification\n",
    "from sklearn.decomposition import PCA\n",
    "from sklearn.discriminant_analysis import QuadraticDiscriminantAnalysis\n",
    "from sklearn import model_selection\n",
    "from sklearn.model_selection import train_test_split\n",
    "from sklearn.preprocessing import StandardScaler, MinMaxScaler#,Imputer\n",
    "from sklearn import metrics\n",
    "#colours = sns.set_palette('pastel')"
   ]
  },
  {
   "cell_type": "code",
   "execution_count": 23,
   "metadata": {},
   "outputs": [],
   "source": [
    "# import algorithm modules\n",
    "from sklearn import svm\n",
    "from sklearn.ensemble import RandomForestClassifier, AdaBoostClassifier, VotingClassifier, BaggingClassifier\n",
    "from sklearn.metrics import accuracy_score\n",
    "from sklearn.neighbors import KNeighborsClassifier\n",
    "from sklearn.svm import SVC\n",
    "from sklearn.tree import DecisionTreeClassifier"
   ]
  },
  {
   "cell_type": "code",
   "execution_count": 24,
   "metadata": {},
   "outputs": [],
   "source": [
    "X_train, X_test, y_train, y_test = train_test_split(X, y, test_size=0.3, random_state=7)"
   ]
  },
  {
   "cell_type": "code",
   "execution_count": 25,
   "metadata": {},
   "outputs": [],
   "source": [
    "seed = 7"
   ]
  },
  {
   "cell_type": "code",
   "execution_count": 28,
   "metadata": {},
   "outputs": [],
   "source": [
    "#K Neighbors Classifier\n",
    "# algorithm = ‘auto’, ‘ball_tree’, ‘kd_tree’, ‘brute’\n",
    "def kNeighbors(x,y):\n",
    "    model = KNeighborsClassifier(algorithm = 'auto',\n",
    "                                 leaf_size=30,\n",
    "                                 metric='minkowski',\n",
    "                                 metric_params=None,\n",
    "                                 n_jobs=1,\n",
    "                                 n_neighbors=5,\n",
    "                                 p=2,\n",
    "                                 weights='uniform')\n",
    "    model.fit(x, y)\n",
    "    return model\n",
    "    \n",
    "knn = kNeighbors(X_train, y_train)"
   ]
  },
  {
   "cell_type": "code",
   "execution_count": 29,
   "metadata": {},
   "outputs": [],
   "source": [
    "#Random Forest Regression\n",
    "def forestRegression_1(x,y):\n",
    "    model = RandomForestClassifier(n_estimators = 100,\n",
    "                                   min_samples_leaf = 5,\n",
    "                                   min_samples_split = 12,\n",
    "                                   random_state = 0,\n",
    "                                   max_depth = 80)\n",
    "    model.fit(x, y)\n",
    "    return model\n",
    "    \n",
    "rf1 = forestRegression_1(X_train, y_train)"
   ]
  },
  {
   "cell_type": "code",
   "execution_count": 30,
   "metadata": {},
   "outputs": [],
   "source": [
    "# Bagged Decision Trees for Classification - necessary dependencies\n",
    "def baggedTree(x,y,seed):\n",
    "    model = BaggingClassifier(base_estimator=rf1,\n",
    "                              n_estimators=10,\n",
    "                              random_state=seed)\n",
    "    model.fit(x, y)\n",
    "    return model\n",
    "\n",
    "bag = baggedTree(X_train, y_train,seed)\n",
    "\n",
    "# AdaBoost Classification\n",
    "def adaBoost(x,y,seed):\n",
    "    model = AdaBoostClassifier(n_estimators=70,\n",
    "                               random_state=seed,\n",
    "                               algorithm='SAMME')\n",
    "    model.fit(x, y)\n",
    "    return model\n",
    "    \n",
    "ada = adaBoost(X_train, y_train,seed)\n",
    "\n",
    "# Voting Ensemble for Classification\n",
    "def ensembleClassifier(x,y):\n",
    "    # create the sub models\n",
    "    estimators = []\n",
    "    estimators.append(('rf1', rf1))\n",
    "    estimators.append(('knn', knn))\n",
    "    estimators.append(('bag', bag))\n",
    "\n",
    "    # create the ensemble model\n",
    "    model = VotingClassifier(estimators,voting='soft',weights=[0.83,0.79,0.82])\n",
    "    model.fit(x,y)\n",
    "    return model\n",
    "\n",
    "ens = ensembleClassifier(X_train, y_train)"
   ]
  },
  {
   "cell_type": "code",
   "execution_count": 31,
   "metadata": {},
   "outputs": [],
   "source": [
    "def check(a,b):\n",
    "    if a == b:\n",
    "        result = '<'\n",
    "    else:\n",
    "        result = '-'\n",
    "    return result"
   ]
  },
  {
   "cell_type": "code",
   "execution_count": 32,
   "metadata": {},
   "outputs": [
    {
     "name": "stdout",
     "output_type": "stream",
     "text": [
      "rf1 0.8266894627913255\n",
      "ens 0.8230000899847026\n",
      "bag 0.8004139296319626\n",
      "knn 0.7949248627733285\n"
     ]
    }
   ],
   "source": [
    "print('rf1',rf1.score(X_train, y_train))\n",
    "print('ens',ens.score(X_train, y_train))\n",
    "print('bag',bag.score(X_train, y_train))\n",
    "print('knn',knn.score(X_train, y_train))"
   ]
  },
  {
   "cell_type": "code",
   "execution_count": 50,
   "metadata": {},
   "outputs": [],
   "source": [
    "random_nums = np.random.randint(low=1, high=58, size=(20))"
   ]
  },
  {
   "cell_type": "code",
   "execution_count": 51,
   "metadata": {},
   "outputs": [],
   "source": [
    "def print_pred_results(model,result,num):\n",
    "    print('model          : ', result, check(result,y_test.iloc[num]))\n",
    "\n",
    "def predictionTest(num,model1,model2,model3):\n",
    "    p = X_test.iloc[num].tolist()\n",
    "    result1 = model1.predict([p]).flatten()\n",
    "    result2 = model2.predict([p]).flatten()\n",
    "    result3 = model3.predict([p]).flatten()\n",
    "    print('\\nActual       : ',y_test.iloc[num])\n",
    "    print_pred_results(model1,result1,num)\n",
    "    print_pred_results(model2,result2,num)\n",
    "    print_pred_results(model3,result3,num)"
   ]
  },
  {
   "cell_type": "code",
   "execution_count": 52,
   "metadata": {},
   "outputs": [
    {
     "data": {
      "text/plain": [
       "'for i in random_nums:\\n    predictionTest(i,rf1,knn,bag)'"
      ]
     },
     "execution_count": 52,
     "metadata": {},
     "output_type": "execute_result"
    }
   ],
   "source": [
    "'''for i in random_nums:\n",
    "    predictionTest(i,rf1,knn,bag)'''"
   ]
  },
  {
   "cell_type": "code",
   "execution_count": 53,
   "metadata": {},
   "outputs": [],
   "source": [
    "def cycle_prob_test(num,model):\n",
    "    p = X_test.iloc[num].tolist()\n",
    "    e = model.predict_proba([p]).flatten()\n",
    "    return e.tolist()\n",
    "\n",
    "def cycle_pred_test(num,model):\n",
    "    p = X_test.iloc[num].tolist()\n",
    "    e = model.predict([p]).flatten()\n",
    "    if e == y_test.iloc[num]:\n",
    "        a = 1\n",
    "    else:\n",
    "        a = 0\n",
    "    return a\n",
    "\n",
    "def model_pred_test(model):\n",
    "    b = []\n",
    "    prob = []\n",
    "    for i in random_nums:\n",
    "        b.append(cycle_pred_test(i,model))\n",
    "        prob.append(cycle_prob_test(i,model))\n",
    "    dz = pd.DataFrame(b)\n",
    "    df = pd.DataFrame(prob)\n",
    "    c = str(float(dz.sum().values / 20))\n",
    "    print('score :',c)\n",
    "    #print(df)\n",
    "    #return df"
   ]
  },
  {
   "cell_type": "code",
   "execution_count": 54,
   "metadata": {},
   "outputs": [
    {
     "name": "stdout",
     "output_type": "stream",
     "text": [
      "score : 0.75\n"
     ]
    }
   ],
   "source": [
    "test_check = model_pred_test(knn)"
   ]
  },
  {
   "cell_type": "code",
   "execution_count": 55,
   "metadata": {},
   "outputs": [
    {
     "name": "stdout",
     "output_type": "stream",
     "text": [
      "score : 0.5\n"
     ]
    }
   ],
   "source": [
    "model_pred_test(ada)"
   ]
  },
  {
   "cell_type": "code",
   "execution_count": 56,
   "metadata": {},
   "outputs": [
    {
     "name": "stdout",
     "output_type": "stream",
     "text": [
      "score : 0.8\n"
     ]
    }
   ],
   "source": [
    "model_pred_test(bag)"
   ]
  },
  {
   "cell_type": "code",
   "execution_count": 57,
   "metadata": {},
   "outputs": [
    {
     "name": "stdout",
     "output_type": "stream",
     "text": [
      "score : 0.8\n"
     ]
    }
   ],
   "source": [
    "model_pred_test(rf1)"
   ]
  },
  {
   "cell_type": "code",
   "execution_count": 58,
   "metadata": {},
   "outputs": [
    {
     "name": "stdout",
     "output_type": "stream",
     "text": [
      "score : 0.85\n"
     ]
    }
   ],
   "source": [
    "model_pred_test(ens)"
   ]
  },
  {
   "cell_type": "code",
   "execution_count": 9,
   "metadata": {},
   "outputs": [],
   "source": [
    "import pickle\n",
    "filename = 'models/cpl_roster_classifier.sav'\n",
    "#pickle.dump(rf1, open(filename, 'wb'))"
   ]
  },
  {
   "cell_type": "code",
   "execution_count": 10,
   "metadata": {},
   "outputs": [],
   "source": [
    "cpl_classifier_model = pickle.load(open(filename, 'rb'))"
   ]
  },
  {
   "cell_type": "code",
   "execution_count": 11,
   "metadata": {},
   "outputs": [],
   "source": [
    "#model_pred_test(cpl_classifier_model)"
   ]
  },
  {
   "cell_type": "code",
   "execution_count": 12,
   "metadata": {},
   "outputs": [
    {
     "name": "stdout",
     "output_type": "stream",
     "text": [
      "Forge FC Cavalry FC\n"
     ]
    }
   ],
   "source": [
    "# home side\n",
    "q1 = week_schedule.iloc[1]['home']\n",
    "# away side\n",
    "q2 = week_schedule.iloc[1]['away']\n",
    "print(q1,q2)"
   ]
  },
  {
   "cell_type": "code",
   "execution_count": 13,
   "metadata": {},
   "outputs": [],
   "source": [
    "compare = cpl.get_team_comparison(results_brief,q1,q2)"
   ]
  },
  {
   "cell_type": "code",
   "execution_count": 14,
   "metadata": {},
   "outputs": [],
   "source": [
    "t1_x, t1_y = cpl.get_NB_data(compare,q1)\n",
    "t2_x, t2_y = cpl.get_NB_data(compare,q2)"
   ]
  },
  {
   "cell_type": "code",
   "execution_count": 15,
   "metadata": {},
   "outputs": [
    {
     "data": {
      "text/html": [
       "<div>\n",
       "<style scoped>\n",
       "    .dataframe tbody tr th:only-of-type {\n",
       "        vertical-align: middle;\n",
       "    }\n",
       "\n",
       "    .dataframe tbody tr th {\n",
       "        vertical-align: top;\n",
       "    }\n",
       "\n",
       "    .dataframe thead th {\n",
       "        text-align: right;\n",
       "    }\n",
       "</style>\n",
       "<table border=\"1\" class=\"dataframe\">\n",
       "  <thead>\n",
       "    <tr style=\"text-align: right;\">\n",
       "      <th></th>\n",
       "      <th>game</th>\n",
       "      <th>home</th>\n",
       "      <th>away</th>\n",
       "    </tr>\n",
       "  </thead>\n",
       "  <tbody>\n",
       "    <tr>\n",
       "      <th>1</th>\n",
       "      <td>I10</td>\n",
       "      <td>Forge FC</td>\n",
       "      <td>Cavalry FC</td>\n",
       "    </tr>\n",
       "    <tr>\n",
       "      <th>60</th>\n",
       "      <td>I63</td>\n",
       "      <td>Forge FC</td>\n",
       "      <td>Cavalry FC</td>\n",
       "    </tr>\n",
       "    <tr>\n",
       "      <th>93</th>\n",
       "      <td>I93</td>\n",
       "      <td>Forge FC</td>\n",
       "      <td>Cavalry FC</td>\n",
       "    </tr>\n",
       "    <tr>\n",
       "      <th>99</th>\n",
       "      <td>I99</td>\n",
       "      <td>Forge FC</td>\n",
       "      <td>Cavalry FC</td>\n",
       "    </tr>\n",
       "  </tbody>\n",
       "</table>\n",
       "</div>"
      ],
      "text/plain": [
       "   game      home        away\n",
       "1   I10  Forge FC  Cavalry FC\n",
       "60  I63  Forge FC  Cavalry FC\n",
       "93  I93  Forge FC  Cavalry FC\n",
       "99  I99  Forge FC  Cavalry FC"
      ]
     },
     "execution_count": 15,
     "metadata": {},
     "output_type": "execute_result"
    }
   ],
   "source": [
    "game_info = week_schedule[week_schedule['home'] == q1]\n",
    "game_info = game_info[game_info['away'] == q2]\n",
    "game_info"
   ]
  },
  {
   "cell_type": "code",
   "execution_count": 16,
   "metadata": {},
   "outputs": [],
   "source": [
    "game = game_info.iloc[0]['game']\n",
    "game_h = cpl.get_home_away_comparison(stats,game,q1)\n",
    "game_a = cpl.get_home_away_comparison(stats,game,q2)"
   ]
  },
  {
   "cell_type": "code",
   "execution_count": 17,
   "metadata": {},
   "outputs": [],
   "source": [
    "h1_roster = cpl.get_compare_roster(q1,game_h,rated_forwards,rated_midfielders,rated_defenders,rated_keepers,results,team_stats,team_ref)\n",
    "h2_roster = cpl.get_compare_roster(q2,game_a,rated_forwards,rated_midfielders,rated_defenders,rated_keepers,results,team_stats,team_ref)"
   ]
  },
  {
   "cell_type": "code",
   "execution_count": 18,
   "metadata": {},
   "outputs": [],
   "source": [
    "def get_overall_roster(game_roster):\n",
    "    b = []\n",
    "    for i in range(game_roster.shape[0]):\n",
    "        b.append(game_roster.iloc[i]['overall']) # get the player overall score for each player in the game\n",
    "    if len(b) < 16:\n",
    "        i = int(16 - len(b))\n",
    "        for j in range(0,i):\n",
    "            b.append(0)\n",
    "    db = pd.DataFrame(b[0:14])\n",
    "    db = db.T\n",
    "    return db"
   ]
  },
  {
   "cell_type": "code",
   "execution_count": 19,
   "metadata": {},
   "outputs": [
    {
     "data": {
      "text/html": [
       "<div>\n",
       "<style scoped>\n",
       "    .dataframe tbody tr th:only-of-type {\n",
       "        vertical-align: middle;\n",
       "    }\n",
       "\n",
       "    .dataframe tbody tr th {\n",
       "        vertical-align: top;\n",
       "    }\n",
       "\n",
       "    .dataframe thead th {\n",
       "        text-align: right;\n",
       "    }\n",
       "</style>\n",
       "<table border=\"1\" class=\"dataframe\">\n",
       "  <thead>\n",
       "    <tr style=\"text-align: right;\">\n",
       "      <th></th>\n",
       "      <th>0</th>\n",
       "      <th>1</th>\n",
       "      <th>2</th>\n",
       "      <th>3</th>\n",
       "      <th>4</th>\n",
       "      <th>5</th>\n",
       "      <th>6</th>\n",
       "      <th>7</th>\n",
       "      <th>8</th>\n",
       "      <th>9</th>\n",
       "      <th>10</th>\n",
       "      <th>11</th>\n",
       "      <th>12</th>\n",
       "      <th>13</th>\n",
       "    </tr>\n",
       "  </thead>\n",
       "  <tbody>\n",
       "    <tr>\n",
       "      <th>0</th>\n",
       "      <td>0.71</td>\n",
       "      <td>0.71</td>\n",
       "      <td>0.71</td>\n",
       "      <td>0.65</td>\n",
       "      <td>0.49</td>\n",
       "      <td>0.43</td>\n",
       "      <td>0.43</td>\n",
       "      <td>0.4</td>\n",
       "      <td>0.39</td>\n",
       "      <td>0.36</td>\n",
       "      <td>0.35</td>\n",
       "      <td>0.34</td>\n",
       "      <td>0.29</td>\n",
       "      <td>0.22</td>\n",
       "    </tr>\n",
       "  </tbody>\n",
       "</table>\n",
       "</div>"
      ],
      "text/plain": [
       "      0     1     2     3     4     5     6    7     8     9    10    11  \\\n",
       "0  0.71  0.71  0.71  0.65  0.49  0.43  0.43  0.4  0.39  0.36  0.35  0.34   \n",
       "\n",
       "     12    13  \n",
       "0  0.29  0.22  "
      ]
     },
     "execution_count": 19,
     "metadata": {},
     "output_type": "execute_result"
    }
   ],
   "source": [
    "q1_roster = get_overall_roster(h1_roster)\n",
    "q1_roster"
   ]
  },
  {
   "cell_type": "code",
   "execution_count": 20,
   "metadata": {},
   "outputs": [
    {
     "data": {
      "text/html": [
       "<div>\n",
       "<style scoped>\n",
       "    .dataframe tbody tr th:only-of-type {\n",
       "        vertical-align: middle;\n",
       "    }\n",
       "\n",
       "    .dataframe tbody tr th {\n",
       "        vertical-align: top;\n",
       "    }\n",
       "\n",
       "    .dataframe thead th {\n",
       "        text-align: right;\n",
       "    }\n",
       "</style>\n",
       "<table border=\"1\" class=\"dataframe\">\n",
       "  <thead>\n",
       "    <tr style=\"text-align: right;\">\n",
       "      <th></th>\n",
       "      <th>0</th>\n",
       "      <th>1</th>\n",
       "      <th>2</th>\n",
       "      <th>3</th>\n",
       "      <th>4</th>\n",
       "      <th>5</th>\n",
       "      <th>6</th>\n",
       "      <th>7</th>\n",
       "      <th>8</th>\n",
       "      <th>9</th>\n",
       "      <th>10</th>\n",
       "      <th>11</th>\n",
       "      <th>12</th>\n",
       "      <th>13</th>\n",
       "    </tr>\n",
       "  </thead>\n",
       "  <tbody>\n",
       "    <tr>\n",
       "      <th>0</th>\n",
       "      <td>0.83</td>\n",
       "      <td>0.79</td>\n",
       "      <td>0.66</td>\n",
       "      <td>0.64</td>\n",
       "      <td>0.55</td>\n",
       "      <td>0.53</td>\n",
       "      <td>0.47</td>\n",
       "      <td>0.45</td>\n",
       "      <td>0.39</td>\n",
       "      <td>0.38</td>\n",
       "      <td>0.38</td>\n",
       "      <td>0.36</td>\n",
       "      <td>0.26</td>\n",
       "      <td>0.19</td>\n",
       "    </tr>\n",
       "  </tbody>\n",
       "</table>\n",
       "</div>"
      ],
      "text/plain": [
       "      0     1     2     3     4     5     6     7     8     9    10    11  \\\n",
       "0  0.83  0.79  0.66  0.64  0.55  0.53  0.47  0.45  0.39  0.38  0.38  0.36   \n",
       "\n",
       "     12    13  \n",
       "0  0.26  0.19  "
      ]
     },
     "execution_count": 20,
     "metadata": {},
     "output_type": "execute_result"
    }
   ],
   "source": [
    "q2_roster = get_overall_roster(h2_roster)\n",
    "q2_roster"
   ]
  },
  {
   "cell_type": "code",
   "execution_count": 21,
   "metadata": {},
   "outputs": [],
   "source": [
    "def roster_pred(model,array):\n",
    "    prediction = model.predict_proba([array]).flatten()\n",
    "    df = pd.DataFrame(prediction)\n",
    "    #print('score :',prediction)\n",
    "    return df"
   ]
  },
  {
   "cell_type": "code",
   "execution_count": 22,
   "metadata": {},
   "outputs": [],
   "source": [
    "home_win, draw, away_win = cpl.get_match_prediction(q1,q2,t1_x,t1_y,t2_x,t2_y)"
   ]
  },
  {
   "cell_type": "code",
   "execution_count": 23,
   "metadata": {},
   "outputs": [
    {
     "name": "stdout",
     "output_type": "stream",
     "text": [
      "Forge FC \n",
      "win probability:  0.48\n"
     ]
    }
   ],
   "source": [
    "print(q1,'\\nwin probability: ', round(home_win,2))"
   ]
  },
  {
   "cell_type": "code",
   "execution_count": 24,
   "metadata": {},
   "outputs": [
    {
     "name": "stdout",
     "output_type": "stream",
     "text": [
      "Cavalry FC \n",
      "win probability:  0.16\n"
     ]
    }
   ],
   "source": [
    "print(q2,'\\nwin probability: ', round(away_win,2))"
   ]
  },
  {
   "cell_type": "code",
   "execution_count": 25,
   "metadata": {},
   "outputs": [
    {
     "name": "stdout",
     "output_type": "stream",
     "text": [
      "Draw probability:  0.3\n"
     ]
    }
   ],
   "source": [
    "print('Draw probability: ', round(draw,2))"
   ]
  },
  {
   "cell_type": "code",
   "execution_count": 26,
   "metadata": {},
   "outputs": [],
   "source": [
    "def get_final_game_prediction(model,q1_roster,q2_roster,home_win,away_win,draw):\n",
    "    q1_prediction = roster_pred(model,q1_roster)\n",
    "    q1_p = round(q1_prediction.iloc[2][0],2)\n",
    "    q2_prediction = roster_pred(model,q2_roster)\n",
    "    q2_p = round(q2_prediction.iloc[2][0],2)\n",
    "    q_draw = (q1_prediction.iloc[1][0] + q2_prediction.iloc[2][0]) / 2\n",
    "    total_ = q1_p + home_win + q2_p + away_win + q_draw + draw\n",
    "    h_w = round((q1_p + home_win) / total_, 2)\n",
    "    a_w = round((q2_p + away_win) / total_, 2)\n",
    "    g_d = round((q_draw + draw) / total_, 2)\n",
    "    return h_w, a_w, g_d"
   ]
  },
  {
   "cell_type": "code",
   "execution_count": 27,
   "metadata": {},
   "outputs": [],
   "source": [
    "q1_prediction = roster_pred(cpl_classifier_model,q1_roster)"
   ]
  },
  {
   "cell_type": "code",
   "execution_count": 28,
   "metadata": {},
   "outputs": [],
   "source": [
    "q2_prediction = roster_pred(cpl_classifier_model,q2_roster)"
   ]
  },
  {
   "cell_type": "code",
   "execution_count": 29,
   "metadata": {},
   "outputs": [
    {
     "data": {
      "text/plain": [
       "0.305084397502222"
      ]
     },
     "execution_count": 29,
     "metadata": {},
     "output_type": "execute_result"
    }
   ],
   "source": [
    "q_draw = (q1_prediction.iloc[1][0] + q2_prediction.iloc[2][0]) /2\n",
    "q_draw"
   ]
  },
  {
   "cell_type": "code",
   "execution_count": 30,
   "metadata": {},
   "outputs": [],
   "source": [
    "q1_p = round(q1_prediction.iloc[2][0],2)"
   ]
  },
  {
   "cell_type": "code",
   "execution_count": 31,
   "metadata": {},
   "outputs": [],
   "source": [
    "q2_p = round(q2_prediction.iloc[2][0],2)"
   ]
  },
  {
   "cell_type": "code",
   "execution_count": 32,
   "metadata": {},
   "outputs": [
    {
     "name": "stdout",
     "output_type": "stream",
     "text": [
      "Forge FC predicted to win  0.65\n"
     ]
    }
   ],
   "source": [
    "if q1_p > q2_p:\n",
    "    print(q1,'predicted to win ',q1_p)\n",
    "elif q2_p > q1_p:\n",
    "    print(q2,'predicted to win ',q2_p)\n",
    "else:\n",
    "    print('A Draw is predicted ',q1_p,' ',q2_p)"
   ]
  },
  {
   "cell_type": "code",
   "execution_count": 33,
   "metadata": {},
   "outputs": [],
   "source": [
    "total_ = q1_p + home_win + q2_p + away_win + q_draw + draw"
   ]
  },
  {
   "cell_type": "code",
   "execution_count": 34,
   "metadata": {},
   "outputs": [
    {
     "data": {
      "text/plain": [
       "0.48"
      ]
     },
     "execution_count": 34,
     "metadata": {},
     "output_type": "execute_result"
    }
   ],
   "source": [
    "round((q1_p + home_win) / total_, 2)"
   ]
  },
  {
   "cell_type": "code",
   "execution_count": 35,
   "metadata": {},
   "outputs": [
    {
     "data": {
      "text/plain": [
       "0.26"
      ]
     },
     "execution_count": 35,
     "metadata": {},
     "output_type": "execute_result"
    }
   ],
   "source": [
    "round((q2_p + away_win) / total_, 2)"
   ]
  },
  {
   "cell_type": "code",
   "execution_count": 36,
   "metadata": {},
   "outputs": [
    {
     "data": {
      "text/plain": [
       "0.26"
      ]
     },
     "execution_count": 36,
     "metadata": {},
     "output_type": "execute_result"
    }
   ],
   "source": [
    "round((q_draw + draw) / total_, 2)"
   ]
  },
  {
   "cell_type": "code",
   "execution_count": 37,
   "metadata": {},
   "outputs": [],
   "source": [
    "home_win_new, away_win_new, draw_new = get_final_game_prediction(cpl_classifier_model,q1_roster,q2_roster,home_win,away_win,draw)"
   ]
  },
  {
   "cell_type": "code",
   "execution_count": 38,
   "metadata": {},
   "outputs": [
    {
     "data": {
      "text/plain": [
       "0.48"
      ]
     },
     "execution_count": 38,
     "metadata": {},
     "output_type": "execute_result"
    }
   ],
   "source": [
    "home_win_new"
   ]
  },
  {
   "cell_type": "code",
   "execution_count": 39,
   "metadata": {},
   "outputs": [
    {
     "data": {
      "text/plain": [
       "0.26"
      ]
     },
     "execution_count": 39,
     "metadata": {},
     "output_type": "execute_result"
    }
   ],
   "source": [
    "away_win_new"
   ]
  },
  {
   "cell_type": "code",
   "execution_count": 40,
   "metadata": {},
   "outputs": [
    {
     "data": {
      "text/plain": [
       "0.26"
      ]
     },
     "execution_count": 40,
     "metadata": {},
     "output_type": "execute_result"
    }
   ],
   "source": [
    "draw_new"
   ]
  },
  {
   "cell_type": "code",
   "execution_count": null,
   "metadata": {},
   "outputs": [],
   "source": []
  }
 ],
 "metadata": {
  "kernelspec": {
   "display_name": "Python 3",
   "language": "python",
   "name": "python3"
  },
  "language_info": {
   "codemirror_mode": {
    "name": "ipython",
    "version": 3
   },
   "file_extension": ".py",
   "mimetype": "text/x-python",
   "name": "python",
   "nbconvert_exporter": "python",
   "pygments_lexer": "ipython3",
   "version": "3.7.6"
  }
 },
 "nbformat": 4,
 "nbformat_minor": 4
}
