{
 "cells": [
  {
   "cell_type": "code",
   "execution_count": 1,
   "metadata": {},
   "outputs": [],
   "source": [
    "import re\n",
    "import numpy as np\n",
    "import pandas as pd\n",
    "import cpl_main as cpl"
   ]
  },
  {
   "cell_type": "code",
   "execution_count": 2,
   "metadata": {},
   "outputs": [],
   "source": [
    "team_ref = pd.read_csv('datasets/teams.csv')"
   ]
  },
  {
   "cell_type": "code",
   "execution_count": 3,
   "metadata": {},
   "outputs": [
    {
     "name": "stdout",
     "output_type": "stream",
     "text": [
      "enter the year2020\n"
     ]
    }
   ],
   "source": [
    "year = input('enter the year')"
   ]
  },
  {
   "cell_type": "code",
   "execution_count": 4,
   "metadata": {},
   "outputs": [],
   "source": [
    "if year == '2019':\n",
    "    team_ref = team_ref[1:]"
   ]
  },
  {
   "cell_type": "code",
   "execution_count": 5,
   "metadata": {},
   "outputs": [
    {
     "data": {
      "text/html": [
       "<div>\n",
       "<style scoped>\n",
       "    .dataframe tbody tr th:only-of-type {\n",
       "        vertical-align: middle;\n",
       "    }\n",
       "\n",
       "    .dataframe tbody tr th {\n",
       "        vertical-align: top;\n",
       "    }\n",
       "\n",
       "    .dataframe thead th {\n",
       "        text-align: right;\n",
       "    }\n",
       "</style>\n",
       "<table border=\"1\" class=\"dataframe\">\n",
       "  <thead>\n",
       "    <tr style=\"text-align: right;\">\n",
       "      <th></th>\n",
       "      <th>team</th>\n",
       "      <th>city</th>\n",
       "      <th>province</th>\n",
       "      <th>short</th>\n",
       "      <th>colour</th>\n",
       "      <th>crest</th>\n",
       "      <th>link</th>\n",
       "      <th>wiki</th>\n",
       "    </tr>\n",
       "  </thead>\n",
       "  <tbody>\n",
       "    <tr>\n",
       "      <th>0</th>\n",
       "      <td>Atletico Ottawa</td>\n",
       "      <td>Ottawa</td>\n",
       "      <td>ON</td>\n",
       "      <td>AO</td>\n",
       "      <td>cpl-ao</td>\n",
       "      <td>Atletico_Ottawa_nav.png</td>\n",
       "      <td>https://atleticoottawa.canpl.ca/</td>\n",
       "      <td>https://en.wikipedia.org/wiki/Atlético_Ottawa</td>\n",
       "    </tr>\n",
       "    <tr>\n",
       "      <th>1</th>\n",
       "      <td>Cavalry FC</td>\n",
       "      <td>Calgary</td>\n",
       "      <td>AB</td>\n",
       "      <td>CFC</td>\n",
       "      <td>cpl-cfc</td>\n",
       "      <td>cavalry_fc_nav.png</td>\n",
       "      <td>https://cavalryfc.canpl.ca/</td>\n",
       "      <td>https://en.wikipedia.org/wiki/Cavalry_FC</td>\n",
       "    </tr>\n",
       "    <tr>\n",
       "      <th>2</th>\n",
       "      <td>FC Edmonton</td>\n",
       "      <td>Edmonton</td>\n",
       "      <td>AB</td>\n",
       "      <td>FCE</td>\n",
       "      <td>cpl-fce</td>\n",
       "      <td>FC_Edmonton_nav.png</td>\n",
       "      <td>https://fcedmonton.canpl.ca/</td>\n",
       "      <td>https://en.wikipedia.org/wiki/FC_Edmonton</td>\n",
       "    </tr>\n",
       "    <tr>\n",
       "      <th>3</th>\n",
       "      <td>Forge FC</td>\n",
       "      <td>Hamilton</td>\n",
       "      <td>ON</td>\n",
       "      <td>FFC</td>\n",
       "      <td>cpl-ffc</td>\n",
       "      <td>Forge_FC_nav.png</td>\n",
       "      <td>https://forgefc.canpl.ca/</td>\n",
       "      <td>https://en.wikipedia.org/wiki/Forge_FC</td>\n",
       "    </tr>\n",
       "    <tr>\n",
       "      <th>4</th>\n",
       "      <td>HFX Wanderers FC</td>\n",
       "      <td>Halifax</td>\n",
       "      <td>NS</td>\n",
       "      <td>HFX</td>\n",
       "      <td>cpl-hfx</td>\n",
       "      <td>HFX_Wanderers_FC.png</td>\n",
       "      <td>https://hfxwanderersfc.canpl.ca/</td>\n",
       "      <td>https://en.wikipedia.org/wiki/HFX_Wanderers_FC</td>\n",
       "    </tr>\n",
       "    <tr>\n",
       "      <th>5</th>\n",
       "      <td>Pacific FC</td>\n",
       "      <td>Langford</td>\n",
       "      <td>BC</td>\n",
       "      <td>PFC</td>\n",
       "      <td>cpl-pfc</td>\n",
       "      <td>Pacific_FC_nav.png</td>\n",
       "      <td>https://pacificfc.canpl.ca/</td>\n",
       "      <td>https://en.wikipedia.org/wiki/Pacific_FC</td>\n",
       "    </tr>\n",
       "    <tr>\n",
       "      <th>6</th>\n",
       "      <td>Valour FC</td>\n",
       "      <td>Winnipeg</td>\n",
       "      <td>MB</td>\n",
       "      <td>VFC</td>\n",
       "      <td>cpl-vfc</td>\n",
       "      <td>Valour_FC_nav.png</td>\n",
       "      <td>https://valourfc.canpl.ca/</td>\n",
       "      <td>https://en.wikipedia.org/wiki/Valour_FC</td>\n",
       "    </tr>\n",
       "    <tr>\n",
       "      <th>7</th>\n",
       "      <td>York9 FC</td>\n",
       "      <td>York Region</td>\n",
       "      <td>ON</td>\n",
       "      <td>Y9</td>\n",
       "      <td>cpl-y9</td>\n",
       "      <td>York_9_FC_nav.png</td>\n",
       "      <td>https://york9fc.canpl.ca/</td>\n",
       "      <td>https://en.wikipedia.org/wiki/York9_FC</td>\n",
       "    </tr>\n",
       "  </tbody>\n",
       "</table>\n",
       "</div>"
      ],
      "text/plain": [
       "               team         city province short   colour  \\\n",
       "0   Atletico Ottawa       Ottawa       ON    AO   cpl-ao   \n",
       "1        Cavalry FC      Calgary       AB   CFC  cpl-cfc   \n",
       "2       FC Edmonton     Edmonton       AB   FCE  cpl-fce   \n",
       "3          Forge FC     Hamilton       ON   FFC  cpl-ffc   \n",
       "4  HFX Wanderers FC      Halifax       NS   HFX  cpl-hfx   \n",
       "5        Pacific FC     Langford       BC   PFC  cpl-pfc   \n",
       "6         Valour FC     Winnipeg       MB   VFC  cpl-vfc   \n",
       "7          York9 FC  York Region       ON    Y9   cpl-y9   \n",
       "\n",
       "                     crest                              link  \\\n",
       "0  Atletico_Ottawa_nav.png  https://atleticoottawa.canpl.ca/   \n",
       "1       cavalry_fc_nav.png       https://cavalryfc.canpl.ca/   \n",
       "2      FC_Edmonton_nav.png      https://fcedmonton.canpl.ca/   \n",
       "3         Forge_FC_nav.png         https://forgefc.canpl.ca/   \n",
       "4     HFX_Wanderers_FC.png  https://hfxwanderersfc.canpl.ca/   \n",
       "5       Pacific_FC_nav.png       https://pacificfc.canpl.ca/   \n",
       "6        Valour_FC_nav.png        https://valourfc.canpl.ca/   \n",
       "7        York_9_FC_nav.png         https://york9fc.canpl.ca/   \n",
       "\n",
       "                                             wiki  \n",
       "0   https://en.wikipedia.org/wiki/Atlético_Ottawa  \n",
       "1        https://en.wikipedia.org/wiki/Cavalry_FC  \n",
       "2       https://en.wikipedia.org/wiki/FC_Edmonton  \n",
       "3          https://en.wikipedia.org/wiki/Forge_FC  \n",
       "4  https://en.wikipedia.org/wiki/HFX_Wanderers_FC  \n",
       "5        https://en.wikipedia.org/wiki/Pacific_FC  \n",
       "6         https://en.wikipedia.org/wiki/Valour_FC  \n",
       "7          https://en.wikipedia.org/wiki/York9_FC  "
      ]
     },
     "execution_count": 5,
     "metadata": {},
     "output_type": "execute_result"
    }
   ],
   "source": [
    "team_ref"
   ]
  },
  {
   "cell_type": "code",
   "execution_count": 6,
   "metadata": {},
   "outputs": [],
   "source": [
    "results = pd.read_csv(f'datasets/{year}/cpl-{year}-results.csv')\n",
    "stats = pd.read_csv(f'datasets/{year}/cpl-{year}-stats.csv')\n",
    "player_info = pd.read_csv(f'datasets/{year}/player-{year}-info.csv')"
   ]
  },
  {
   "cell_type": "code",
   "execution_count": 7,
   "metadata": {},
   "outputs": [
    {
     "data": {
      "text/html": [
       "<div>\n",
       "<style scoped>\n",
       "    .dataframe tbody tr th:only-of-type {\n",
       "        vertical-align: middle;\n",
       "    }\n",
       "\n",
       "    .dataframe tbody tr th {\n",
       "        vertical-align: top;\n",
       "    }\n",
       "\n",
       "    .dataframe thead th {\n",
       "        text-align: right;\n",
       "    }\n",
       "</style>\n",
       "<table border=\"1\" class=\"dataframe\">\n",
       "  <thead>\n",
       "    <tr style=\"text-align: right;\">\n",
       "      <th></th>\n",
       "      <th>game</th>\n",
       "      <th>s</th>\n",
       "      <th>d</th>\n",
       "      <th>m</th>\n",
       "      <th>hs</th>\n",
       "      <th>as</th>\n",
       "      <th>home</th>\n",
       "      <th>hr</th>\n",
       "      <th>away</th>\n",
       "      <th>ar</th>\n",
       "      <th>csh</th>\n",
       "      <th>csa</th>\n",
       "      <th>combined</th>\n",
       "      <th>venue</th>\n",
       "      <th>links</th>\n",
       "    </tr>\n",
       "  </thead>\n",
       "  <tbody>\n",
       "    <tr>\n",
       "      <th>0</th>\n",
       "      <td>II1</td>\n",
       "      <td>1</td>\n",
       "      <td>25</td>\n",
       "      <td>5</td>\n",
       "      <td>0</td>\n",
       "      <td>0</td>\n",
       "      <td>Forge FC</td>\n",
       "      <td>E</td>\n",
       "      <td>Cavalry FC</td>\n",
       "      <td>E</td>\n",
       "      <td>0</td>\n",
       "      <td>0</td>\n",
       "      <td>5-25-2019 Forge FC E 0-0 D Cavalry FC</td>\n",
       "      <td>Tim Hortons Field</td>\n",
       "      <td>https://canpl.ca/matchcentre/4ilfbdmlp4zuj7k3c...</td>\n",
       "    </tr>\n",
       "    <tr>\n",
       "      <th>1</th>\n",
       "      <td>II2</td>\n",
       "      <td>1</td>\n",
       "      <td>25</td>\n",
       "      <td>5</td>\n",
       "      <td>0</td>\n",
       "      <td>0</td>\n",
       "      <td>Pacific FC</td>\n",
       "      <td>E</td>\n",
       "      <td>FC Edmonton</td>\n",
       "      <td>E</td>\n",
       "      <td>0</td>\n",
       "      <td>0</td>\n",
       "      <td>5-25-2019 Pacific FC E 0-0 D FC Edmonton</td>\n",
       "      <td>Westhills Stadium</td>\n",
       "      <td>https://canpl.ca/matchcentre/4ilfbdmlp4zuj7k3c...</td>\n",
       "    </tr>\n",
       "    <tr>\n",
       "      <th>2</th>\n",
       "      <td>II3</td>\n",
       "      <td>1</td>\n",
       "      <td>25</td>\n",
       "      <td>5</td>\n",
       "      <td>0</td>\n",
       "      <td>0</td>\n",
       "      <td>York9 FC</td>\n",
       "      <td>E</td>\n",
       "      <td>HFX Wanderers FC</td>\n",
       "      <td>E</td>\n",
       "      <td>0</td>\n",
       "      <td>0</td>\n",
       "      <td>5-25-2019 York9 FC E 0-0 D HFX Wanderers FC</td>\n",
       "      <td>York Lions Stadium</td>\n",
       "      <td>https://canpl.ca/matchcentre/4ilfbdmlp4zuj7k3c...</td>\n",
       "    </tr>\n",
       "    <tr>\n",
       "      <th>3</th>\n",
       "      <td>II4</td>\n",
       "      <td>1</td>\n",
       "      <td>25</td>\n",
       "      <td>5</td>\n",
       "      <td>0</td>\n",
       "      <td>0</td>\n",
       "      <td>Valour FC</td>\n",
       "      <td>E</td>\n",
       "      <td>Atletico Ottawa</td>\n",
       "      <td>E</td>\n",
       "      <td>0</td>\n",
       "      <td>0</td>\n",
       "      <td>5-25-2019 Valour FC E 0-0 D Atletico Ottawa</td>\n",
       "      <td>IG Field</td>\n",
       "      <td>https://canpl.ca/matchcentre/4ilfbdmlp4zuj7k3c...</td>\n",
       "    </tr>\n",
       "    <tr>\n",
       "      <th>4</th>\n",
       "      <td>II5</td>\n",
       "      <td>1</td>\n",
       "      <td>4</td>\n",
       "      <td>6</td>\n",
       "      <td>0</td>\n",
       "      <td>0</td>\n",
       "      <td>FC Edmonton</td>\n",
       "      <td>E</td>\n",
       "      <td>Valour FC</td>\n",
       "      <td>E</td>\n",
       "      <td>0</td>\n",
       "      <td>0</td>\n",
       "      <td>6-4-2019 FC Edmonton E 0-0 D Valour FC</td>\n",
       "      <td>Clarke Stadium</td>\n",
       "      <td>https://canpl.ca/matchcentre/4ilfbdmlp4zuj7k3c...</td>\n",
       "    </tr>\n",
       "    <tr>\n",
       "      <th>5</th>\n",
       "      <td>II6</td>\n",
       "      <td>1</td>\n",
       "      <td>4</td>\n",
       "      <td>6</td>\n",
       "      <td>0</td>\n",
       "      <td>0</td>\n",
       "      <td>Atletico Ottawa</td>\n",
       "      <td>E</td>\n",
       "      <td>York9 FC</td>\n",
       "      <td>E</td>\n",
       "      <td>0</td>\n",
       "      <td>0</td>\n",
       "      <td>6-4-2019 Atletico Ottawa E 0-0 D York9 FC</td>\n",
       "      <td>TD Place Stadium</td>\n",
       "      <td>https://canpl.ca/matchcentre/4ilfbdmlp4zuj7k3c...</td>\n",
       "    </tr>\n",
       "    <tr>\n",
       "      <th>6</th>\n",
       "      <td>II7</td>\n",
       "      <td>1</td>\n",
       "      <td>4</td>\n",
       "      <td>6</td>\n",
       "      <td>0</td>\n",
       "      <td>0</td>\n",
       "      <td>Cavalry FC</td>\n",
       "      <td>E</td>\n",
       "      <td>Pacific FC</td>\n",
       "      <td>E</td>\n",
       "      <td>0</td>\n",
       "      <td>0</td>\n",
       "      <td>6-4-2019 Cavalry FC E 0-0 D Pacific FC</td>\n",
       "      <td>ATCO Field</td>\n",
       "      <td>https://canpl.ca/matchcentre/4ilfbdmlp4zuj7k3c...</td>\n",
       "    </tr>\n",
       "    <tr>\n",
       "      <th>7</th>\n",
       "      <td>II8</td>\n",
       "      <td>1</td>\n",
       "      <td>4</td>\n",
       "      <td>6</td>\n",
       "      <td>0</td>\n",
       "      <td>0</td>\n",
       "      <td>HFX Wanderers FC</td>\n",
       "      <td>E</td>\n",
       "      <td>Forge FC</td>\n",
       "      <td>E</td>\n",
       "      <td>0</td>\n",
       "      <td>0</td>\n",
       "      <td>6-4-2019 HFX Wanderers FC E 0-0 D Forge FC</td>\n",
       "      <td>Wanderers Grounds</td>\n",
       "      <td>https://canpl.ca/matchcentre/4ilfbdmlp4zuj7k3c...</td>\n",
       "    </tr>\n",
       "  </tbody>\n",
       "</table>\n",
       "</div>"
      ],
      "text/plain": [
       "  game  s   d  m  hs  as              home hr              away ar  csh  csa  \\\n",
       "0  II1  1  25  5   0   0          Forge FC  E        Cavalry FC  E    0    0   \n",
       "1  II2  1  25  5   0   0        Pacific FC  E       FC Edmonton  E    0    0   \n",
       "2  II3  1  25  5   0   0          York9 FC  E  HFX Wanderers FC  E    0    0   \n",
       "3  II4  1  25  5   0   0         Valour FC  E   Atletico Ottawa  E    0    0   \n",
       "4  II5  1   4  6   0   0       FC Edmonton  E         Valour FC  E    0    0   \n",
       "5  II6  1   4  6   0   0   Atletico Ottawa  E          York9 FC  E    0    0   \n",
       "6  II7  1   4  6   0   0        Cavalry FC  E        Pacific FC  E    0    0   \n",
       "7  II8  1   4  6   0   0  HFX Wanderers FC  E          Forge FC  E    0    0   \n",
       "\n",
       "                                      combined               venue  \\\n",
       "0        5-25-2019 Forge FC E 0-0 D Cavalry FC   Tim Hortons Field   \n",
       "1     5-25-2019 Pacific FC E 0-0 D FC Edmonton   Westhills Stadium   \n",
       "2  5-25-2019 York9 FC E 0-0 D HFX Wanderers FC  York Lions Stadium   \n",
       "3  5-25-2019 Valour FC E 0-0 D Atletico Ottawa            IG Field   \n",
       "4       6-4-2019 FC Edmonton E 0-0 D Valour FC      Clarke Stadium   \n",
       "5    6-4-2019 Atletico Ottawa E 0-0 D York9 FC    TD Place Stadium   \n",
       "6       6-4-2019 Cavalry FC E 0-0 D Pacific FC          ATCO Field   \n",
       "7   6-4-2019 HFX Wanderers FC E 0-0 D Forge FC   Wanderers Grounds   \n",
       "\n",
       "                                               links  \n",
       "0  https://canpl.ca/matchcentre/4ilfbdmlp4zuj7k3c...  \n",
       "1  https://canpl.ca/matchcentre/4ilfbdmlp4zuj7k3c...  \n",
       "2  https://canpl.ca/matchcentre/4ilfbdmlp4zuj7k3c...  \n",
       "3  https://canpl.ca/matchcentre/4ilfbdmlp4zuj7k3c...  \n",
       "4  https://canpl.ca/matchcentre/4ilfbdmlp4zuj7k3c...  \n",
       "5  https://canpl.ca/matchcentre/4ilfbdmlp4zuj7k3c...  \n",
       "6  https://canpl.ca/matchcentre/4ilfbdmlp4zuj7k3c...  \n",
       "7  https://canpl.ca/matchcentre/4ilfbdmlp4zuj7k3c...  "
      ]
     },
     "execution_count": 7,
     "metadata": {},
     "output_type": "execute_result"
    }
   ],
   "source": [
    "results"
   ]
  },
  {
   "cell_type": "code",
   "execution_count": 8,
   "metadata": {},
   "outputs": [],
   "source": [
    "results_brief = pd.read_csv(f'datasets/{year}/cpl-{year}-results_brief.csv')\n",
    "team_stats = pd.read_csv(f'datasets/{year}/cpl-{year}-team_stats.csv')\n",
    "schedule = pd.read_csv(f'datasets/{year}/cpl-{year}-schedule.csv')"
   ]
  },
  {
   "cell_type": "code",
   "execution_count": 9,
   "metadata": {},
   "outputs": [],
   "source": [
    "rated_forwards = pd.read_csv(f'datasets/{year}/cpl-{year}-forwards.csv')\n",
    "rated_midfielders = pd.read_csv(f'datasets/{year}/cpl-{year}-midfielders.csv')\n",
    "rated_defenders = pd.read_csv(f'datasets/{year}/cpl-{year}-defenders.csv')\n",
    "rated_keepers = pd.read_csv(f'datasets/{year}/cpl-{year}-keepers.csv')"
   ]
  },
  {
   "cell_type": "code",
   "execution_count": 10,
   "metadata": {},
   "outputs": [],
   "source": [
    "get_games = results['game']\n",
    "if year == '2019':\n",
    "    get_games = get_games[:-2]"
   ]
  },
  {
   "cell_type": "code",
   "execution_count": 11,
   "metadata": {},
   "outputs": [
    {
     "name": "stderr",
     "output_type": "stream",
     "text": [
      "/home/todd/anaconda3/lib/python3.7/site-packages/pandas/core/ops/array_ops.py:253: FutureWarning: elementwise comparison failed; returning scalar instead, but in the future will perform elementwise comparison\n",
      "  res_values = method(rvalues)\n"
     ]
    }
   ],
   "source": [
    "array = cpl.get_game_roster_prediction(stats,get_games,rated_forwards,rated_midfielders,rated_defenders,rated_keepers,results,team_stats,team_ref,player_info)"
   ]
  },
  {
   "cell_type": "code",
   "execution_count": 12,
   "metadata": {},
   "outputs": [],
   "source": [
    "db = pd.DataFrame(array,columns=['game','team','p1','p2','p3','p4','p5','p6','p7','p8','p9','p9','p10','p11','p12','p13','r','s'])"
   ]
  },
  {
   "cell_type": "code",
   "execution_count": 13,
   "metadata": {},
   "outputs": [
    {
     "data": {
      "text/html": [
       "<div>\n",
       "<style scoped>\n",
       "    .dataframe tbody tr th:only-of-type {\n",
       "        vertical-align: middle;\n",
       "    }\n",
       "\n",
       "    .dataframe tbody tr th {\n",
       "        vertical-align: top;\n",
       "    }\n",
       "\n",
       "    .dataframe thead th {\n",
       "        text-align: right;\n",
       "    }\n",
       "</style>\n",
       "<table border=\"1\" class=\"dataframe\">\n",
       "  <thead>\n",
       "    <tr style=\"text-align: right;\">\n",
       "      <th></th>\n",
       "      <th>game</th>\n",
       "      <th>team</th>\n",
       "      <th>p1</th>\n",
       "      <th>p2</th>\n",
       "      <th>p3</th>\n",
       "      <th>p4</th>\n",
       "      <th>p5</th>\n",
       "      <th>p6</th>\n",
       "      <th>p7</th>\n",
       "      <th>p8</th>\n",
       "      <th>p9</th>\n",
       "      <th>p9</th>\n",
       "      <th>p10</th>\n",
       "      <th>p11</th>\n",
       "      <th>p12</th>\n",
       "      <th>p13</th>\n",
       "      <th>r</th>\n",
       "      <th>s</th>\n",
       "    </tr>\n",
       "  </thead>\n",
       "  <tbody>\n",
       "    <tr>\n",
       "      <th>0</th>\n",
       "      <td>II1</td>\n",
       "      <td>Forge FC</td>\n",
       "      <td>0.72</td>\n",
       "      <td>0.71</td>\n",
       "      <td>0.71</td>\n",
       "      <td>0.65</td>\n",
       "      <td>0.34</td>\n",
       "      <td>0.68</td>\n",
       "      <td>0.49</td>\n",
       "      <td>0.43</td>\n",
       "      <td>0.40</td>\n",
       "      <td>0.43</td>\n",
       "      <td>0.25</td>\n",
       "      <td>0</td>\n",
       "      <td>0</td>\n",
       "      <td>0</td>\n",
       "      <td>1</td>\n",
       "      <td>0</td>\n",
       "    </tr>\n",
       "    <tr>\n",
       "      <th>1</th>\n",
       "      <td>II1</td>\n",
       "      <td>Cavalry FC</td>\n",
       "      <td>0.79</td>\n",
       "      <td>0.83</td>\n",
       "      <td>0.66</td>\n",
       "      <td>0.38</td>\n",
       "      <td>0.33</td>\n",
       "      <td>0.53</td>\n",
       "      <td>0.47</td>\n",
       "      <td>0.38</td>\n",
       "      <td>0.36</td>\n",
       "      <td>0.64</td>\n",
       "      <td>0.43</td>\n",
       "      <td>0</td>\n",
       "      <td>0</td>\n",
       "      <td>0</td>\n",
       "      <td>1</td>\n",
       "      <td>0</td>\n",
       "    </tr>\n",
       "    <tr>\n",
       "      <th>2</th>\n",
       "      <td>II2</td>\n",
       "      <td>Pacific FC</td>\n",
       "      <td>0.46</td>\n",
       "      <td>0.69</td>\n",
       "      <td>0.51</td>\n",
       "      <td>0.03</td>\n",
       "      <td>0.00</td>\n",
       "      <td>0.61</td>\n",
       "      <td>0.52</td>\n",
       "      <td>0.50</td>\n",
       "      <td>0.44</td>\n",
       "      <td>0.85</td>\n",
       "      <td>0.00</td>\n",
       "      <td>0</td>\n",
       "      <td>0</td>\n",
       "      <td>0</td>\n",
       "      <td>1</td>\n",
       "      <td>0</td>\n",
       "    </tr>\n",
       "    <tr>\n",
       "      <th>3</th>\n",
       "      <td>II2</td>\n",
       "      <td>FC Edmonton</td>\n",
       "      <td>0.71</td>\n",
       "      <td>0.87</td>\n",
       "      <td>0.61</td>\n",
       "      <td>0.58</td>\n",
       "      <td>0.52</td>\n",
       "      <td>0.29</td>\n",
       "      <td>0.28</td>\n",
       "      <td>0.00</td>\n",
       "      <td>0.00</td>\n",
       "      <td>0.58</td>\n",
       "      <td>0.41</td>\n",
       "      <td>0</td>\n",
       "      <td>0</td>\n",
       "      <td>0</td>\n",
       "      <td>1</td>\n",
       "      <td>0</td>\n",
       "    </tr>\n",
       "    <tr>\n",
       "      <th>4</th>\n",
       "      <td>II3</td>\n",
       "      <td>York9 FC</td>\n",
       "      <td>0.93</td>\n",
       "      <td>0.83</td>\n",
       "      <td>0.72</td>\n",
       "      <td>0.67</td>\n",
       "      <td>0.66</td>\n",
       "      <td>0.64</td>\n",
       "      <td>0.55</td>\n",
       "      <td>0.47</td>\n",
       "      <td>0.45</td>\n",
       "      <td>0.00</td>\n",
       "      <td>0.00</td>\n",
       "      <td>0</td>\n",
       "      <td>0</td>\n",
       "      <td>0</td>\n",
       "      <td>1</td>\n",
       "      <td>0</td>\n",
       "    </tr>\n",
       "    <tr>\n",
       "      <th>5</th>\n",
       "      <td>II3</td>\n",
       "      <td>HFX Wanderers FC</td>\n",
       "      <td>0.54</td>\n",
       "      <td>0.63</td>\n",
       "      <td>0.41</td>\n",
       "      <td>0.40</td>\n",
       "      <td>0.00</td>\n",
       "      <td>0.55</td>\n",
       "      <td>0.48</td>\n",
       "      <td>0.11</td>\n",
       "      <td>0.00</td>\n",
       "      <td>0.38</td>\n",
       "      <td>0.00</td>\n",
       "      <td>0</td>\n",
       "      <td>0</td>\n",
       "      <td>0</td>\n",
       "      <td>1</td>\n",
       "      <td>0</td>\n",
       "    </tr>\n",
       "    <tr>\n",
       "      <th>6</th>\n",
       "      <td>II4</td>\n",
       "      <td>Valour FC</td>\n",
       "      <td>0.55</td>\n",
       "      <td>0.46</td>\n",
       "      <td>0.21</td>\n",
       "      <td>0.00</td>\n",
       "      <td>0.00</td>\n",
       "      <td>0.41</td>\n",
       "      <td>0.36</td>\n",
       "      <td>0.34</td>\n",
       "      <td>0.26</td>\n",
       "      <td>0.30</td>\n",
       "      <td>0.05</td>\n",
       "      <td>0</td>\n",
       "      <td>0</td>\n",
       "      <td>0</td>\n",
       "      <td>1</td>\n",
       "      <td>0</td>\n",
       "    </tr>\n",
       "    <tr>\n",
       "      <th>7</th>\n",
       "      <td>II4</td>\n",
       "      <td>Atletico Ottawa</td>\n",
       "      <td>0.00</td>\n",
       "      <td>0.00</td>\n",
       "      <td>0.00</td>\n",
       "      <td>0.49</td>\n",
       "      <td>0.36</td>\n",
       "      <td>0.22</td>\n",
       "      <td>0.00</td>\n",
       "      <td>0.00</td>\n",
       "      <td>0.00</td>\n",
       "      <td>0.00</td>\n",
       "      <td>0.00</td>\n",
       "      <td>0</td>\n",
       "      <td>0</td>\n",
       "      <td>0</td>\n",
       "      <td>1</td>\n",
       "      <td>0</td>\n",
       "    </tr>\n",
       "    <tr>\n",
       "      <th>8</th>\n",
       "      <td>II5</td>\n",
       "      <td>FC Edmonton</td>\n",
       "      <td>0.71</td>\n",
       "      <td>0.87</td>\n",
       "      <td>0.61</td>\n",
       "      <td>0.58</td>\n",
       "      <td>0.52</td>\n",
       "      <td>0.29</td>\n",
       "      <td>0.28</td>\n",
       "      <td>0.00</td>\n",
       "      <td>0.00</td>\n",
       "      <td>0.58</td>\n",
       "      <td>0.41</td>\n",
       "      <td>0</td>\n",
       "      <td>0</td>\n",
       "      <td>0</td>\n",
       "      <td>1</td>\n",
       "      <td>0</td>\n",
       "    </tr>\n",
       "    <tr>\n",
       "      <th>9</th>\n",
       "      <td>II5</td>\n",
       "      <td>Valour FC</td>\n",
       "      <td>0.55</td>\n",
       "      <td>0.46</td>\n",
       "      <td>0.21</td>\n",
       "      <td>0.00</td>\n",
       "      <td>0.00</td>\n",
       "      <td>0.41</td>\n",
       "      <td>0.36</td>\n",
       "      <td>0.34</td>\n",
       "      <td>0.26</td>\n",
       "      <td>0.30</td>\n",
       "      <td>0.05</td>\n",
       "      <td>0</td>\n",
       "      <td>0</td>\n",
       "      <td>0</td>\n",
       "      <td>1</td>\n",
       "      <td>0</td>\n",
       "    </tr>\n",
       "    <tr>\n",
       "      <th>10</th>\n",
       "      <td>II6</td>\n",
       "      <td>Atletico Ottawa</td>\n",
       "      <td>0.00</td>\n",
       "      <td>0.00</td>\n",
       "      <td>0.00</td>\n",
       "      <td>0.49</td>\n",
       "      <td>0.36</td>\n",
       "      <td>0.22</td>\n",
       "      <td>0.00</td>\n",
       "      <td>0.00</td>\n",
       "      <td>0.00</td>\n",
       "      <td>0.00</td>\n",
       "      <td>0.00</td>\n",
       "      <td>0</td>\n",
       "      <td>0</td>\n",
       "      <td>0</td>\n",
       "      <td>1</td>\n",
       "      <td>0</td>\n",
       "    </tr>\n",
       "    <tr>\n",
       "      <th>11</th>\n",
       "      <td>II6</td>\n",
       "      <td>York9 FC</td>\n",
       "      <td>0.93</td>\n",
       "      <td>0.83</td>\n",
       "      <td>0.72</td>\n",
       "      <td>0.67</td>\n",
       "      <td>0.66</td>\n",
       "      <td>0.64</td>\n",
       "      <td>0.55</td>\n",
       "      <td>0.47</td>\n",
       "      <td>0.45</td>\n",
       "      <td>0.00</td>\n",
       "      <td>0.00</td>\n",
       "      <td>0</td>\n",
       "      <td>0</td>\n",
       "      <td>0</td>\n",
       "      <td>1</td>\n",
       "      <td>0</td>\n",
       "    </tr>\n",
       "    <tr>\n",
       "      <th>12</th>\n",
       "      <td>II7</td>\n",
       "      <td>Cavalry FC</td>\n",
       "      <td>0.79</td>\n",
       "      <td>0.83</td>\n",
       "      <td>0.66</td>\n",
       "      <td>0.38</td>\n",
       "      <td>0.33</td>\n",
       "      <td>0.53</td>\n",
       "      <td>0.47</td>\n",
       "      <td>0.38</td>\n",
       "      <td>0.36</td>\n",
       "      <td>0.64</td>\n",
       "      <td>0.43</td>\n",
       "      <td>0</td>\n",
       "      <td>0</td>\n",
       "      <td>0</td>\n",
       "      <td>1</td>\n",
       "      <td>0</td>\n",
       "    </tr>\n",
       "    <tr>\n",
       "      <th>13</th>\n",
       "      <td>II7</td>\n",
       "      <td>Pacific FC</td>\n",
       "      <td>0.46</td>\n",
       "      <td>0.69</td>\n",
       "      <td>0.51</td>\n",
       "      <td>0.03</td>\n",
       "      <td>0.00</td>\n",
       "      <td>0.61</td>\n",
       "      <td>0.52</td>\n",
       "      <td>0.50</td>\n",
       "      <td>0.44</td>\n",
       "      <td>0.85</td>\n",
       "      <td>0.00</td>\n",
       "      <td>0</td>\n",
       "      <td>0</td>\n",
       "      <td>0</td>\n",
       "      <td>1</td>\n",
       "      <td>0</td>\n",
       "    </tr>\n",
       "    <tr>\n",
       "      <th>14</th>\n",
       "      <td>II8</td>\n",
       "      <td>HFX Wanderers FC</td>\n",
       "      <td>0.54</td>\n",
       "      <td>0.63</td>\n",
       "      <td>0.41</td>\n",
       "      <td>0.40</td>\n",
       "      <td>0.00</td>\n",
       "      <td>0.55</td>\n",
       "      <td>0.48</td>\n",
       "      <td>0.11</td>\n",
       "      <td>0.00</td>\n",
       "      <td>0.38</td>\n",
       "      <td>0.00</td>\n",
       "      <td>0</td>\n",
       "      <td>0</td>\n",
       "      <td>0</td>\n",
       "      <td>1</td>\n",
       "      <td>0</td>\n",
       "    </tr>\n",
       "    <tr>\n",
       "      <th>15</th>\n",
       "      <td>II8</td>\n",
       "      <td>Forge FC</td>\n",
       "      <td>0.72</td>\n",
       "      <td>0.71</td>\n",
       "      <td>0.71</td>\n",
       "      <td>0.65</td>\n",
       "      <td>0.34</td>\n",
       "      <td>0.68</td>\n",
       "      <td>0.49</td>\n",
       "      <td>0.43</td>\n",
       "      <td>0.40</td>\n",
       "      <td>0.43</td>\n",
       "      <td>0.25</td>\n",
       "      <td>0</td>\n",
       "      <td>0</td>\n",
       "      <td>0</td>\n",
       "      <td>1</td>\n",
       "      <td>0</td>\n",
       "    </tr>\n",
       "  </tbody>\n",
       "</table>\n",
       "</div>"
      ],
      "text/plain": [
       "   game              team    p1    p2    p3    p4    p5    p6    p7    p8  \\\n",
       "0   II1          Forge FC  0.72  0.71  0.71  0.65  0.34  0.68  0.49  0.43   \n",
       "1   II1        Cavalry FC  0.79  0.83  0.66  0.38  0.33  0.53  0.47  0.38   \n",
       "2   II2        Pacific FC  0.46  0.69  0.51  0.03  0.00  0.61  0.52  0.50   \n",
       "3   II2       FC Edmonton  0.71  0.87  0.61  0.58  0.52  0.29  0.28  0.00   \n",
       "4   II3          York9 FC  0.93  0.83  0.72  0.67  0.66  0.64  0.55  0.47   \n",
       "5   II3  HFX Wanderers FC  0.54  0.63  0.41  0.40  0.00  0.55  0.48  0.11   \n",
       "6   II4         Valour FC  0.55  0.46  0.21  0.00  0.00  0.41  0.36  0.34   \n",
       "7   II4   Atletico Ottawa  0.00  0.00  0.00  0.49  0.36  0.22  0.00  0.00   \n",
       "8   II5       FC Edmonton  0.71  0.87  0.61  0.58  0.52  0.29  0.28  0.00   \n",
       "9   II5         Valour FC  0.55  0.46  0.21  0.00  0.00  0.41  0.36  0.34   \n",
       "10  II6   Atletico Ottawa  0.00  0.00  0.00  0.49  0.36  0.22  0.00  0.00   \n",
       "11  II6          York9 FC  0.93  0.83  0.72  0.67  0.66  0.64  0.55  0.47   \n",
       "12  II7        Cavalry FC  0.79  0.83  0.66  0.38  0.33  0.53  0.47  0.38   \n",
       "13  II7        Pacific FC  0.46  0.69  0.51  0.03  0.00  0.61  0.52  0.50   \n",
       "14  II8  HFX Wanderers FC  0.54  0.63  0.41  0.40  0.00  0.55  0.48  0.11   \n",
       "15  II8          Forge FC  0.72  0.71  0.71  0.65  0.34  0.68  0.49  0.43   \n",
       "\n",
       "      p9    p9   p10  p11  p12  p13  r  s  \n",
       "0   0.40  0.43  0.25    0    0    0  1  0  \n",
       "1   0.36  0.64  0.43    0    0    0  1  0  \n",
       "2   0.44  0.85  0.00    0    0    0  1  0  \n",
       "3   0.00  0.58  0.41    0    0    0  1  0  \n",
       "4   0.45  0.00  0.00    0    0    0  1  0  \n",
       "5   0.00  0.38  0.00    0    0    0  1  0  \n",
       "6   0.26  0.30  0.05    0    0    0  1  0  \n",
       "7   0.00  0.00  0.00    0    0    0  1  0  \n",
       "8   0.00  0.58  0.41    0    0    0  1  0  \n",
       "9   0.26  0.30  0.05    0    0    0  1  0  \n",
       "10  0.00  0.00  0.00    0    0    0  1  0  \n",
       "11  0.45  0.00  0.00    0    0    0  1  0  \n",
       "12  0.36  0.64  0.43    0    0    0  1  0  \n",
       "13  0.44  0.85  0.00    0    0    0  1  0  \n",
       "14  0.00  0.38  0.00    0    0    0  1  0  \n",
       "15  0.40  0.43  0.25    0    0    0  1  0  "
      ]
     },
     "execution_count": 13,
     "metadata": {},
     "output_type": "execute_result"
    }
   ],
   "source": [
    "db"
   ]
  },
  {
   "cell_type": "code",
   "execution_count": 14,
   "metadata": {},
   "outputs": [
    {
     "data": {
      "text/plain": [
       "(16, 18)"
      ]
     },
     "execution_count": 14,
     "metadata": {},
     "output_type": "execute_result"
    }
   ],
   "source": [
    "db.shape"
   ]
  },
  {
   "cell_type": "code",
   "execution_count": 15,
   "metadata": {},
   "outputs": [],
   "source": [
    "def pump_it_up(db):\n",
    "    df = db.copy()\n",
    "    dc = df.copy()\n",
    "    m = df['p1'].copy()\n",
    "    n = df['p2'].copy()\n",
    "    o = df['p3'].copy()\n",
    "    p = df['p4'].copy()\n",
    "    q = df['p5'].copy()\n",
    "    r = df['p6'].copy()\n",
    "    df['p1'] = dc.pop('p8')\n",
    "    df['p2'] = dc.pop('p10')\n",
    "    df['p3'] = dc.pop('p12')\n",
    "    df['p4'] = dc.pop('p9')\n",
    "    df['p5'] = dc.pop('p11')\n",
    "    df['p6'] = dc.pop('p13')\n",
    "    df['p7'] = m\n",
    "    df['p8'] = n\n",
    "    df['p9'] = o\n",
    "    df['p10'] = p\n",
    "    df['p11'] = q\n",
    "    df['p12'] = r\n",
    "    df['p13'] = dc.pop('p7')\n",
    "    dc = df.copy()\n",
    "    db = pd.concat([db,df])\n",
    "    df = dc.copy()\n",
    "    m = df['p13'].copy()\n",
    "    n = df['p12'].copy()\n",
    "    o = df['p11'].copy()\n",
    "    p = df['p10'].copy()\n",
    "    q = df['p9'].copy()\n",
    "    r = df['p8'].copy()\n",
    "    df['p13'] = dc.pop('p8')\n",
    "    df['p12'] = dc.pop('p10')\n",
    "    df['p11'] = dc.pop('p12')\n",
    "    df['p10'] = dc.pop('p9')\n",
    "    df['p9'] = dc.pop('p11')\n",
    "    df['p8'] = dc.pop('p13')\n",
    "    df['p7'] = m\n",
    "    df['p6'] = n\n",
    "    df['p5'] = o\n",
    "    df['p4'] = p\n",
    "    df['p3'] = q\n",
    "    df['p2'] = r\n",
    "    df['p1'] = dc.pop('p7')\n",
    "    #dc = df.copy()\n",
    "    db = pd.concat([db,df])\n",
    "    db = cpl.index_reset(db)\n",
    "    return db"
   ]
  },
  {
   "cell_type": "code",
   "execution_count": null,
   "metadata": {},
   "outputs": [],
   "source": [
    "def pump_it_up(db):\n",
    "    cols = ['p1','p2','p3','p4','p5','p6','p7','p8','p9','p10','p11','p12','p13']\n",
    "    np.random.shuffle(cols)\n",
    "    df = db.copy()\n",
    "    dc = df.copy()\n",
    "    m = df[cols[0]].copy()\n",
    "    n = df[cols[1]].copy()\n",
    "    o = df[cols[2]].copy()\n",
    "    p = df[cols[3]].copy()\n",
    "    q = df[cols[4]].copy()\n",
    "    r = df[cols[5]].copy()\n",
    "    df[cols[0]] = dc.pop(cols[7])\n",
    "    df[cols[1]] = dc.pop(cols[8])\n",
    "    df[cols[2]] = dc.pop(cols[9])\n",
    "    df[cols[3]] = dc.pop(cols[10])\n",
    "    df[cols[4]] = dc.pop(cols[11])\n",
    "    df[cols[5]] = dc.pop(cols[12])\n",
    "    df[cols[6]] = m\n",
    "    df[cols[7]] = n\n",
    "    df[cols[8]] = o\n",
    "    df[cols[9]] = p\n",
    "    df[cols[10]] = q\n",
    "    df[cols[11]] = r\n",
    "    df[cols[12]] = dc.pop(cols[6])\n",
    "    dc = df.copy()\n",
    "    db = pd.concat([db,df])\n",
    "    '''df = dc.copy()\n",
    "    np.random.shuffle(cols)\n",
    "    m = df[cols[0]].copy()\n",
    "    n = df[cols[1]].copy()\n",
    "    o = df[cols[2]].copy()\n",
    "    p = df[cols[3]].copy()\n",
    "    q = df[cols[4]].copy()\n",
    "    r = df[cols[5]].copy()\n",
    "    df[cols[0]] = dc.pop(cols[7])\n",
    "    df[cols[1]] = dc.pop(cols[8])\n",
    "    df[cols[2]] = dc.pop(cols[9])\n",
    "    df[cols[3]] = dc.pop(cols[10])\n",
    "    df[cols[4]] = dc.pop(cols[11])\n",
    "    df[cols[5]] = dc.pop(cols[12])\n",
    "    df[cols[6]] = m\n",
    "    df[cols[7]] = n\n",
    "    df[cols[8]] = o\n",
    "    df[cols[9]] = p\n",
    "    df[cols[10]] = q\n",
    "    df[cols[11]] = r\n",
    "    df[cols[12]] = dc.pop(cols[6])\n",
    "    #dc = df.copy()\n",
    "    db = pd.concat([db,df])'''\n",
    "    db = index_reset(db)\n",
    "    return db"
   ]
  },
  {
   "cell_type": "code",
   "execution_count": 16,
   "metadata": {},
   "outputs": [
    {
     "data": {
      "text/plain": [
       "(588, 17)"
      ]
     },
     "execution_count": 16,
     "metadata": {},
     "output_type": "execute_result"
    }
   ],
   "source": [
    "df = pump_it_up(db)\n",
    "df.shape"
   ]
  },
  {
   "cell_type": "code",
   "execution_count": 17,
   "metadata": {},
   "outputs": [
    {
     "data": {
      "text/plain": [
       "(1764, 17)"
      ]
     },
     "execution_count": 17,
     "metadata": {},
     "output_type": "execute_result"
    }
   ],
   "source": [
    "db = pump_it_up(df)\n",
    "db.shape"
   ]
  },
  {
   "cell_type": "code",
   "execution_count": 18,
   "metadata": {},
   "outputs": [
    {
     "data": {
      "text/plain": [
       "(5292, 17)"
      ]
     },
     "execution_count": 18,
     "metadata": {},
     "output_type": "execute_result"
    }
   ],
   "source": [
    "df = pump_it_up(db)\n",
    "df.shape"
   ]
  },
  {
   "cell_type": "code",
   "execution_count": 19,
   "metadata": {},
   "outputs": [
    {
     "data": {
      "text/plain": [
       "(15876, 17)"
      ]
     },
     "execution_count": 19,
     "metadata": {},
     "output_type": "execute_result"
    }
   ],
   "source": [
    "db = pump_it_up(df)\n",
    "db.shape"
   ]
  },
  {
   "cell_type": "code",
   "execution_count": 20,
   "metadata": {},
   "outputs": [],
   "source": [
    "db.pop('game')\n",
    "db.pop('team')\n",
    "y = db.pop('r')\n",
    "db.pop('s')\n",
    "X = db"
   ]
  },
  {
   "cell_type": "code",
   "execution_count": null,
   "metadata": {},
   "outputs": [],
   "source": [
    "X.head(2)"
   ]
  },
  {
   "cell_type": "code",
   "execution_count": 22,
   "metadata": {},
   "outputs": [],
   "source": [
    "#importing libraries from sklearn\n",
    "from sklearn import tree\n",
    "#from sklearn.datasets import make_classification\n",
    "from sklearn.decomposition import PCA\n",
    "from sklearn.discriminant_analysis import QuadraticDiscriminantAnalysis\n",
    "from sklearn import model_selection\n",
    "from sklearn.model_selection import train_test_split\n",
    "from sklearn.preprocessing import StandardScaler, MinMaxScaler#,Imputer\n",
    "from sklearn import metrics\n",
    "#colours = sns.set_palette('pastel')"
   ]
  },
  {
   "cell_type": "code",
   "execution_count": 23,
   "metadata": {},
   "outputs": [],
   "source": [
    "# import algorithm modules\n",
    "from sklearn import svm\n",
    "from sklearn.ensemble import RandomForestClassifier, AdaBoostClassifier, VotingClassifier, BaggingClassifier\n",
    "from sklearn.metrics import accuracy_score\n",
    "from sklearn.neighbors import KNeighborsClassifier\n",
    "from sklearn.svm import SVC\n",
    "from sklearn.tree import DecisionTreeClassifier"
   ]
  },
  {
   "cell_type": "code",
   "execution_count": 24,
   "metadata": {},
   "outputs": [],
   "source": [
    "X_train, X_test, y_train, y_test = train_test_split(X, y, test_size=0.3, random_state=7)"
   ]
  },
  {
   "cell_type": "code",
   "execution_count": 25,
   "metadata": {},
   "outputs": [],
   "source": [
    "seed = 7"
   ]
  },
  {
   "cell_type": "code",
   "execution_count": 28,
   "metadata": {},
   "outputs": [],
   "source": [
    "#K Neighbors Classifier\n",
    "# algorithm = ‘auto’, ‘ball_tree’, ‘kd_tree’, ‘brute’\n",
    "def kNeighbors(x,y):\n",
    "    model = KNeighborsClassifier(algorithm = 'auto',\n",
    "                                 leaf_size=30,\n",
    "                                 metric='minkowski',\n",
    "                                 metric_params=None,\n",
    "                                 n_jobs=1,\n",
    "                                 n_neighbors=5,\n",
    "                                 p=2,\n",
    "                                 weights='uniform')\n",
    "    model.fit(x, y)\n",
    "    return model\n",
    "    \n",
    "knn = kNeighbors(X_train, y_train)"
   ]
  },
  {
   "cell_type": "code",
   "execution_count": 29,
   "metadata": {},
   "outputs": [],
   "source": [
    "#Random Forest Regression\n",
    "def forestRegression_1(x,y):\n",
    "    model = RandomForestClassifier(n_estimators = 100,\n",
    "                                   min_samples_leaf = 5,\n",
    "                                   min_samples_split = 12,\n",
    "                                   random_state = 0,\n",
    "                                   max_depth = 80)\n",
    "    model.fit(x, y)\n",
    "    return model\n",
    "    \n",
    "rf1 = forestRegression_1(X_train, y_train)"
   ]
  },
  {
   "cell_type": "code",
   "execution_count": 30,
   "metadata": {},
   "outputs": [],
   "source": [
    "# Bagged Decision Trees for Classification - necessary dependencies\n",
    "def baggedTree(x,y,seed):\n",
    "    model = BaggingClassifier(base_estimator=rf1,\n",
    "                              n_estimators=10,\n",
    "                              random_state=seed)\n",
    "    model.fit(x, y)\n",
    "    return model\n",
    "\n",
    "bag = baggedTree(X_train, y_train,seed)\n",
    "\n",
    "# AdaBoost Classification\n",
    "def adaBoost(x,y,seed):\n",
    "    model = AdaBoostClassifier(n_estimators=70,\n",
    "                               random_state=seed,\n",
    "                               algorithm='SAMME')\n",
    "    model.fit(x, y)\n",
    "    return model\n",
    "    \n",
    "ada = adaBoost(X_train, y_train,seed)\n",
    "\n",
    "# Voting Ensemble for Classification\n",
    "def ensembleClassifier(x,y):\n",
    "    # create the sub models\n",
    "    estimators = []\n",
    "    estimators.append(('rf1', rf1))\n",
    "    estimators.append(('knn', knn))\n",
    "    estimators.append(('bag', bag))\n",
    "\n",
    "    # create the ensemble model\n",
    "    model = VotingClassifier(estimators,voting='soft',weights=[0.83,0.79,0.82])\n",
    "    model.fit(x,y)\n",
    "    return model\n",
    "\n",
    "ens = ensembleClassifier(X_train, y_train)"
   ]
  },
  {
   "cell_type": "code",
   "execution_count": 31,
   "metadata": {},
   "outputs": [],
   "source": [
    "def check(a,b):\n",
    "    if a == b:\n",
    "        result = '<'\n",
    "    else:\n",
    "        result = '-'\n",
    "    return result"
   ]
  },
  {
   "cell_type": "code",
   "execution_count": 32,
   "metadata": {},
   "outputs": [
    {
     "name": "stdout",
     "output_type": "stream",
     "text": [
      "rf1 0.8266894627913255\n",
      "ens 0.8230000899847026\n",
      "bag 0.8004139296319626\n",
      "knn 0.7949248627733285\n"
     ]
    }
   ],
   "source": [
    "print('rf1',rf1.score(X_train, y_train))\n",
    "print('ens',ens.score(X_train, y_train))\n",
    "print('bag',bag.score(X_train, y_train))\n",
    "print('knn',knn.score(X_train, y_train))"
   ]
  },
  {
   "cell_type": "code",
   "execution_count": 50,
   "metadata": {},
   "outputs": [],
   "source": [
    "random_nums = np.random.randint(low=1, high=58, size=(20))"
   ]
  },
  {
   "cell_type": "code",
   "execution_count": 51,
   "metadata": {},
   "outputs": [],
   "source": [
    "def print_pred_results(model,result,num):\n",
    "    print('model          : ', result, check(result,y_test.iloc[num]))\n",
    "\n",
    "def predictionTest(num,model1,model2,model3):\n",
    "    p = X_test.iloc[num].tolist()\n",
    "    result1 = model1.predict([p]).flatten()\n",
    "    result2 = model2.predict([p]).flatten()\n",
    "    result3 = model3.predict([p]).flatten()\n",
    "    print('\\nActual       : ',y_test.iloc[num])\n",
    "    print_pred_results(model1,result1,num)\n",
    "    print_pred_results(model2,result2,num)\n",
    "    print_pred_results(model3,result3,num)"
   ]
  },
  {
   "cell_type": "code",
   "execution_count": 52,
   "metadata": {},
   "outputs": [
    {
     "data": {
      "text/plain": [
       "'for i in random_nums:\\n    predictionTest(i,rf1,knn,bag)'"
      ]
     },
     "execution_count": 52,
     "metadata": {},
     "output_type": "execute_result"
    }
   ],
   "source": [
    "for i in random_nums:\n",
    "    predictionTest(i,rf1,knn,bag)"
   ]
  },
  {
   "cell_type": "code",
   "execution_count": 53,
   "metadata": {},
   "outputs": [],
   "source": [
    "def cycle_prob_test(num,model):\n",
    "    p = X_test.iloc[num].tolist()\n",
    "    e = model.predict_proba([p]).flatten()\n",
    "    return e.tolist()\n",
    "\n",
    "def cycle_pred_test(num,model):\n",
    "    p = X_test.iloc[num].tolist()\n",
    "    e = model.predict([p]).flatten()\n",
    "    if e == y_test.iloc[num]:\n",
    "        a = 1\n",
    "    else:\n",
    "        a = 0\n",
    "    return a\n",
    "\n",
    "def model_pred_test(model):\n",
    "    b = []\n",
    "    prob = []\n",
    "    for i in random_nums:\n",
    "        b.append(cycle_pred_test(i,model))\n",
    "        prob.append(cycle_prob_test(i,model))\n",
    "    dz = pd.DataFrame(b)\n",
    "    df = pd.DataFrame(prob)\n",
    "    c = str(float(dz.sum().values / 20))\n",
    "    print('score :',c)\n",
    "    #print(df)\n",
    "    #return df"
   ]
  },
  {
   "cell_type": "code",
   "execution_count": 54,
   "metadata": {},
   "outputs": [
    {
     "name": "stdout",
     "output_type": "stream",
     "text": [
      "score : 0.75\n"
     ]
    }
   ],
   "source": [
    "test_check = model_pred_test(knn)"
   ]
  },
  {
   "cell_type": "code",
   "execution_count": 55,
   "metadata": {},
   "outputs": [
    {
     "name": "stdout",
     "output_type": "stream",
     "text": [
      "score : 0.5\n"
     ]
    }
   ],
   "source": [
    "model_pred_test(ada)"
   ]
  },
  {
   "cell_type": "code",
   "execution_count": 56,
   "metadata": {},
   "outputs": [
    {
     "name": "stdout",
     "output_type": "stream",
     "text": [
      "score : 0.8\n"
     ]
    }
   ],
   "source": [
    "model_pred_test(bag)"
   ]
  },
  {
   "cell_type": "code",
   "execution_count": 57,
   "metadata": {},
   "outputs": [
    {
     "name": "stdout",
     "output_type": "stream",
     "text": [
      "score : 0.8\n"
     ]
    }
   ],
   "source": [
    "model_pred_test(rf1)"
   ]
  },
  {
   "cell_type": "code",
   "execution_count": 58,
   "metadata": {},
   "outputs": [
    {
     "name": "stdout",
     "output_type": "stream",
     "text": [
      "score : 0.85\n"
     ]
    }
   ],
   "source": [
    "model_pred_test(ens)"
   ]
  },
  {
   "cell_type": "code",
   "execution_count": 15,
   "metadata": {},
   "outputs": [],
   "source": [
    "import pickle\n",
    "filename = 'models/cpl_roster_classifier.sav'\n",
    "#pickle.dump(rf1, open(filename, 'wb'))"
   ]
  },
  {
   "cell_type": "code",
   "execution_count": 16,
   "metadata": {},
   "outputs": [
    {
     "name": "stderr",
     "output_type": "stream",
     "text": [
      "/home/todd/anaconda3/lib/python3.7/site-packages/sklearn/base.py:318: UserWarning: Trying to unpickle estimator DecisionTreeClassifier from version 0.22.1 when using version 0.22.2.post1. This might lead to breaking code or invalid results. Use at your own risk.\n",
      "  UserWarning)\n",
      "/home/todd/anaconda3/lib/python3.7/site-packages/sklearn/base.py:318: UserWarning: Trying to unpickle estimator RandomForestClassifier from version 0.22.1 when using version 0.22.2.post1. This might lead to breaking code or invalid results. Use at your own risk.\n",
      "  UserWarning)\n"
     ]
    }
   ],
   "source": [
    "cpl_classifier_model = pickle.load(open(filename, 'rb'))"
   ]
  },
  {
   "cell_type": "code",
   "execution_count": 17,
   "metadata": {},
   "outputs": [],
   "source": [
    "#model_pred_test(cpl_classifier_model)"
   ]
  },
  {
   "cell_type": "code",
   "execution_count": 45,
   "metadata": {},
   "outputs": [
    {
     "name": "stdout",
     "output_type": "stream",
     "text": [
      "Valour FC Atletico Ottawa\n"
     ]
    }
   ],
   "source": [
    "# home side\n",
    "q1 = schedule.iloc[3]['home']\n",
    "# away side\n",
    "q2 = schedule.iloc[3]['away']\n",
    "print(q1,q2)"
   ]
  },
  {
   "cell_type": "code",
   "execution_count": 46,
   "metadata": {},
   "outputs": [],
   "source": [
    "compare = cpl.get_team_comparison(results_brief,q1,q2)"
   ]
  },
  {
   "cell_type": "code",
   "execution_count": 47,
   "metadata": {},
   "outputs": [],
   "source": [
    "t1_x, t1_y = cpl.get_NB_data(compare,q1)\n",
    "t2_x, t2_y = cpl.get_NB_data(compare,q2)"
   ]
  },
  {
   "cell_type": "code",
   "execution_count": 48,
   "metadata": {},
   "outputs": [
    {
     "data": {
      "text/html": [
       "<div>\n",
       "<style scoped>\n",
       "    .dataframe tbody tr th:only-of-type {\n",
       "        vertical-align: middle;\n",
       "    }\n",
       "\n",
       "    .dataframe tbody tr th {\n",
       "        vertical-align: top;\n",
       "    }\n",
       "\n",
       "    .dataframe thead th {\n",
       "        text-align: right;\n",
       "    }\n",
       "</style>\n",
       "<table border=\"1\" class=\"dataframe\">\n",
       "  <thead>\n",
       "    <tr style=\"text-align: right;\">\n",
       "      <th></th>\n",
       "      <th>game</th>\n",
       "      <th>home</th>\n",
       "      <th>away</th>\n",
       "    </tr>\n",
       "  </thead>\n",
       "  <tbody>\n",
       "    <tr>\n",
       "      <th>3</th>\n",
       "      <td>II4</td>\n",
       "      <td>Valour FC</td>\n",
       "      <td>Atletico Ottawa</td>\n",
       "    </tr>\n",
       "  </tbody>\n",
       "</table>\n",
       "</div>"
      ],
      "text/plain": [
       "  game       home             away\n",
       "3  II4  Valour FC  Atletico Ottawa"
      ]
     },
     "execution_count": 48,
     "metadata": {},
     "output_type": "execute_result"
    }
   ],
   "source": [
    "game_info = schedule[schedule['home'] == q1]\n",
    "game_info = game_info[game_info['away'] == q2]\n",
    "game_info"
   ]
  },
  {
   "cell_type": "code",
   "execution_count": 49,
   "metadata": {},
   "outputs": [],
   "source": [
    "game = game_info.iloc[0]['game']\n",
    "game_h = cpl.get_home_away_comparison(stats,game,q1)\n",
    "game_a = cpl.get_home_away_comparison(stats,game,q2)"
   ]
  },
  {
   "cell_type": "code",
   "execution_count": 50,
   "metadata": {},
   "outputs": [
    {
     "name": "stderr",
     "output_type": "stream",
     "text": [
      "/home/todd/anaconda3/lib/python3.7/site-packages/pandas/core/ops/array_ops.py:253: FutureWarning: elementwise comparison failed; returning scalar instead, but in the future will perform elementwise comparison\n",
      "  res_values = method(rvalues)\n"
     ]
    }
   ],
   "source": [
    "h1_roster = cpl.get_compare_roster(results,q1,team_stats,team_ref,rated_forwards,rated_midfielders,rated_defenders,rated_keepers,player_info)\n",
    "h2_roster = cpl.get_compare_roster(results,q2,team_stats,team_ref,rated_forwards,rated_midfielders,rated_defenders,rated_keepers,player_info)"
   ]
  },
  {
   "cell_type": "code",
   "execution_count": 51,
   "metadata": {},
   "outputs": [],
   "source": [
    "def get_overall_roster(game_roster):\n",
    "    b = []\n",
    "    for i in range(game_roster.shape[0]):\n",
    "        b.append(game_roster.iloc[i]['overall']) # get the player overall score for each player in the game\n",
    "    if len(b) < 16:\n",
    "        i = int(16 - len(b))\n",
    "        for j in range(0,i):\n",
    "            b.append(0)\n",
    "    db = pd.DataFrame(b[0:14])\n",
    "    db = db.T\n",
    "    return db"
   ]
  },
  {
   "cell_type": "code",
   "execution_count": 52,
   "metadata": {},
   "outputs": [
    {
     "data": {
      "text/html": [
       "<div>\n",
       "<style scoped>\n",
       "    .dataframe tbody tr th:only-of-type {\n",
       "        vertical-align: middle;\n",
       "    }\n",
       "\n",
       "    .dataframe tbody tr th {\n",
       "        vertical-align: top;\n",
       "    }\n",
       "\n",
       "    .dataframe thead th {\n",
       "        text-align: right;\n",
       "    }\n",
       "</style>\n",
       "<table border=\"1\" class=\"dataframe\">\n",
       "  <thead>\n",
       "    <tr style=\"text-align: right;\">\n",
       "      <th></th>\n",
       "      <th>0</th>\n",
       "      <th>1</th>\n",
       "      <th>2</th>\n",
       "      <th>3</th>\n",
       "      <th>4</th>\n",
       "      <th>5</th>\n",
       "      <th>6</th>\n",
       "      <th>7</th>\n",
       "      <th>8</th>\n",
       "      <th>9</th>\n",
       "      <th>10</th>\n",
       "      <th>11</th>\n",
       "      <th>12</th>\n",
       "      <th>13</th>\n",
       "    </tr>\n",
       "  </thead>\n",
       "  <tbody>\n",
       "    <tr>\n",
       "      <th>0</th>\n",
       "      <td>0.55</td>\n",
       "      <td>0.46</td>\n",
       "      <td>0.21</td>\n",
       "      <td>0.0</td>\n",
       "      <td>0.0</td>\n",
       "      <td>0.41</td>\n",
       "      <td>0.36</td>\n",
       "      <td>0.34</td>\n",
       "      <td>0.26</td>\n",
       "      <td>0.3</td>\n",
       "      <td>0.05</td>\n",
       "      <td>0</td>\n",
       "      <td>0</td>\n",
       "      <td>0</td>\n",
       "    </tr>\n",
       "  </tbody>\n",
       "</table>\n",
       "</div>"
      ],
      "text/plain": [
       "      0     1     2    3    4     5     6     7     8    9    10 11 12 13\n",
       "0  0.55  0.46  0.21  0.0  0.0  0.41  0.36  0.34  0.26  0.3  0.05  0  0  0"
      ]
     },
     "execution_count": 52,
     "metadata": {},
     "output_type": "execute_result"
    }
   ],
   "source": [
    "q1_roster = get_overall_roster(h1_roster)\n",
    "q1_roster"
   ]
  },
  {
   "cell_type": "code",
   "execution_count": 53,
   "metadata": {},
   "outputs": [
    {
     "data": {
      "text/html": [
       "<div>\n",
       "<style scoped>\n",
       "    .dataframe tbody tr th:only-of-type {\n",
       "        vertical-align: middle;\n",
       "    }\n",
       "\n",
       "    .dataframe tbody tr th {\n",
       "        vertical-align: top;\n",
       "    }\n",
       "\n",
       "    .dataframe thead th {\n",
       "        text-align: right;\n",
       "    }\n",
       "</style>\n",
       "<table border=\"1\" class=\"dataframe\">\n",
       "  <thead>\n",
       "    <tr style=\"text-align: right;\">\n",
       "      <th></th>\n",
       "      <th>0</th>\n",
       "      <th>1</th>\n",
       "      <th>2</th>\n",
       "      <th>3</th>\n",
       "      <th>4</th>\n",
       "      <th>5</th>\n",
       "      <th>6</th>\n",
       "      <th>7</th>\n",
       "      <th>8</th>\n",
       "      <th>9</th>\n",
       "      <th>10</th>\n",
       "      <th>11</th>\n",
       "      <th>12</th>\n",
       "      <th>13</th>\n",
       "    </tr>\n",
       "  </thead>\n",
       "  <tbody>\n",
       "    <tr>\n",
       "      <th>0</th>\n",
       "      <td>0.0</td>\n",
       "      <td>0.0</td>\n",
       "      <td>0.0</td>\n",
       "      <td>0.49</td>\n",
       "      <td>0.36</td>\n",
       "      <td>0.22</td>\n",
       "      <td>0.0</td>\n",
       "      <td>0.0</td>\n",
       "      <td>0</td>\n",
       "      <td>0</td>\n",
       "      <td>0</td>\n",
       "      <td>0</td>\n",
       "      <td>0</td>\n",
       "      <td>0</td>\n",
       "    </tr>\n",
       "  </tbody>\n",
       "</table>\n",
       "</div>"
      ],
      "text/plain": [
       "     0    1    2     3     4     5    6    7  8  9 10 11 12 13\n",
       "0  0.0  0.0  0.0  0.49  0.36  0.22  0.0  0.0  0  0  0  0  0  0"
      ]
     },
     "execution_count": 53,
     "metadata": {},
     "output_type": "execute_result"
    }
   ],
   "source": [
    "q2_roster = get_overall_roster(h2_roster)\n",
    "q2_roster"
   ]
  },
  {
   "cell_type": "code",
   "execution_count": 54,
   "metadata": {},
   "outputs": [],
   "source": [
    "def roster_pred(model,array):\n",
    "    prediction = model.predict_proba([array]).flatten()\n",
    "    df = pd.DataFrame(prediction)\n",
    "    #print('score :',prediction)\n",
    "    return df"
   ]
  },
  {
   "cell_type": "code",
   "execution_count": 55,
   "metadata": {},
   "outputs": [],
   "source": [
    "home_win, draw, away_win = cpl.get_match_prediction(q1,q2,t1_x,t1_y,t2_x,t2_y)"
   ]
  },
  {
   "cell_type": "code",
   "execution_count": 56,
   "metadata": {},
   "outputs": [],
   "source": [
    "home_win_new, away_win_new, draw_new = cpl.get_final_game_prediction(cpl_classifier_model,q1_roster,q2_roster,home_win,away_win,draw)"
   ]
  },
  {
   "cell_type": "code",
   "execution_count": 57,
   "metadata": {},
   "outputs": [
    {
     "name": "stdout",
     "output_type": "stream",
     "text": [
      "Valour FC \n",
      "win probability:  0.28\n"
     ]
    }
   ],
   "source": [
    "print(q1,'\\nwin probability: ', round(home_win_new,2))"
   ]
  },
  {
   "cell_type": "code",
   "execution_count": 58,
   "metadata": {},
   "outputs": [
    {
     "name": "stdout",
     "output_type": "stream",
     "text": [
      "Atletico Ottawa \n",
      "win probability:  0.39\n"
     ]
    }
   ],
   "source": [
    "print(q2,'\\nwin probability: ', round(away_win_new,2))"
   ]
  },
  {
   "cell_type": "code",
   "execution_count": 59,
   "metadata": {},
   "outputs": [
    {
     "name": "stdout",
     "output_type": "stream",
     "text": [
      "Draw probability:  0.34\n"
     ]
    }
   ],
   "source": [
    "print('Draw probability: ', round(draw_new,2))"
   ]
  },
  {
   "cell_type": "markdown",
   "metadata": {},
   "source": [
    "def get_final_game_prediction(model,q1_roster,q2_roster,home_win,away_win,draw):\n",
    "    q1_prediction = roster_pred(model,q1_roster)\n",
    "    q1_p = round(q1_prediction.iloc[2][0],2)\n",
    "    q2_prediction = roster_pred(model,q2_roster)\n",
    "    q2_p = round(q2_prediction.iloc[2][0],2)\n",
    "    q_draw = (q1_prediction.iloc[1][0] + q2_prediction.iloc[2][0]) / 2\n",
    "    total_ = q1_p + home_win + q2_p + away_win + q_draw + draw\n",
    "    h_w = round((q1_p + home_win) / total_, 2)\n",
    "    a_w = round((q2_p + away_win) / total_, 2)\n",
    "    g_d = round((q_draw + draw) / total_, 2)\n",
    "    return h_w, a_w, g_d"
   ]
  },
  {
   "cell_type": "code",
   "execution_count": 34,
   "metadata": {},
   "outputs": [],
   "source": [
    "q1_prediction = roster_pred(cpl_classifier_model,q1_roster)"
   ]
  },
  {
   "cell_type": "code",
   "execution_count": 35,
   "metadata": {},
   "outputs": [],
   "source": [
    "q2_prediction = roster_pred(cpl_classifier_model,q2_roster)"
   ]
  },
  {
   "cell_type": "code",
   "execution_count": 36,
   "metadata": {},
   "outputs": [
    {
     "data": {
      "text/plain": [
       "0.34405257131182304"
      ]
     },
     "execution_count": 36,
     "metadata": {},
     "output_type": "execute_result"
    }
   ],
   "source": [
    "q_draw = (q1_prediction.iloc[1][0] + q2_prediction.iloc[2][0]) /2\n",
    "q_draw"
   ]
  },
  {
   "cell_type": "code",
   "execution_count": 37,
   "metadata": {},
   "outputs": [],
   "source": [
    "q1_p = round(q1_prediction.iloc[2][0],2)"
   ]
  },
  {
   "cell_type": "code",
   "execution_count": 38,
   "metadata": {},
   "outputs": [],
   "source": [
    "q2_p = round(q2_prediction.iloc[2][0],2)"
   ]
  },
  {
   "cell_type": "code",
   "execution_count": 39,
   "metadata": {},
   "outputs": [
    {
     "name": "stdout",
     "output_type": "stream",
     "text": [
      "FC Edmonton predicted to win  0.67\n"
     ]
    }
   ],
   "source": [
    "if q1_p > q2_p:\n",
    "    print(q1,'predicted to win ',q1_p)\n",
    "elif q2_p > q1_p:\n",
    "    print(q2,'predicted to win ',q2_p)\n",
    "else:\n",
    "    print('A Draw is predicted ',q1_p,' ',q2_p)"
   ]
  },
  {
   "cell_type": "code",
   "execution_count": 40,
   "metadata": {},
   "outputs": [],
   "source": [
    "total_ = q1_p + home_win + q2_p + away_win + q_draw + draw"
   ]
  },
  {
   "cell_type": "code",
   "execution_count": 41,
   "metadata": {},
   "outputs": [
    {
     "data": {
      "text/plain": [
       "0.53"
      ]
     },
     "execution_count": 41,
     "metadata": {},
     "output_type": "execute_result"
    }
   ],
   "source": [
    "round((q1_p + home_win) / total_, 2)"
   ]
  },
  {
   "cell_type": "code",
   "execution_count": 42,
   "metadata": {},
   "outputs": [
    {
     "data": {
      "text/plain": [
       "0.24"
      ]
     },
     "execution_count": 42,
     "metadata": {},
     "output_type": "execute_result"
    }
   ],
   "source": [
    "round((q2_p + away_win) / total_, 2)"
   ]
  },
  {
   "cell_type": "code",
   "execution_count": 43,
   "metadata": {},
   "outputs": [
    {
     "data": {
      "text/plain": [
       "0.23"
      ]
     },
     "execution_count": 43,
     "metadata": {},
     "output_type": "execute_result"
    }
   ],
   "source": [
    "round((q_draw + draw) / total_, 2)"
   ]
  },
  {
   "cell_type": "code",
   "execution_count": 44,
   "metadata": {},
   "outputs": [],
   "source": [
    "home_win_new, away_win_new, draw_new = get_final_game_prediction(cpl_classifier_model,q1_roster,q2_roster,home_win,away_win,draw)"
   ]
  },
  {
   "cell_type": "code",
   "execution_count": 45,
   "metadata": {},
   "outputs": [
    {
     "data": {
      "text/plain": [
       "0.53"
      ]
     },
     "execution_count": 45,
     "metadata": {},
     "output_type": "execute_result"
    }
   ],
   "source": [
    "home_win_new"
   ]
  },
  {
   "cell_type": "code",
   "execution_count": 46,
   "metadata": {},
   "outputs": [
    {
     "data": {
      "text/plain": [
       "0.24"
      ]
     },
     "execution_count": 46,
     "metadata": {},
     "output_type": "execute_result"
    }
   ],
   "source": [
    "away_win_new"
   ]
  },
  {
   "cell_type": "code",
   "execution_count": 47,
   "metadata": {},
   "outputs": [
    {
     "data": {
      "text/plain": [
       "0.23"
      ]
     },
     "execution_count": 47,
     "metadata": {},
     "output_type": "execute_result"
    }
   ],
   "source": [
    "draw_new"
   ]
  },
  {
   "cell_type": "code",
   "execution_count": null,
   "metadata": {},
   "outputs": [],
   "source": []
  }
 ],
 "metadata": {
  "kernelspec": {
   "display_name": "Python 3",
   "language": "python",
   "name": "python3"
  },
  "language_info": {
   "codemirror_mode": {
    "name": "ipython",
    "version": 3
   },
   "file_extension": ".py",
   "mimetype": "text/x-python",
   "name": "python",
   "nbconvert_exporter": "python",
   "pygments_lexer": "ipython3",
   "version": "3.7.6"
  }
 },
 "nbformat": 4,
 "nbformat_minor": 4
}
