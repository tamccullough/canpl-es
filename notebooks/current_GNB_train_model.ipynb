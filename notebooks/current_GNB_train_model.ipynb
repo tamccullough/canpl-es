{
 "cells": [
  {
   "cell_type": "markdown",
   "metadata": {},
   "source": [
    "### Gaussian Naive Bayes Model Likelihood"
   ]
  },
  {
   "cell_type": "code",
   "execution_count": 16,
   "metadata": {},
   "outputs": [],
   "source": [
    "import re\n",
    "import numpy as np\n",
    "import pandas as pd\n",
    "#import cpl_main as cpl"
   ]
  },
  {
   "cell_type": "code",
   "execution_count": 17,
   "metadata": {},
   "outputs": [],
   "source": [
    "year = '2019'"
   ]
  },
  {
   "cell_type": "code",
   "execution_count": 18,
   "metadata": {},
   "outputs": [],
   "source": [
    "results = pd.read_csv(f'datasets/{year}/cpl-{year}-results.csv')\n",
    "stats = pd.read_csv(f'datasets/{year}/cpl-{year}-stats.csv')\n",
    "team_ref = pd.read_csv('datasets/teams.csv')"
   ]
  },
  {
   "cell_type": "code",
   "execution_count": 19,
   "metadata": {},
   "outputs": [],
   "source": [
    "if year == '2019':\n",
    "    team_ref = team_ref[1:]"
   ]
  },
  {
   "cell_type": "code",
   "execution_count": 20,
   "metadata": {},
   "outputs": [],
   "source": [
    "results_brief = pd.read_csv(f'datasets/{year}/cpl-{year}-results_brief.csv')\n",
    "schedule = pd.read_csv(f'datasets/{year}/cpl-{year}-schedule.csv')"
   ]
  },
  {
   "cell_type": "code",
   "execution_count": 21,
   "metadata": {},
   "outputs": [],
   "source": [
    "#Import Gaussian Naive Bayes model\n",
    "from sklearn.naive_bayes import GaussianNB, BernoulliNB, MultinomialNB\n",
    "import statistics"
   ]
  },
  {
   "cell_type": "code",
   "execution_count": 22,
   "metadata": {},
   "outputs": [
    {
     "name": "stdout",
     "output_type": "stream",
     "text": [
      "York9 FC HFX Wanderers FC\n"
     ]
    }
   ],
   "source": [
    "# home side\n",
    "q1 = schedule.iloc[2]['home']\n",
    "# away side\n",
    "q2 = schedule.iloc[2]['away']\n",
    "print(q1,q2)"
   ]
  },
  {
   "cell_type": "code",
   "execution_count": 23,
   "metadata": {},
   "outputs": [],
   "source": [
    "def get_team_comparison(data,q1,q2):\n",
    "    # getting games with q1 in both home or away\n",
    "    db = data[data['team'] == q1]\n",
    "    db = db.reset_index()\n",
    "    db.pop('index')\n",
    "    # filering down more to get only the games against q2\n",
    "    db = db.sort_values(by=['m','d'])\n",
    "    db = db[(db['home'] == q2) | (db['away'] == q2)]\n",
    "    db = db.reset_index()\n",
    "    db.pop('index')\n",
    "    if db.empty == True:\n",
    "        db = pd.DataFrame([(0,0,0,0,q1,'D',q2,'D','empty',q1)],columns=['d','m','hs','as','home','hr','away','ar','summary','team'])\n",
    "    return db"
   ]
  },
  {
   "cell_type": "code",
   "execution_count": 24,
   "metadata": {},
   "outputs": [],
   "source": [
    "compare = get_team_comparison(results_brief,q1,q2)"
   ]
  },
  {
   "cell_type": "code",
   "execution_count": 25,
   "metadata": {},
   "outputs": [
    {
     "data": {
      "text/html": [
       "<div>\n",
       "<style scoped>\n",
       "    .dataframe tbody tr th:only-of-type {\n",
       "        vertical-align: middle;\n",
       "    }\n",
       "\n",
       "    .dataframe tbody tr th {\n",
       "        vertical-align: top;\n",
       "    }\n",
       "\n",
       "    .dataframe thead th {\n",
       "        text-align: right;\n",
       "    }\n",
       "</style>\n",
       "<table border=\"1\" class=\"dataframe\">\n",
       "  <thead>\n",
       "    <tr style=\"text-align: right;\">\n",
       "      <th></th>\n",
       "      <th>d</th>\n",
       "      <th>m</th>\n",
       "      <th>hs</th>\n",
       "      <th>as</th>\n",
       "      <th>home</th>\n",
       "      <th>hr</th>\n",
       "      <th>away</th>\n",
       "      <th>ar</th>\n",
       "      <th>summary</th>\n",
       "      <th>team</th>\n",
       "    </tr>\n",
       "  </thead>\n",
       "  <tbody>\n",
       "    <tr>\n",
       "      <th>0</th>\n",
       "      <td>29</td>\n",
       "      <td>5</td>\n",
       "      <td>1</td>\n",
       "      <td>1</td>\n",
       "      <td>HFX Wanderers FC</td>\n",
       "      <td>D</td>\n",
       "      <td>York9 FC</td>\n",
       "      <td>D</td>\n",
       "      <td>D A 1 - 1 HFX</td>\n",
       "      <td>York9 FC</td>\n",
       "    </tr>\n",
       "    <tr>\n",
       "      <th>1</th>\n",
       "      <td>22</td>\n",
       "      <td>6</td>\n",
       "      <td>0</td>\n",
       "      <td>0</td>\n",
       "      <td>York9 FC</td>\n",
       "      <td>D</td>\n",
       "      <td>HFX Wanderers FC</td>\n",
       "      <td>D</td>\n",
       "      <td>D A 0 - 0 HFX</td>\n",
       "      <td>York9 FC</td>\n",
       "    </tr>\n",
       "    <tr>\n",
       "      <th>2</th>\n",
       "      <td>6</td>\n",
       "      <td>7</td>\n",
       "      <td>1</td>\n",
       "      <td>0</td>\n",
       "      <td>HFX Wanderers FC</td>\n",
       "      <td>W</td>\n",
       "      <td>York9 FC</td>\n",
       "      <td>L</td>\n",
       "      <td>L A 1 - 0 HFX</td>\n",
       "      <td>York9 FC</td>\n",
       "    </tr>\n",
       "    <tr>\n",
       "      <th>3</th>\n",
       "      <td>27</td>\n",
       "      <td>7</td>\n",
       "      <td>6</td>\n",
       "      <td>2</td>\n",
       "      <td>York9 FC</td>\n",
       "      <td>W</td>\n",
       "      <td>HFX Wanderers FC</td>\n",
       "      <td>L</td>\n",
       "      <td>W A 6 - 2 HFX</td>\n",
       "      <td>York9 FC</td>\n",
       "    </tr>\n",
       "    <tr>\n",
       "      <th>4</th>\n",
       "      <td>19</td>\n",
       "      <td>10</td>\n",
       "      <td>0</td>\n",
       "      <td>2</td>\n",
       "      <td>York9 FC</td>\n",
       "      <td>L</td>\n",
       "      <td>HFX Wanderers FC</td>\n",
       "      <td>W</td>\n",
       "      <td>L A 0 - 2 HFX</td>\n",
       "      <td>York9 FC</td>\n",
       "    </tr>\n",
       "  </tbody>\n",
       "</table>\n",
       "</div>"
      ],
      "text/plain": [
       "    d   m  hs  as              home hr              away ar        summary  \\\n",
       "0  29   5   1   1  HFX Wanderers FC  D          York9 FC  D  D A 1 - 1 HFX   \n",
       "1  22   6   0   0          York9 FC  D  HFX Wanderers FC  D  D A 0 - 0 HFX   \n",
       "2   6   7   1   0  HFX Wanderers FC  W          York9 FC  L  L A 1 - 0 HFX   \n",
       "3  27   7   6   2          York9 FC  W  HFX Wanderers FC  L  W A 6 - 2 HFX   \n",
       "4  19  10   0   2          York9 FC  L  HFX Wanderers FC  W  L A 0 - 2 HFX   \n",
       "\n",
       "       team  \n",
       "0  York9 FC  \n",
       "1  York9 FC  \n",
       "2  York9 FC  \n",
       "3  York9 FC  \n",
       "4  York9 FC  "
      ]
     },
     "execution_count": 25,
     "metadata": {},
     "output_type": "execute_result"
    }
   ],
   "source": [
    "compare.head()"
   ]
  },
  {
   "cell_type": "code",
   "execution_count": 26,
   "metadata": {},
   "outputs": [],
   "source": [
    "def get_match_tables(data,query):\n",
    "    db = data[data['home'] == query]\n",
    "    db = pd.concat([db,data[data['away'] == query]])\n",
    "    db = db.sort_values(by=['m','d'])\n",
    "    return db\n",
    "\n",
    "def likelihood_input(array,a_list):\n",
    "    b = a_list[0]\n",
    "    c = a_list[1]\n",
    "    d = a_list[2]\n",
    "    array.append(b)\n",
    "    array.append(c)\n",
    "    array.append(d)\n",
    "    return array\n",
    "\n",
    "def likelihood_table(data,query):\n",
    "    df = get_match_tables(data,query)\n",
    "    array = []\n",
    "    cols = data.columns\n",
    "    for row in range(0,df.shape[0]):\n",
    "        if df.iloc[row]['home'] == query:\n",
    "            if df.iloc[row]['hr'] == 'W':\n",
    "                array = likelihood_input(array,[[1,2,1],[1,0,0],[1,1,0]])\n",
    "            if df.iloc[row]['hr'] == 'L':\n",
    "                array = likelihood_input(array,[[1,2,0],[1,0,1],[1,1,0]])\n",
    "            if df.iloc[row]['hr'] == 'D':\n",
    "                array = likelihood_input(array,[[1,2,0],[1,0,0],[1,1,1]])\n",
    "        if df.iloc[row]['away'] == query:\n",
    "            if df.iloc[row]['ar'] == 'W':\n",
    "                array = likelihood_input(array,[[2,2,1],[2,0,0],[2,1,0]])\n",
    "            if df.iloc[row]['ar'] == 'L':\n",
    "                array = likelihood_input(array,[[2,2,0],[2,0,1],[2,1,0]])\n",
    "            if df.iloc[row]['ar'] == 'D':\n",
    "                array = likelihood_input(array,[[2,2,1],[2,0,0],[2,1,1]])\n",
    "    db= pd.DataFrame(array,columns=['h/a','w/l/d','y/n'])\n",
    "    return db"
   ]
  },
  {
   "cell_type": "code",
   "execution_count": 27,
   "metadata": {},
   "outputs": [],
   "source": [
    "def get_NB_data(data,query):\n",
    "    db = likelihood_table(data,query)\n",
    "    dy = db.pop('y/n').to_list()\n",
    "    dx = [tuple(x) for x in db.values]\n",
    "    return dx, dy"
   ]
  },
  {
   "cell_type": "code",
   "execution_count": 28,
   "metadata": {},
   "outputs": [],
   "source": [
    "t1_x, t1_y = get_NB_data(compare,q1)\n",
    "t2_x, t2_y = get_NB_data(compare,q2)"
   ]
  },
  {
   "cell_type": "code",
   "execution_count": 29,
   "metadata": {},
   "outputs": [
    {
     "name": "stdout",
     "output_type": "stream",
     "text": [
      "[(2, 2), (2, 0), (2, 1), (1, 2), (1, 0), (1, 1), (2, 2), (2, 0), (2, 1), (1, 2), (1, 0), (1, 1), (1, 2), (1, 0), (1, 1)] [1, 0, 1, 0, 0, 1, 0, 1, 0, 1, 0, 0, 0, 1, 0]\n"
     ]
    }
   ],
   "source": [
    "print(t1_x, t1_y)"
   ]
  },
  {
   "cell_type": "code",
   "execution_count": 30,
   "metadata": {},
   "outputs": [],
   "source": [
    "def get_match_prediction_result(query,x,y,array):\n",
    "    prediction = get_gnb_prediction(query,x,y,array)\n",
    "    return prediction\n",
    "\n",
    "def get_match_prediction(q1,q2,x1,y1,x2,y2):\n",
    "    if (len(x1) == 0) or (len(x2) == 0):\n",
    "        x = round(1/3,2)\n",
    "        home_win, away_win,draw = x,x,x\n",
    "        return home_win,away_win,draw\n",
    "    home_win = get_match_prediction_result(q1,x1,y1,[1,2])\n",
    "    draw = get_match_prediction_result(q1,x1,y1,[1,1])\n",
    "    away_win = get_match_prediction_result(q2,x2,y2,[2,2])\n",
    "    return home_win, draw, away_win"
   ]
  },
  {
   "cell_type": "code",
   "execution_count": 31,
   "metadata": {},
   "outputs": [],
   "source": [
    "def get_gnb_prediction(query,x,y,result):\n",
    "\n",
    "    gnb = GaussianNB()\n",
    "    #bnb = BernoulliNB()\n",
    "    # Train the model using the training sets\n",
    "\n",
    "    gnb.fit(x,y)\n",
    "    #bnb.fit(x,y)\n",
    "    \n",
    "    # use below instead of predicted = model.predict([result]) because we want the probability\n",
    "    gnb_pred = np.round(gnb.predict_proba([result])[:, 1],decimals=2)\n",
    "    #bnb_pred = np.round(bnb.predict_proba([result])[:, 1],decimals=2)\n",
    "\n",
    "    #pred = round((gnb_pred[0] + bnb_pred[0]) / 2,2)\n",
    "    pred = round(gnb_pred[0],2)\n",
    "    #print(gnb_pred[0], bnb_pred[0], pred)\n",
    "\n",
    "    return pred"
   ]
  },
  {
   "cell_type": "code",
   "execution_count": 50,
   "metadata": {},
   "outputs": [],
   "source": [
    "def get_mnb_prediction(query,x,y,result):\n",
    "    \n",
    "    mnb = MultinomialNB()\n",
    "    # Train the model using the training sets\n",
    "    \n",
    "    mnb.fit(x,y)\n",
    "    \n",
    "    # use below instead of predicted = model.predict([result]) because we want the probability\n",
    "    mnb_pred = np.round(mnb.predict_proba([result])[:, 1],decimals=2)\n",
    "    \n",
    "    pred = round(mnb_pred[0],2)\n",
    "    #print(gnb_pred[0], bnb_pred[0], pred)\n",
    "    \n",
    "    return pred"
   ]
  },
  {
   "cell_type": "code",
   "execution_count": 43,
   "metadata": {},
   "outputs": [
    {
     "data": {
      "text/plain": [
       "GaussianNB(priors=None, var_smoothing=1e-09)"
      ]
     },
     "execution_count": 43,
     "metadata": {},
     "output_type": "execute_result"
    }
   ],
   "source": [
    "GaussianNB()"
   ]
  },
  {
   "cell_type": "code",
   "execution_count": 44,
   "metadata": {},
   "outputs": [
    {
     "data": {
      "text/plain": [
       "MultinomialNB(alpha=1.0, class_prior=None, fit_prior=True)"
      ]
     },
     "execution_count": 44,
     "metadata": {},
     "output_type": "execute_result"
    }
   ],
   "source": [
    "MultinomialNB()"
   ]
  },
  {
   "cell_type": "code",
   "execution_count": 45,
   "metadata": {},
   "outputs": [],
   "source": [
    "def get_bnb_prediction(query,x,y,result):\n",
    "    bnb = BernoulliNB(alpha=0.25,\n",
    "                      binarize=1.0,\n",
    "                     fit_prior=False)\n",
    "    # Train the model using the training sets\n",
    "    bnb.fit(x,y)\n",
    "    \n",
    "    # use below instead of predicted = model.predict([result]) because we want the probability\n",
    "    bnb_pred = np.round(bnb.predict_proba([result])[:, 1],decimals=2)\n",
    "    \n",
    "    pred = round(bnb_pred[0],2)\n",
    "    \n",
    "    return pred"
   ]
  },
  {
   "cell_type": "code",
   "execution_count": 46,
   "metadata": {},
   "outputs": [],
   "source": [
    "def get_match_prediction_result(query,x,y,array,check):\n",
    "    if check == 1:\n",
    "        prediction = get_gnb_prediction(query,x,y,array)\n",
    "    elif check == 2:\n",
    "        prediction = get_bnb_prediction(query,x,y,array)\n",
    "    else:\n",
    "        prediction = get_mnb_prediction(query,x,y,array)\n",
    "    return prediction\n",
    "\n",
    "def get_match_prediction(q1,q2,x1,y1,x2,y2,check):\n",
    "    if len(x1) == 0:\n",
    "        x = round(1/3,2)\n",
    "        home_win, away_win,draw = x,x,x\n",
    "        return home_win,away_win,draw\n",
    "    home_win = get_match_prediction_result(q1,x1,y1,[1,2],check)\n",
    "    draw = get_match_prediction_result(q1,x1,y1,[1,1],check)\n",
    "    away_win = get_match_prediction_result(q2,x2,y2,[2,2],check)\n",
    "    return home_win, draw, away_win"
   ]
  },
  {
   "cell_type": "code",
   "execution_count": 47,
   "metadata": {},
   "outputs": [
    {
     "name": "stdout",
     "output_type": "stream",
     "text": [
      "York9 FC home win probability: 0.33 \n",
      "HFX Wanderers FC away win probability: 0.66 \n",
      "Draw probability: 0.33\n"
     ]
    }
   ],
   "source": [
    "home_win, draw, away_win = get_match_prediction(q1,q2,t1_x,t1_y,t2_x,t2_y,check=1)\n",
    "print(f'{q1} home win probability: {round(home_win,3)} \\n{q2} away win probability: {round(away_win,3)} \\nDraw probability: {round(draw,3)}')"
   ]
  },
  {
   "cell_type": "code",
   "execution_count": 48,
   "metadata": {},
   "outputs": [
    {
     "name": "stdout",
     "output_type": "stream",
     "text": [
      "York9 FC home win probability: 0.43 \n",
      "HFX Wanderers FC away win probability: 0.71 \n",
      "Draw probability: 0.43\n"
     ]
    }
   ],
   "source": [
    "home_win, draw, away_win = get_match_prediction(q1,q2,t1_x,t1_y,t2_x,t2_y,check=2)\n",
    "print(f'{q1} home win probability: {round(home_win,3)} \\n{q2} away win probability: {round(away_win,3)} \\nDraw probability: {round(draw,3)}')"
   ]
  },
  {
   "cell_type": "code",
   "execution_count": 49,
   "metadata": {},
   "outputs": [
    {
     "name": "stdout",
     "output_type": "stream",
     "text": [
      "York9 FC home win probability: 0.48 \n",
      "HFX Wanderers FC away win probability: 0.55 \n",
      "Draw probability: 0.5\n"
     ]
    }
   ],
   "source": [
    "home_win, draw, away_win = get_match_prediction(q1,q2,t1_x,t1_y,t2_x,t2_y,check=3)\n",
    "print(f'{q1} home win probability: {round(home_win,3)} \\n{q2} away win probability: {round(away_win,3)} \\nDraw probability: {round(draw,3)}')"
   ]
  },
  {
   "cell_type": "code",
   "execution_count": 51,
   "metadata": {},
   "outputs": [
    {
     "name": "stdout",
     "output_type": "stream",
     "text": [
      "York9 FC home win probability: 0.38 \n",
      "HFX Wanderers FC away win probability: 0.44 \n",
      "Draw probability: 0.4\n"
     ]
    }
   ],
   "source": [
    "home_win, draw, away_win = get_match_prediction(q1,q2,t1_x,t1_y,t2_x,t2_y,check=3)\n",
    "print(f'{q1} home win probability: {round(home_win,3)} \\n{q2} away win probability: {round(away_win,3)} \\nDraw probability: {round(draw,3)}')"
   ]
  },
  {
   "cell_type": "code",
   "execution_count": null,
   "metadata": {},
   "outputs": [],
   "source": []
  }
 ],
 "metadata": {
  "kernelspec": {
   "display_name": "Python 3",
   "language": "python",
   "name": "python3"
  },
  "language_info": {
   "codemirror_mode": {
    "name": "ipython",
    "version": 3
   },
   "file_extension": ".py",
   "mimetype": "text/x-python",
   "name": "python",
   "nbconvert_exporter": "python",
   "pygments_lexer": "ipython3",
   "version": "3.7.6"
  }
 },
 "nbformat": 4,
 "nbformat_minor": 4
}
