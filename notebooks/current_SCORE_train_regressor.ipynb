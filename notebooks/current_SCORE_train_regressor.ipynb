{
 "cells": [
  {
   "cell_type": "code",
   "execution_count": 1,
   "metadata": {},
   "outputs": [],
   "source": [
    "### REGRESSOR - train model - SCORE"
   ]
  },
  {
   "cell_type": "code",
   "execution_count": 2,
   "metadata": {},
   "outputs": [],
   "source": [
    "# Todd McCullough\n",
    "# 2020\n",
    "import re\n",
    "import numpy as np\n",
    "import pandas as pd\n",
    "import cpl_main as cpl\n",
    "import random"
   ]
  },
  {
   "cell_type": "code",
   "execution_count": 3,
   "metadata": {},
   "outputs": [
    {
     "data": {
      "text/html": [
       "<div>\n",
       "<style scoped>\n",
       "    .dataframe tbody tr th:only-of-type {\n",
       "        vertical-align: middle;\n",
       "    }\n",
       "\n",
       "    .dataframe tbody tr th {\n",
       "        vertical-align: top;\n",
       "    }\n",
       "\n",
       "    .dataframe thead th {\n",
       "        text-align: right;\n",
       "    }\n",
       "</style>\n",
       "<table border=\"1\" class=\"dataframe\">\n",
       "  <thead>\n",
       "    <tr style=\"text-align: right;\">\n",
       "      <th></th>\n",
       "      <th>game</th>\n",
       "      <th>team</th>\n",
       "      <th>p1</th>\n",
       "      <th>p2</th>\n",
       "      <th>p3</th>\n",
       "      <th>p4</th>\n",
       "      <th>p5</th>\n",
       "      <th>p6</th>\n",
       "      <th>p7</th>\n",
       "      <th>p8</th>\n",
       "      <th>p9</th>\n",
       "      <th>p10</th>\n",
       "      <th>p11</th>\n",
       "      <th>p12</th>\n",
       "      <th>p13</th>\n",
       "      <th>p14</th>\n",
       "      <th>r</th>\n",
       "      <th>s</th>\n",
       "      <th>pred</th>\n",
       "    </tr>\n",
       "  </thead>\n",
       "  <tbody>\n",
       "    <tr>\n",
       "      <th>0</th>\n",
       "      <td>I1</td>\n",
       "      <td>Forge FC</td>\n",
       "      <td>3.40</td>\n",
       "      <td>2.48</td>\n",
       "      <td>4.43</td>\n",
       "      <td>2.65</td>\n",
       "      <td>3.43</td>\n",
       "      <td>4.34</td>\n",
       "      <td>3.49</td>\n",
       "      <td>2.34</td>\n",
       "      <td>4.22</td>\n",
       "      <td>2.71</td>\n",
       "      <td>3.68</td>\n",
       "      <td>4.25</td>\n",
       "      <td>3.71</td>\n",
       "      <td>1.72</td>\n",
       "      <td>2</td>\n",
       "      <td>1</td>\n",
       "      <td>2</td>\n",
       "    </tr>\n",
       "    <tr>\n",
       "      <th>1</th>\n",
       "      <td>I1</td>\n",
       "      <td>York9 FC</td>\n",
       "      <td>4.09</td>\n",
       "      <td>4.06</td>\n",
       "      <td>2.42</td>\n",
       "      <td>2.71</td>\n",
       "      <td>3.46</td>\n",
       "      <td>2.30</td>\n",
       "      <td>3.55</td>\n",
       "      <td>2.83</td>\n",
       "      <td>3.64</td>\n",
       "      <td>1.93</td>\n",
       "      <td>4.76</td>\n",
       "      <td>3.70</td>\n",
       "      <td>4.47</td>\n",
       "      <td>3.45</td>\n",
       "      <td>2</td>\n",
       "      <td>1</td>\n",
       "      <td>2</td>\n",
       "    </tr>\n",
       "  </tbody>\n",
       "</table>\n",
       "</div>"
      ],
      "text/plain": [
       "  game      team    p1    p2    p3    p4    p5    p6    p7    p8    p9   p10  \\\n",
       "0   I1  Forge FC  3.40  2.48  4.43  2.65  3.43  4.34  3.49  2.34  4.22  2.71   \n",
       "1   I1  York9 FC  4.09  4.06  2.42  2.71  3.46  2.30  3.55  2.83  3.64  1.93   \n",
       "\n",
       "    p11   p12   p13   p14  r  s  pred  \n",
       "0  3.68  4.25  3.71  1.72  2  1     2  \n",
       "1  4.76  3.70  4.47  3.45  2  1     2  "
      ]
     },
     "execution_count": 3,
     "metadata": {},
     "output_type": "execute_result"
    }
   ],
   "source": [
    "results = pd.read_csv(f'datasets/soccer-nn-train-pred.csv')\n",
    "results.head(2)"
   ]
  },
  {
   "cell_type": "code",
   "execution_count": 4,
   "metadata": {},
   "outputs": [
    {
     "data": {
      "text/plain": [
       "(4042, 18)"
      ]
     },
     "execution_count": 4,
     "metadata": {},
     "output_type": "execute_result"
    }
   ],
   "source": [
    "pred = results.pop('pred')\n",
    "results.shape"
   ]
  },
  {
   "cell_type": "code",
   "execution_count": 5,
   "metadata": {},
   "outputs": [],
   "source": [
    "results = results[results['p1'] != 0]"
   ]
  },
  {
   "cell_type": "code",
   "execution_count": 6,
   "metadata": {},
   "outputs": [
    {
     "data": {
      "text/plain": [
       "(4036, 18)"
      ]
     },
     "execution_count": 6,
     "metadata": {},
     "output_type": "execute_result"
    }
   ],
   "source": [
    "results.shape"
   ]
  },
  {
   "cell_type": "code",
   "execution_count": 7,
   "metadata": {},
   "outputs": [],
   "source": [
    "cols = ['p1', 'p2', 'p3', 'p4', 'p5', 'p6', 'p7', 'p8', 'p9','p10', 'p11', 'p12', 'p13', 'p14']"
   ]
  },
  {
   "cell_type": "code",
   "execution_count": 8,
   "metadata": {},
   "outputs": [],
   "source": [
    "results['sum'] = round(results[cols].sum(axis=1),2)"
   ]
  },
  {
   "cell_type": "code",
   "execution_count": 9,
   "metadata": {},
   "outputs": [],
   "source": [
    "results['count'] = (results[results[cols]>0].count(axis=1))-11"
   ]
  },
  {
   "cell_type": "code",
   "execution_count": 10,
   "metadata": {},
   "outputs": [],
   "source": [
    "results['result'] = round(results['sum'] / (results['count']+0.1),2)"
   ]
  },
  {
   "cell_type": "code",
   "execution_count": 11,
   "metadata": {},
   "outputs": [],
   "source": [
    "results['test'] = round(results['sum']  / results['sum'].max() - 0.05,3)"
   ]
  },
  {
   "cell_type": "code",
   "execution_count": 12,
   "metadata": {},
   "outputs": [],
   "source": [
    "results['test2'] = round(results['count']  / results['count'].max() - 0.05,3)"
   ]
  },
  {
   "cell_type": "code",
   "execution_count": 13,
   "metadata": {},
   "outputs": [],
   "source": [
    "results = results.dropna()"
   ]
  },
  {
   "cell_type": "code",
   "execution_count": 14,
   "metadata": {},
   "outputs": [
    {
     "data": {
      "text/html": [
       "<div>\n",
       "<style scoped>\n",
       "    .dataframe tbody tr th:only-of-type {\n",
       "        vertical-align: middle;\n",
       "    }\n",
       "\n",
       "    .dataframe tbody tr th {\n",
       "        vertical-align: top;\n",
       "    }\n",
       "\n",
       "    .dataframe thead th {\n",
       "        text-align: right;\n",
       "    }\n",
       "</style>\n",
       "<table border=\"1\" class=\"dataframe\">\n",
       "  <thead>\n",
       "    <tr style=\"text-align: right;\">\n",
       "      <th></th>\n",
       "      <th>game</th>\n",
       "      <th>team</th>\n",
       "      <th>p1</th>\n",
       "      <th>p2</th>\n",
       "      <th>p3</th>\n",
       "      <th>p4</th>\n",
       "      <th>p5</th>\n",
       "      <th>p6</th>\n",
       "      <th>p7</th>\n",
       "      <th>p8</th>\n",
       "      <th>...</th>\n",
       "      <th>p12</th>\n",
       "      <th>p13</th>\n",
       "      <th>p14</th>\n",
       "      <th>r</th>\n",
       "      <th>s</th>\n",
       "      <th>sum</th>\n",
       "      <th>count</th>\n",
       "      <th>result</th>\n",
       "      <th>test</th>\n",
       "      <th>test2</th>\n",
       "    </tr>\n",
       "  </thead>\n",
       "  <tbody>\n",
       "    <tr>\n",
       "      <th>0</th>\n",
       "      <td>I1</td>\n",
       "      <td>Forge FC</td>\n",
       "      <td>3.40</td>\n",
       "      <td>2.48</td>\n",
       "      <td>4.43</td>\n",
       "      <td>2.65</td>\n",
       "      <td>3.43</td>\n",
       "      <td>4.34</td>\n",
       "      <td>3.49</td>\n",
       "      <td>2.34</td>\n",
       "      <td>...</td>\n",
       "      <td>4.25</td>\n",
       "      <td>3.71</td>\n",
       "      <td>1.72</td>\n",
       "      <td>2</td>\n",
       "      <td>1</td>\n",
       "      <td>46.85</td>\n",
       "      <td>3</td>\n",
       "      <td>15.11</td>\n",
       "      <td>0.868</td>\n",
       "      <td>0.95</td>\n",
       "    </tr>\n",
       "    <tr>\n",
       "      <th>1</th>\n",
       "      <td>I1</td>\n",
       "      <td>York9 FC</td>\n",
       "      <td>4.09</td>\n",
       "      <td>4.06</td>\n",
       "      <td>2.42</td>\n",
       "      <td>2.71</td>\n",
       "      <td>3.46</td>\n",
       "      <td>2.30</td>\n",
       "      <td>3.55</td>\n",
       "      <td>2.83</td>\n",
       "      <td>...</td>\n",
       "      <td>3.70</td>\n",
       "      <td>4.47</td>\n",
       "      <td>3.45</td>\n",
       "      <td>2</td>\n",
       "      <td>1</td>\n",
       "      <td>47.37</td>\n",
       "      <td>3</td>\n",
       "      <td>15.28</td>\n",
       "      <td>0.878</td>\n",
       "      <td>0.95</td>\n",
       "    </tr>\n",
       "  </tbody>\n",
       "</table>\n",
       "<p>2 rows × 23 columns</p>\n",
       "</div>"
      ],
      "text/plain": [
       "  game      team    p1    p2    p3    p4    p5    p6    p7    p8  ...   p12  \\\n",
       "0   I1  Forge FC  3.40  2.48  4.43  2.65  3.43  4.34  3.49  2.34  ...  4.25   \n",
       "1   I1  York9 FC  4.09  4.06  2.42  2.71  3.46  2.30  3.55  2.83  ...  3.70   \n",
       "\n",
       "    p13   p14  r  s    sum  count  result   test  test2  \n",
       "0  3.71  1.72  2  1  46.85      3   15.11  0.868   0.95  \n",
       "1  4.47  3.45  2  1  47.37      3   15.28  0.878   0.95  \n",
       "\n",
       "[2 rows x 23 columns]"
      ]
     },
     "execution_count": 14,
     "metadata": {},
     "output_type": "execute_result"
    }
   ],
   "source": [
    "results.head(2)"
   ]
  },
  {
   "cell_type": "code",
   "execution_count": 15,
   "metadata": {},
   "outputs": [],
   "source": [
    "cols2=[]\n",
    "for col in cols:\n",
    "    string = re.sub('p','n',col)\n",
    "    cols2.append(string)\n",
    "    results[string] = results[col].apply(lambda x: int(x))"
   ]
  },
  {
   "cell_type": "code",
   "execution_count": 16,
   "metadata": {},
   "outputs": [],
   "source": [
    "results['sum'] = results['sum'] - results[cols2].sum(axis=1)"
   ]
  },
  {
   "cell_type": "code",
   "execution_count": 17,
   "metadata": {},
   "outputs": [],
   "source": [
    "results['f'] = (results[results[cols2]==4].count(axis=1))\n",
    "results['m'] = (results[results[cols2]==3].count(axis=1))\n",
    "results['d'] = (results[results[cols2]==2].count(axis=1))\n",
    "results['g'] = (results[results[cols2]==1].count(axis=1))"
   ]
  },
  {
   "cell_type": "code",
   "execution_count": 18,
   "metadata": {},
   "outputs": [
    {
     "data": {
      "text/plain": [
       "array([4, 2, 3, 1, 5, 6, 7, 0])"
      ]
     },
     "execution_count": 18,
     "metadata": {},
     "output_type": "execute_result"
    }
   ],
   "source": [
    "results.f.unique()"
   ]
  },
  {
   "cell_type": "code",
   "execution_count": 19,
   "metadata": {},
   "outputs": [
    {
     "data": {
      "text/plain": [
       "array([ 5,  4,  6,  7,  8,  3,  2,  9, 10,  1,  0])"
      ]
     },
     "execution_count": 19,
     "metadata": {},
     "output_type": "execute_result"
    }
   ],
   "source": [
    "results.m.unique()"
   ]
  },
  {
   "cell_type": "code",
   "execution_count": 20,
   "metadata": {},
   "outputs": [
    {
     "data": {
      "text/plain": [
       "array([ 4,  5,  3,  6,  7,  2, 10,  8,  1,  9])"
      ]
     },
     "execution_count": 20,
     "metadata": {},
     "output_type": "execute_result"
    }
   ],
   "source": [
    "results.d.unique()"
   ]
  },
  {
   "cell_type": "code",
   "execution_count": 21,
   "metadata": {},
   "outputs": [
    {
     "data": {
      "text/plain": [
       "array([1, 2, 0])"
      ]
     },
     "execution_count": 21,
     "metadata": {},
     "output_type": "execute_result"
    }
   ],
   "source": [
    "results.g.unique()"
   ]
  },
  {
   "cell_type": "code",
   "execution_count": 22,
   "metadata": {},
   "outputs": [
    {
     "data": {
      "text/html": [
       "<div>\n",
       "<style scoped>\n",
       "    .dataframe tbody tr th:only-of-type {\n",
       "        vertical-align: middle;\n",
       "    }\n",
       "\n",
       "    .dataframe tbody tr th {\n",
       "        vertical-align: top;\n",
       "    }\n",
       "\n",
       "    .dataframe thead th {\n",
       "        text-align: right;\n",
       "    }\n",
       "</style>\n",
       "<table border=\"1\" class=\"dataframe\">\n",
       "  <thead>\n",
       "    <tr style=\"text-align: right;\">\n",
       "      <th></th>\n",
       "      <th>game</th>\n",
       "      <th>team</th>\n",
       "      <th>p1</th>\n",
       "      <th>p2</th>\n",
       "      <th>p3</th>\n",
       "      <th>p4</th>\n",
       "      <th>p5</th>\n",
       "      <th>p6</th>\n",
       "      <th>p7</th>\n",
       "      <th>p8</th>\n",
       "      <th>...</th>\n",
       "      <th>n9</th>\n",
       "      <th>n10</th>\n",
       "      <th>n11</th>\n",
       "      <th>n12</th>\n",
       "      <th>n13</th>\n",
       "      <th>n14</th>\n",
       "      <th>f</th>\n",
       "      <th>m</th>\n",
       "      <th>d</th>\n",
       "      <th>g</th>\n",
       "    </tr>\n",
       "  </thead>\n",
       "  <tbody>\n",
       "    <tr>\n",
       "      <th>0</th>\n",
       "      <td>I1</td>\n",
       "      <td>Forge FC</td>\n",
       "      <td>3.40</td>\n",
       "      <td>2.48</td>\n",
       "      <td>4.43</td>\n",
       "      <td>2.65</td>\n",
       "      <td>3.43</td>\n",
       "      <td>4.34</td>\n",
       "      <td>3.49</td>\n",
       "      <td>2.34</td>\n",
       "      <td>...</td>\n",
       "      <td>4</td>\n",
       "      <td>2</td>\n",
       "      <td>3</td>\n",
       "      <td>4</td>\n",
       "      <td>3</td>\n",
       "      <td>1</td>\n",
       "      <td>4</td>\n",
       "      <td>5</td>\n",
       "      <td>4</td>\n",
       "      <td>1</td>\n",
       "    </tr>\n",
       "    <tr>\n",
       "      <th>1</th>\n",
       "      <td>I1</td>\n",
       "      <td>York9 FC</td>\n",
       "      <td>4.09</td>\n",
       "      <td>4.06</td>\n",
       "      <td>2.42</td>\n",
       "      <td>2.71</td>\n",
       "      <td>3.46</td>\n",
       "      <td>2.30</td>\n",
       "      <td>3.55</td>\n",
       "      <td>2.83</td>\n",
       "      <td>...</td>\n",
       "      <td>3</td>\n",
       "      <td>1</td>\n",
       "      <td>4</td>\n",
       "      <td>3</td>\n",
       "      <td>4</td>\n",
       "      <td>3</td>\n",
       "      <td>4</td>\n",
       "      <td>5</td>\n",
       "      <td>4</td>\n",
       "      <td>1</td>\n",
       "    </tr>\n",
       "  </tbody>\n",
       "</table>\n",
       "<p>2 rows × 41 columns</p>\n",
       "</div>"
      ],
      "text/plain": [
       "  game      team    p1    p2    p3    p4    p5    p6    p7    p8  ...  n9  \\\n",
       "0   I1  Forge FC  3.40  2.48  4.43  2.65  3.43  4.34  3.49  2.34  ...   4   \n",
       "1   I1  York9 FC  4.09  4.06  2.42  2.71  3.46  2.30  3.55  2.83  ...   3   \n",
       "\n",
       "   n10  n11  n12  n13  n14  f  m  d  g  \n",
       "0    2    3    4    3    1  4  5  4  1  \n",
       "1    1    4    3    4    3  4  5  4  1  \n",
       "\n",
       "[2 rows x 41 columns]"
      ]
     },
     "execution_count": 22,
     "metadata": {},
     "output_type": "execute_result"
    }
   ],
   "source": [
    "results.head(2)"
   ]
  },
  {
   "cell_type": "code",
   "execution_count": 23,
   "metadata": {},
   "outputs": [],
   "source": [
    "db = results.copy()"
   ]
  },
  {
   "cell_type": "code",
   "execution_count": 24,
   "metadata": {},
   "outputs": [
    {
     "data": {
      "text/plain": [
       "(4036, 41)"
      ]
     },
     "execution_count": 24,
     "metadata": {},
     "output_type": "execute_result"
    }
   ],
   "source": [
    "db.shape"
   ]
  },
  {
   "cell_type": "code",
   "execution_count": 25,
   "metadata": {},
   "outputs": [],
   "source": [
    "db.pop('game')\n",
    "db.pop('team')\n",
    "#y = db.pop('s')\n",
    "db.pop('r')\n",
    "X = db"
   ]
  },
  {
   "cell_type": "code",
   "execution_count": 26,
   "metadata": {},
   "outputs": [
    {
     "data": {
      "text/html": [
       "<div>\n",
       "<style scoped>\n",
       "    .dataframe tbody tr th:only-of-type {\n",
       "        vertical-align: middle;\n",
       "    }\n",
       "\n",
       "    .dataframe tbody tr th {\n",
       "        vertical-align: top;\n",
       "    }\n",
       "\n",
       "    .dataframe thead th {\n",
       "        text-align: right;\n",
       "    }\n",
       "</style>\n",
       "<table border=\"1\" class=\"dataframe\">\n",
       "  <thead>\n",
       "    <tr style=\"text-align: right;\">\n",
       "      <th></th>\n",
       "      <th>p1</th>\n",
       "      <th>p2</th>\n",
       "      <th>p3</th>\n",
       "      <th>p4</th>\n",
       "      <th>p5</th>\n",
       "      <th>p6</th>\n",
       "      <th>p7</th>\n",
       "      <th>p8</th>\n",
       "      <th>p9</th>\n",
       "      <th>p10</th>\n",
       "      <th>...</th>\n",
       "      <th>n9</th>\n",
       "      <th>n10</th>\n",
       "      <th>n11</th>\n",
       "      <th>n12</th>\n",
       "      <th>n13</th>\n",
       "      <th>n14</th>\n",
       "      <th>f</th>\n",
       "      <th>m</th>\n",
       "      <th>d</th>\n",
       "      <th>g</th>\n",
       "    </tr>\n",
       "  </thead>\n",
       "  <tbody>\n",
       "    <tr>\n",
       "      <th>0</th>\n",
       "      <td>3.40</td>\n",
       "      <td>2.48</td>\n",
       "      <td>4.43</td>\n",
       "      <td>2.65</td>\n",
       "      <td>3.43</td>\n",
       "      <td>4.34</td>\n",
       "      <td>3.49</td>\n",
       "      <td>2.34</td>\n",
       "      <td>4.22</td>\n",
       "      <td>2.71</td>\n",
       "      <td>...</td>\n",
       "      <td>4</td>\n",
       "      <td>2</td>\n",
       "      <td>3</td>\n",
       "      <td>4</td>\n",
       "      <td>3</td>\n",
       "      <td>1</td>\n",
       "      <td>4</td>\n",
       "      <td>5</td>\n",
       "      <td>4</td>\n",
       "      <td>1</td>\n",
       "    </tr>\n",
       "    <tr>\n",
       "      <th>1</th>\n",
       "      <td>4.09</td>\n",
       "      <td>4.06</td>\n",
       "      <td>2.42</td>\n",
       "      <td>2.71</td>\n",
       "      <td>3.46</td>\n",
       "      <td>2.30</td>\n",
       "      <td>3.55</td>\n",
       "      <td>2.83</td>\n",
       "      <td>3.64</td>\n",
       "      <td>1.93</td>\n",
       "      <td>...</td>\n",
       "      <td>3</td>\n",
       "      <td>1</td>\n",
       "      <td>4</td>\n",
       "      <td>3</td>\n",
       "      <td>4</td>\n",
       "      <td>3</td>\n",
       "      <td>4</td>\n",
       "      <td>5</td>\n",
       "      <td>4</td>\n",
       "      <td>1</td>\n",
       "    </tr>\n",
       "  </tbody>\n",
       "</table>\n",
       "<p>2 rows × 38 columns</p>\n",
       "</div>"
      ],
      "text/plain": [
       "     p1    p2    p3    p4    p5    p6    p7    p8    p9   p10  ...  n9  n10  \\\n",
       "0  3.40  2.48  4.43  2.65  3.43  4.34  3.49  2.34  4.22  2.71  ...   4    2   \n",
       "1  4.09  4.06  2.42  2.71  3.46  2.30  3.55  2.83  3.64  1.93  ...   3    1   \n",
       "\n",
       "   n11  n12  n13  n14  f  m  d  g  \n",
       "0    3    4    3    1  4  5  4  1  \n",
       "1    4    3    4    3  4  5  4  1  \n",
       "\n",
       "[2 rows x 38 columns]"
      ]
     },
     "execution_count": 26,
     "metadata": {},
     "output_type": "execute_result"
    }
   ],
   "source": [
    "X.head(2)"
   ]
  },
  {
   "cell_type": "code",
   "execution_count": 27,
   "metadata": {},
   "outputs": [],
   "source": [
    "from math import sqrt\n",
    "\n",
    "#importing libraries from sklearn\n",
    "from sklearn import model_selection\n",
    "from sklearn.model_selection import train_test_split\n",
    "from sklearn import metrics\n",
    "# import algorithm modules\n",
    "from sklearn.linear_model import LinearRegression\n",
    "from sklearn.ensemble import RandomForestRegressor\n",
    "from sklearn.tree import DecisionTreeRegressor"
   ]
  },
  {
   "cell_type": "code",
   "execution_count": 28,
   "metadata": {},
   "outputs": [
    {
     "data": {
      "text/html": [
       "<div>\n",
       "<style scoped>\n",
       "    .dataframe tbody tr th:only-of-type {\n",
       "        vertical-align: middle;\n",
       "    }\n",
       "\n",
       "    .dataframe tbody tr th {\n",
       "        vertical-align: top;\n",
       "    }\n",
       "\n",
       "    .dataframe thead th {\n",
       "        text-align: right;\n",
       "    }\n",
       "</style>\n",
       "<table border=\"1\" class=\"dataframe\">\n",
       "  <thead>\n",
       "    <tr style=\"text-align: right;\">\n",
       "      <th></th>\n",
       "      <th>p1</th>\n",
       "      <th>p2</th>\n",
       "      <th>p3</th>\n",
       "      <th>p4</th>\n",
       "      <th>p5</th>\n",
       "      <th>p6</th>\n",
       "      <th>p7</th>\n",
       "      <th>p8</th>\n",
       "      <th>p9</th>\n",
       "      <th>p10</th>\n",
       "      <th>...</th>\n",
       "      <th>n9</th>\n",
       "      <th>n10</th>\n",
       "      <th>n11</th>\n",
       "      <th>n12</th>\n",
       "      <th>n13</th>\n",
       "      <th>n14</th>\n",
       "      <th>f</th>\n",
       "      <th>m</th>\n",
       "      <th>d</th>\n",
       "      <th>g</th>\n",
       "    </tr>\n",
       "  </thead>\n",
       "  <tbody>\n",
       "    <tr>\n",
       "      <th>12</th>\n",
       "      <td>3.40</td>\n",
       "      <td>4.39</td>\n",
       "      <td>2.48</td>\n",
       "      <td>2.71</td>\n",
       "      <td>3.36</td>\n",
       "      <td>2.65</td>\n",
       "      <td>3.43</td>\n",
       "      <td>4.34</td>\n",
       "      <td>3.49</td>\n",
       "      <td>4.22</td>\n",
       "      <td>...</td>\n",
       "      <td>3</td>\n",
       "      <td>4</td>\n",
       "      <td>2</td>\n",
       "      <td>2</td>\n",
       "      <td>4</td>\n",
       "      <td>1</td>\n",
       "      <td>4</td>\n",
       "      <td>4</td>\n",
       "      <td>5</td>\n",
       "      <td>1</td>\n",
       "    </tr>\n",
       "    <tr>\n",
       "      <th>43</th>\n",
       "      <td>2.83</td>\n",
       "      <td>4.70</td>\n",
       "      <td>3.46</td>\n",
       "      <td>3.45</td>\n",
       "      <td>2.38</td>\n",
       "      <td>4.39</td>\n",
       "      <td>3.53</td>\n",
       "      <td>3.68</td>\n",
       "      <td>1.79</td>\n",
       "      <td>2.33</td>\n",
       "      <td>...</td>\n",
       "      <td>1</td>\n",
       "      <td>2</td>\n",
       "      <td>2</td>\n",
       "      <td>4</td>\n",
       "      <td>4</td>\n",
       "      <td>3</td>\n",
       "      <td>4</td>\n",
       "      <td>5</td>\n",
       "      <td>4</td>\n",
       "      <td>1</td>\n",
       "    </tr>\n",
       "  </tbody>\n",
       "</table>\n",
       "<p>2 rows × 38 columns</p>\n",
       "</div>"
      ],
      "text/plain": [
       "      p1    p2    p3    p4    p5    p6    p7    p8    p9   p10  ...  n9  n10  \\\n",
       "12  3.40  4.39  2.48  2.71  3.36  2.65  3.43  4.34  3.49  4.22  ...   3    4   \n",
       "43  2.83  4.70  3.46  3.45  2.38  4.39  3.53  3.68  1.79  2.33  ...   1    2   \n",
       "\n",
       "    n11  n12  n13  n14  f  m  d  g  \n",
       "12    2    2    4    1  4  4  5  1  \n",
       "43    2    4    4    3  4  5  4  1  \n",
       "\n",
       "[2 rows x 38 columns]"
      ]
     },
     "execution_count": 28,
     "metadata": {},
     "output_type": "execute_result"
    }
   ],
   "source": [
    "high = X[X['s'] > 2]\n",
    "high.head(2)"
   ]
  },
  {
   "cell_type": "code",
   "execution_count": 29,
   "metadata": {},
   "outputs": [],
   "source": [
    "h_y = high.pop('s')"
   ]
  },
  {
   "cell_type": "code",
   "execution_count": 30,
   "metadata": {},
   "outputs": [
    {
     "data": {
      "text/html": [
       "<div>\n",
       "<style scoped>\n",
       "    .dataframe tbody tr th:only-of-type {\n",
       "        vertical-align: middle;\n",
       "    }\n",
       "\n",
       "    .dataframe tbody tr th {\n",
       "        vertical-align: top;\n",
       "    }\n",
       "\n",
       "    .dataframe thead th {\n",
       "        text-align: right;\n",
       "    }\n",
       "</style>\n",
       "<table border=\"1\" class=\"dataframe\">\n",
       "  <thead>\n",
       "    <tr style=\"text-align: right;\">\n",
       "      <th></th>\n",
       "      <th>p1</th>\n",
       "      <th>p2</th>\n",
       "      <th>p3</th>\n",
       "      <th>p4</th>\n",
       "      <th>p5</th>\n",
       "      <th>p6</th>\n",
       "      <th>p7</th>\n",
       "      <th>p8</th>\n",
       "      <th>p9</th>\n",
       "      <th>p10</th>\n",
       "      <th>...</th>\n",
       "      <th>n9</th>\n",
       "      <th>n10</th>\n",
       "      <th>n11</th>\n",
       "      <th>n12</th>\n",
       "      <th>n13</th>\n",
       "      <th>n14</th>\n",
       "      <th>f</th>\n",
       "      <th>m</th>\n",
       "      <th>d</th>\n",
       "      <th>g</th>\n",
       "    </tr>\n",
       "  </thead>\n",
       "  <tbody>\n",
       "    <tr>\n",
       "      <th>0</th>\n",
       "      <td>3.40</td>\n",
       "      <td>2.48</td>\n",
       "      <td>4.43</td>\n",
       "      <td>2.65</td>\n",
       "      <td>3.43</td>\n",
       "      <td>4.34</td>\n",
       "      <td>3.49</td>\n",
       "      <td>2.34</td>\n",
       "      <td>4.22</td>\n",
       "      <td>2.71</td>\n",
       "      <td>...</td>\n",
       "      <td>4</td>\n",
       "      <td>2</td>\n",
       "      <td>3</td>\n",
       "      <td>4</td>\n",
       "      <td>3</td>\n",
       "      <td>1</td>\n",
       "      <td>4</td>\n",
       "      <td>5</td>\n",
       "      <td>4</td>\n",
       "      <td>1</td>\n",
       "    </tr>\n",
       "    <tr>\n",
       "      <th>1</th>\n",
       "      <td>4.09</td>\n",
       "      <td>4.06</td>\n",
       "      <td>2.42</td>\n",
       "      <td>2.71</td>\n",
       "      <td>3.46</td>\n",
       "      <td>2.30</td>\n",
       "      <td>3.55</td>\n",
       "      <td>2.83</td>\n",
       "      <td>3.64</td>\n",
       "      <td>1.93</td>\n",
       "      <td>...</td>\n",
       "      <td>3</td>\n",
       "      <td>1</td>\n",
       "      <td>4</td>\n",
       "      <td>3</td>\n",
       "      <td>4</td>\n",
       "      <td>3</td>\n",
       "      <td>4</td>\n",
       "      <td>5</td>\n",
       "      <td>4</td>\n",
       "      <td>1</td>\n",
       "    </tr>\n",
       "  </tbody>\n",
       "</table>\n",
       "<p>2 rows × 38 columns</p>\n",
       "</div>"
      ],
      "text/plain": [
       "     p1    p2    p3    p4    p5    p6    p7    p8    p9   p10  ...  n9  n10  \\\n",
       "0  3.40  2.48  4.43  2.65  3.43  4.34  3.49  2.34  4.22  2.71  ...   4    2   \n",
       "1  4.09  4.06  2.42  2.71  3.46  2.30  3.55  2.83  3.64  1.93  ...   3    1   \n",
       "\n",
       "   n11  n12  n13  n14  f  m  d  g  \n",
       "0    3    4    3    1  4  5  4  1  \n",
       "1    4    3    4    3  4  5  4  1  \n",
       "\n",
       "[2 rows x 38 columns]"
      ]
     },
     "execution_count": 30,
     "metadata": {},
     "output_type": "execute_result"
    }
   ],
   "source": [
    "low = X[X['s'] <= 2]\n",
    "low.head(2)"
   ]
  },
  {
   "cell_type": "code",
   "execution_count": 31,
   "metadata": {},
   "outputs": [],
   "source": [
    "l_y = low.pop('s')"
   ]
  },
  {
   "cell_type": "code",
   "execution_count": 32,
   "metadata": {},
   "outputs": [
    {
     "name": "stdout",
     "output_type": "stream",
     "text": [
      "(754, 37) (3282, 37)\n"
     ]
    }
   ],
   "source": [
    "print(high.shape,low.shape)"
   ]
  },
  {
   "cell_type": "code",
   "execution_count": 33,
   "metadata": {},
   "outputs": [],
   "source": [
    "h_X_train, h_X_test, h_y_train, h_y_test = train_test_split(high, h_y, test_size=0.2, random_state=7)\n",
    "seed = 7"
   ]
  },
  {
   "cell_type": "code",
   "execution_count": 34,
   "metadata": {},
   "outputs": [],
   "source": [
    "l_X_train, l_X_test, l_y_train, l_y_test = train_test_split(low, l_y, test_size=0.2, random_state=7)\n",
    "seed = 7"
   ]
  },
  {
   "cell_type": "code",
   "execution_count": 35,
   "metadata": {},
   "outputs": [],
   "source": [
    "l_X_train = pd.concat([l_X_train,h_X_train])"
   ]
  },
  {
   "cell_type": "code",
   "execution_count": 36,
   "metadata": {},
   "outputs": [],
   "source": [
    "l_X_test = pd.concat([l_X_test,h_X_test])"
   ]
  },
  {
   "cell_type": "code",
   "execution_count": 37,
   "metadata": {},
   "outputs": [
    {
     "data": {
      "text/plain": [
       "3228"
      ]
     },
     "execution_count": 37,
     "metadata": {},
     "output_type": "execute_result"
    }
   ],
   "source": [
    "l_X_train.shape[0]"
   ]
  },
  {
   "cell_type": "code",
   "execution_count": 38,
   "metadata": {},
   "outputs": [
    {
     "data": {
      "text/plain": [
       "4036"
      ]
     },
     "execution_count": 38,
     "metadata": {},
     "output_type": "execute_result"
    }
   ],
   "source": [
    "l_X_train.shape[0] + l_X_test.shape[0]"
   ]
  },
  {
   "cell_type": "code",
   "execution_count": 39,
   "metadata": {},
   "outputs": [],
   "source": [
    "l_y_train = pd.concat([l_y_train,h_y_train])"
   ]
  },
  {
   "cell_type": "code",
   "execution_count": 40,
   "metadata": {},
   "outputs": [],
   "source": [
    "l_y_test = pd.concat([l_y_test,h_y_test])"
   ]
  },
  {
   "cell_type": "code",
   "execution_count": 41,
   "metadata": {},
   "outputs": [
    {
     "data": {
      "text/plain": [
       "4036"
      ]
     },
     "execution_count": 41,
     "metadata": {},
     "output_type": "execute_result"
    }
   ],
   "source": [
    "l_y_train.shape[0] + l_y_test.shape[0]"
   ]
  },
  {
   "cell_type": "code",
   "execution_count": 42,
   "metadata": {},
   "outputs": [
    {
     "data": {
      "text/plain": [
       "1616"
      ]
     },
     "execution_count": 42,
     "metadata": {},
     "output_type": "execute_result"
    }
   ],
   "source": [
    "l_y_test.shape[0] + l_X_test.shape[0]"
   ]
  },
  {
   "cell_type": "markdown",
   "metadata": {},
   "source": [
    "X_train, X_test, y_train, y_test = train_test_split(X, y, test_size=0.2, random_state=7)\n",
    "seed = 7"
   ]
  },
  {
   "cell_type": "code",
   "execution_count": 43,
   "metadata": {},
   "outputs": [],
   "source": [
    "X_train, X_test, y_train, y_test = l_X_train, l_X_test, l_y_train, l_y_test"
   ]
  },
  {
   "cell_type": "code",
   "execution_count": 44,
   "metadata": {},
   "outputs": [
    {
     "data": {
      "text/plain": [
       "(4036, 38)"
      ]
     },
     "execution_count": 44,
     "metadata": {},
     "output_type": "execute_result"
    }
   ],
   "source": [
    "db.shape"
   ]
  },
  {
   "cell_type": "code",
   "execution_count": 45,
   "metadata": {},
   "outputs": [
    {
     "data": {
      "text/plain": [
       "(3228, 37)"
      ]
     },
     "execution_count": 45,
     "metadata": {},
     "output_type": "execute_result"
    }
   ],
   "source": [
    "X_train.shape"
   ]
  },
  {
   "cell_type": "code",
   "execution_count": 46,
   "metadata": {},
   "outputs": [
    {
     "data": {
      "text/plain": [
       "(808, 37)"
      ]
     },
     "execution_count": 46,
     "metadata": {},
     "output_type": "execute_result"
    }
   ],
   "source": [
    "X_test.shape"
   ]
  },
  {
   "cell_type": "code",
   "execution_count": 47,
   "metadata": {},
   "outputs": [
    {
     "data": {
      "text/plain": [
       "4036"
      ]
     },
     "execution_count": 47,
     "metadata": {},
     "output_type": "execute_result"
    }
   ],
   "source": [
    "X_train.shape[0] + X_test.shape[0]"
   ]
  },
  {
   "cell_type": "code",
   "execution_count": 48,
   "metadata": {},
   "outputs": [],
   "source": [
    "from sklearn.metrics import precision_recall_fscore_support as score\n",
    "from sklearn.model_selection import KFold, cross_val_score, GridSearchCV"
   ]
  },
  {
   "cell_type": "code",
   "execution_count": 49,
   "metadata": {},
   "outputs": [],
   "source": [
    "kfold = KFold(n_splits=10, random_state=7,shuffle=True)"
   ]
  },
  {
   "cell_type": "code",
   "execution_count": 50,
   "metadata": {},
   "outputs": [],
   "source": [
    "a=[]"
   ]
  },
  {
   "cell_type": "code",
   "execution_count": 51,
   "metadata": {},
   "outputs": [],
   "source": [
    "import time\n",
    "def train_rf(n_est, depth):\n",
    "    rf = RandomForestRegressor(n_estimators=n_est,\n",
    "                                max_depth=depth,\n",
    "                                n_jobs=-1)\n",
    "    start = time.time()\n",
    "    rf_model = rf.fit(X_train,y_train)\n",
    "    end = time.time()\n",
    "    fit_time = round((end - start),3)\n",
    "    start = time.time()\n",
    "    y_pred = rf_model.predict(X_test)\n",
    "    end = time.time()\n",
    "    pred_time = round((end - start),3)\n",
    "    #precision, recall, fscore, support = score(y_test, y_pred,average='macro') # pass the y labels to the score, the predicted, positive label; what we are predicting\n",
    "    r2 = cross_val_score(rf,X_test,y_test,cv=kfold,scoring='r2')\n",
    "    score = round(rf.score(X_train, y_train),3)\n",
    "    a.append([score,fit_time,pred_time,n_est,depth,round(r2.mean(),3),round(r2.std(),3)])\n",
    "    #print(f'time: {fit_time} pred: {pred_time} EST: {n_est} / depth: {depth} / r^2: {round(r2.mean(),3),round(r2.std(),3)} score: {score}')"
   ]
  },
  {
   "cell_type": "code",
   "execution_count": 52,
   "metadata": {},
   "outputs": [],
   "source": [
    "for n_est in [10,50,100,200]:\n",
    "    for depth in [10,20,80,None]:\n",
    "        train_rf(n_est,depth)"
   ]
  },
  {
   "cell_type": "code",
   "execution_count": 53,
   "metadata": {},
   "outputs": [
    {
     "data": {
      "text/html": [
       "<div>\n",
       "<style scoped>\n",
       "    .dataframe tbody tr th:only-of-type {\n",
       "        vertical-align: middle;\n",
       "    }\n",
       "\n",
       "    .dataframe tbody tr th {\n",
       "        vertical-align: top;\n",
       "    }\n",
       "\n",
       "    .dataframe thead th {\n",
       "        text-align: right;\n",
       "    }\n",
       "</style>\n",
       "<table border=\"1\" class=\"dataframe\">\n",
       "  <thead>\n",
       "    <tr style=\"text-align: right;\">\n",
       "      <th></th>\n",
       "      <th>score</th>\n",
       "      <th>fit time</th>\n",
       "      <th>pred_time</th>\n",
       "      <th>estimators</th>\n",
       "      <th>depth</th>\n",
       "      <th>mean</th>\n",
       "      <th>std</th>\n",
       "    </tr>\n",
       "  </thead>\n",
       "  <tbody>\n",
       "    <tr>\n",
       "      <th>14</th>\n",
       "      <td>0.862</td>\n",
       "      <td>2.632</td>\n",
       "      <td>0.112</td>\n",
       "      <td>200</td>\n",
       "      <td>80.0</td>\n",
       "      <td>-0.032</td>\n",
       "      <td>0.049</td>\n",
       "    </tr>\n",
       "    <tr>\n",
       "      <th>15</th>\n",
       "      <td>0.862</td>\n",
       "      <td>2.534</td>\n",
       "      <td>0.108</td>\n",
       "      <td>200</td>\n",
       "      <td>NaN</td>\n",
       "      <td>-0.032</td>\n",
       "      <td>0.054</td>\n",
       "    </tr>\n",
       "    <tr>\n",
       "      <th>11</th>\n",
       "      <td>0.860</td>\n",
       "      <td>1.375</td>\n",
       "      <td>0.115</td>\n",
       "      <td>100</td>\n",
       "      <td>NaN</td>\n",
       "      <td>-0.047</td>\n",
       "      <td>0.040</td>\n",
       "    </tr>\n",
       "    <tr>\n",
       "      <th>10</th>\n",
       "      <td>0.859</td>\n",
       "      <td>1.374</td>\n",
       "      <td>0.108</td>\n",
       "      <td>100</td>\n",
       "      <td>80.0</td>\n",
       "      <td>-0.038</td>\n",
       "      <td>0.042</td>\n",
       "    </tr>\n",
       "    <tr>\n",
       "      <th>7</th>\n",
       "      <td>0.855</td>\n",
       "      <td>0.639</td>\n",
       "      <td>0.109</td>\n",
       "      <td>50</td>\n",
       "      <td>NaN</td>\n",
       "      <td>-0.049</td>\n",
       "      <td>0.067</td>\n",
       "    </tr>\n",
       "    <tr>\n",
       "      <th>6</th>\n",
       "      <td>0.854</td>\n",
       "      <td>0.640</td>\n",
       "      <td>0.109</td>\n",
       "      <td>50</td>\n",
       "      <td>80.0</td>\n",
       "      <td>-0.039</td>\n",
       "      <td>0.062</td>\n",
       "    </tr>\n",
       "    <tr>\n",
       "      <th>9</th>\n",
       "      <td>0.844</td>\n",
       "      <td>1.174</td>\n",
       "      <td>0.109</td>\n",
       "      <td>100</td>\n",
       "      <td>20.0</td>\n",
       "      <td>-0.040</td>\n",
       "      <td>0.061</td>\n",
       "    </tr>\n",
       "    <tr>\n",
       "      <th>13</th>\n",
       "      <td>0.844</td>\n",
       "      <td>3.163</td>\n",
       "      <td>0.116</td>\n",
       "      <td>200</td>\n",
       "      <td>20.0</td>\n",
       "      <td>-0.033</td>\n",
       "      <td>0.045</td>\n",
       "    </tr>\n",
       "    <tr>\n",
       "      <th>5</th>\n",
       "      <td>0.834</td>\n",
       "      <td>0.538</td>\n",
       "      <td>0.106</td>\n",
       "      <td>50</td>\n",
       "      <td>20.0</td>\n",
       "      <td>-0.029</td>\n",
       "      <td>0.062</td>\n",
       "    </tr>\n",
       "    <tr>\n",
       "      <th>2</th>\n",
       "      <td>0.813</td>\n",
       "      <td>0.216</td>\n",
       "      <td>0.112</td>\n",
       "      <td>10</td>\n",
       "      <td>80.0</td>\n",
       "      <td>-0.076</td>\n",
       "      <td>0.078</td>\n",
       "    </tr>\n",
       "    <tr>\n",
       "      <th>3</th>\n",
       "      <td>0.801</td>\n",
       "      <td>0.218</td>\n",
       "      <td>0.107</td>\n",
       "      <td>10</td>\n",
       "      <td>NaN</td>\n",
       "      <td>-0.156</td>\n",
       "      <td>0.127</td>\n",
       "    </tr>\n",
       "    <tr>\n",
       "      <th>1</th>\n",
       "      <td>0.781</td>\n",
       "      <td>0.217</td>\n",
       "      <td>0.111</td>\n",
       "      <td>10</td>\n",
       "      <td>20.0</td>\n",
       "      <td>-0.175</td>\n",
       "      <td>0.075</td>\n",
       "    </tr>\n",
       "    <tr>\n",
       "      <th>8</th>\n",
       "      <td>0.497</td>\n",
       "      <td>0.972</td>\n",
       "      <td>0.110</td>\n",
       "      <td>100</td>\n",
       "      <td>10.0</td>\n",
       "      <td>-0.033</td>\n",
       "      <td>0.050</td>\n",
       "    </tr>\n",
       "    <tr>\n",
       "      <th>12</th>\n",
       "      <td>0.495</td>\n",
       "      <td>2.032</td>\n",
       "      <td>0.110</td>\n",
       "      <td>200</td>\n",
       "      <td>10.0</td>\n",
       "      <td>-0.020</td>\n",
       "      <td>0.047</td>\n",
       "    </tr>\n",
       "    <tr>\n",
       "      <th>4</th>\n",
       "      <td>0.483</td>\n",
       "      <td>0.441</td>\n",
       "      <td>0.111</td>\n",
       "      <td>50</td>\n",
       "      <td>10.0</td>\n",
       "      <td>-0.038</td>\n",
       "      <td>0.059</td>\n",
       "    </tr>\n",
       "    <tr>\n",
       "      <th>0</th>\n",
       "      <td>0.479</td>\n",
       "      <td>0.118</td>\n",
       "      <td>0.113</td>\n",
       "      <td>10</td>\n",
       "      <td>10.0</td>\n",
       "      <td>-0.147</td>\n",
       "      <td>0.072</td>\n",
       "    </tr>\n",
       "  </tbody>\n",
       "</table>\n",
       "</div>"
      ],
      "text/plain": [
       "    score  fit time  pred_time  estimators  depth   mean    std\n",
       "14  0.862     2.632      0.112         200   80.0 -0.032  0.049\n",
       "15  0.862     2.534      0.108         200    NaN -0.032  0.054\n",
       "11  0.860     1.375      0.115         100    NaN -0.047  0.040\n",
       "10  0.859     1.374      0.108         100   80.0 -0.038  0.042\n",
       "7   0.855     0.639      0.109          50    NaN -0.049  0.067\n",
       "6   0.854     0.640      0.109          50   80.0 -0.039  0.062\n",
       "9   0.844     1.174      0.109         100   20.0 -0.040  0.061\n",
       "13  0.844     3.163      0.116         200   20.0 -0.033  0.045\n",
       "5   0.834     0.538      0.106          50   20.0 -0.029  0.062\n",
       "2   0.813     0.216      0.112          10   80.0 -0.076  0.078\n",
       "3   0.801     0.218      0.107          10    NaN -0.156  0.127\n",
       "1   0.781     0.217      0.111          10   20.0 -0.175  0.075\n",
       "8   0.497     0.972      0.110         100   10.0 -0.033  0.050\n",
       "12  0.495     2.032      0.110         200   10.0 -0.020  0.047\n",
       "4   0.483     0.441      0.111          50   10.0 -0.038  0.059\n",
       "0   0.479     0.118      0.113          10   10.0 -0.147  0.072"
      ]
     },
     "execution_count": 53,
     "metadata": {},
     "output_type": "execute_result"
    }
   ],
   "source": [
    "final_rf = pd.DataFrame(a,columns=['score','fit time','pred_time','estimators','depth','mean','std'])\n",
    "final_rf.sort_values(by=['score'],ascending=False)"
   ]
  },
  {
   "cell_type": "code",
   "execution_count": 54,
   "metadata": {},
   "outputs": [],
   "source": [
    "b=[]"
   ]
  },
  {
   "cell_type": "code",
   "execution_count": 55,
   "metadata": {},
   "outputs": [],
   "source": [
    "def train_dt(feat, depth):\n",
    "    dt = DecisionTreeRegressor(criterion='mse',\n",
    "                               splitter='random',\n",
    "                               max_features=feat,\n",
    "                               max_depth=depth)\n",
    "    start = time.time()\n",
    "    dt_model = dt.fit(X_train,y_train)\n",
    "    end = time.time()\n",
    "    fit_time = round((end - start),3)\n",
    "    start = time.time()\n",
    "    y_pred = dt_model.predict(X_test)\n",
    "    end = time.time()\n",
    "    pred_time = round((end - start),3)\n",
    "    \n",
    "    #precision, recall, fscore, support = score(y_test, y_pred,average='macro') # pass the y labels to the score, the predicted, positive label; what we are predicting\n",
    "    r2 = cross_val_score(dt,X_test,y_test,cv=kfold,scoring='r2')\n",
    "    score = round(dt.score(X_train, y_train),3)\n",
    "    b.append([score,fit_time,pred_time,feat,depth,round(r2.mean(),3),round(r2.std(),3)])\n",
    "    #print(f'time: {fit_time} pred: {pred_time} EST: {feat} / depth: {depth} / r^2: {round(r2.mean(),3),round(r2.std(),3)} score: {score}')"
   ]
  },
  {
   "cell_type": "code",
   "execution_count": 56,
   "metadata": {},
   "outputs": [],
   "source": [
    "for feat in [5,10,X_train.shape[1],'auto','sqrt','log2',None]:\n",
    "    for depth in [10,20,80,None]:\n",
    "        train_dt(feat,depth)"
   ]
  },
  {
   "cell_type": "code",
   "execution_count": 57,
   "metadata": {},
   "outputs": [
    {
     "data": {
      "text/html": [
       "<div>\n",
       "<style scoped>\n",
       "    .dataframe tbody tr th:only-of-type {\n",
       "        vertical-align: middle;\n",
       "    }\n",
       "\n",
       "    .dataframe tbody tr th {\n",
       "        vertical-align: top;\n",
       "    }\n",
       "\n",
       "    .dataframe thead th {\n",
       "        text-align: right;\n",
       "    }\n",
       "</style>\n",
       "<table border=\"1\" class=\"dataframe\">\n",
       "  <thead>\n",
       "    <tr style=\"text-align: right;\">\n",
       "      <th></th>\n",
       "      <th>score</th>\n",
       "      <th>fit time</th>\n",
       "      <th>pred_time</th>\n",
       "      <th>features</th>\n",
       "      <th>depth</th>\n",
       "      <th>mean</th>\n",
       "      <th>std</th>\n",
       "    </tr>\n",
       "  </thead>\n",
       "  <tbody>\n",
       "    <tr>\n",
       "      <th>25</th>\n",
       "      <td>0.912</td>\n",
       "      <td>0.021</td>\n",
       "      <td>0.002</td>\n",
       "      <td>None</td>\n",
       "      <td>20.0</td>\n",
       "      <td>-1.151</td>\n",
       "      <td>0.332</td>\n",
       "    </tr>\n",
       "    <tr>\n",
       "      <th>13</th>\n",
       "      <td>0.867</td>\n",
       "      <td>0.023</td>\n",
       "      <td>0.003</td>\n",
       "      <td>auto</td>\n",
       "      <td>20.0</td>\n",
       "      <td>-1.014</td>\n",
       "      <td>0.348</td>\n",
       "    </tr>\n",
       "    <tr>\n",
       "      <th>5</th>\n",
       "      <td>0.824</td>\n",
       "      <td>0.010</td>\n",
       "      <td>0.003</td>\n",
       "      <td>10</td>\n",
       "      <td>20.0</td>\n",
       "      <td>-0.964</td>\n",
       "      <td>0.217</td>\n",
       "    </tr>\n",
       "    <tr>\n",
       "      <th>17</th>\n",
       "      <td>0.805</td>\n",
       "      <td>0.008</td>\n",
       "      <td>0.003</td>\n",
       "      <td>sqrt</td>\n",
       "      <td>20.0</td>\n",
       "      <td>-0.798</td>\n",
       "      <td>0.390</td>\n",
       "    </tr>\n",
       "    <tr>\n",
       "      <th>9</th>\n",
       "      <td>0.795</td>\n",
       "      <td>0.022</td>\n",
       "      <td>0.003</td>\n",
       "      <td>37</td>\n",
       "      <td>20.0</td>\n",
       "      <td>-1.006</td>\n",
       "      <td>0.379</td>\n",
       "    </tr>\n",
       "    <tr>\n",
       "      <th>1</th>\n",
       "      <td>0.768</td>\n",
       "      <td>0.007</td>\n",
       "      <td>0.002</td>\n",
       "      <td>5</td>\n",
       "      <td>20.0</td>\n",
       "      <td>-0.938</td>\n",
       "      <td>0.321</td>\n",
       "    </tr>\n",
       "    <tr>\n",
       "      <th>21</th>\n",
       "      <td>0.620</td>\n",
       "      <td>0.007</td>\n",
       "      <td>0.002</td>\n",
       "      <td>log2</td>\n",
       "      <td>20.0</td>\n",
       "      <td>-0.979</td>\n",
       "      <td>0.234</td>\n",
       "    </tr>\n",
       "    <tr>\n",
       "      <th>8</th>\n",
       "      <td>0.336</td>\n",
       "      <td>0.013</td>\n",
       "      <td>0.003</td>\n",
       "      <td>37</td>\n",
       "      <td>10.0</td>\n",
       "      <td>-0.462</td>\n",
       "      <td>0.159</td>\n",
       "    </tr>\n",
       "    <tr>\n",
       "      <th>24</th>\n",
       "      <td>0.316</td>\n",
       "      <td>0.012</td>\n",
       "      <td>0.002</td>\n",
       "      <td>None</td>\n",
       "      <td>10.0</td>\n",
       "      <td>-0.510</td>\n",
       "      <td>0.230</td>\n",
       "    </tr>\n",
       "    <tr>\n",
       "      <th>12</th>\n",
       "      <td>0.266</td>\n",
       "      <td>0.013</td>\n",
       "      <td>0.003</td>\n",
       "      <td>auto</td>\n",
       "      <td>10.0</td>\n",
       "      <td>-0.504</td>\n",
       "      <td>0.297</td>\n",
       "    </tr>\n",
       "    <tr>\n",
       "      <th>4</th>\n",
       "      <td>0.216</td>\n",
       "      <td>0.006</td>\n",
       "      <td>0.002</td>\n",
       "      <td>10</td>\n",
       "      <td>10.0</td>\n",
       "      <td>-0.446</td>\n",
       "      <td>0.253</td>\n",
       "    </tr>\n",
       "    <tr>\n",
       "      <th>20</th>\n",
       "      <td>0.211</td>\n",
       "      <td>0.005</td>\n",
       "      <td>0.002</td>\n",
       "      <td>log2</td>\n",
       "      <td>10.0</td>\n",
       "      <td>-0.326</td>\n",
       "      <td>0.112</td>\n",
       "    </tr>\n",
       "    <tr>\n",
       "      <th>16</th>\n",
       "      <td>0.191</td>\n",
       "      <td>0.005</td>\n",
       "      <td>0.002</td>\n",
       "      <td>sqrt</td>\n",
       "      <td>10.0</td>\n",
       "      <td>-0.332</td>\n",
       "      <td>0.303</td>\n",
       "    </tr>\n",
       "    <tr>\n",
       "      <th>0</th>\n",
       "      <td>0.091</td>\n",
       "      <td>0.007</td>\n",
       "      <td>0.003</td>\n",
       "      <td>5</td>\n",
       "      <td>10.0</td>\n",
       "      <td>-0.374</td>\n",
       "      <td>0.190</td>\n",
       "    </tr>\n",
       "  </tbody>\n",
       "</table>\n",
       "</div>"
      ],
      "text/plain": [
       "    score  fit time  pred_time features  depth   mean    std\n",
       "25  0.912     0.021      0.002     None   20.0 -1.151  0.332\n",
       "13  0.867     0.023      0.003     auto   20.0 -1.014  0.348\n",
       "5   0.824     0.010      0.003       10   20.0 -0.964  0.217\n",
       "17  0.805     0.008      0.003     sqrt   20.0 -0.798  0.390\n",
       "9   0.795     0.022      0.003       37   20.0 -1.006  0.379\n",
       "1   0.768     0.007      0.002        5   20.0 -0.938  0.321\n",
       "21  0.620     0.007      0.002     log2   20.0 -0.979  0.234\n",
       "8   0.336     0.013      0.003       37   10.0 -0.462  0.159\n",
       "24  0.316     0.012      0.002     None   10.0 -0.510  0.230\n",
       "12  0.266     0.013      0.003     auto   10.0 -0.504  0.297\n",
       "4   0.216     0.006      0.002       10   10.0 -0.446  0.253\n",
       "20  0.211     0.005      0.002     log2   10.0 -0.326  0.112\n",
       "16  0.191     0.005      0.002     sqrt   10.0 -0.332  0.303\n",
       "0   0.091     0.007      0.003        5   10.0 -0.374  0.190"
      ]
     },
     "execution_count": 57,
     "metadata": {},
     "output_type": "execute_result"
    }
   ],
   "source": [
    "final_dt = pd.DataFrame(b,columns=['score','fit time','pred_time','features','depth','mean','std'])\n",
    "final_dt[final_dt['score'] < 0.98].sort_values(by=['score'],ascending=False)"
   ]
  },
  {
   "cell_type": "code",
   "execution_count": 58,
   "metadata": {},
   "outputs": [
    {
     "name": "stdout",
     "output_type": "stream",
     "text": [
      "Decision Tree Regression Model r2: (-1.095, 0.367)\n"
     ]
    }
   ],
   "source": [
    "def show_model_scores(model,string):\n",
    "    r2 = cross_val_score(model,X_test,y_test,cv=kfold,scoring='r2')\n",
    "    print(f'{string} r2: {round(r2.mean(),3),round(r2.std(),3)}')\n",
    "\n",
    "#DecisionTreeRegressor\n",
    "def decisionTree():\n",
    "    model = DecisionTreeRegressor(criterion='mse',\n",
    "                                  splitter='random',\n",
    "                                  max_features=None,\n",
    "                                  max_depth=20)\n",
    "    model.fit(X_train, y_train)\n",
    "    return model\n",
    "dt = decisionTree()\n",
    "\n",
    "show_model_scores(dt,'Decision Tree Regression Model')"
   ]
  },
  {
   "cell_type": "code",
   "execution_count": 59,
   "metadata": {},
   "outputs": [
    {
     "name": "stdout",
     "output_type": "stream",
     "text": [
      "Random Forest Regression Model r2: (-0.045, 0.045)\n"
     ]
    }
   ],
   "source": [
    "#Random Forest Regression\n",
    "def forestRegression():\n",
    "    model = RandomForestRegressor(n_estimators=100,\n",
    "                                  max_depth=None,\n",
    "                                  criterion='mse',\n",
    "                                  n_jobs=-1)\n",
    "    model.fit(X_train, y_train)\n",
    "    return model\n",
    "\n",
    "rf = forestRegression()\n",
    "\n",
    "show_model_scores(rf,'Random Forest Regression Model')"
   ]
  },
  {
   "cell_type": "code",
   "execution_count": 60,
   "metadata": {},
   "outputs": [
    {
     "name": "stdout",
     "output_type": "stream",
     "text": [
      "Voting Regressor Model r2: (-0.355, 0.22)\n"
     ]
    }
   ],
   "source": [
    "from sklearn.ensemble import VotingRegressor\n",
    "vr = VotingRegressor(estimators=[('dt1', dt),('dt2', dt),('dt3', dt)])\n",
    "vr = vr.fit(X_train, y_train)\n",
    "\n",
    "show_model_scores(vr,'Voting Regressor Model')"
   ]
  },
  {
   "cell_type": "code",
   "execution_count": 61,
   "metadata": {},
   "outputs": [],
   "source": [
    "def check(a,b):\n",
    "    #print('pred :',a,'actual :',b)\n",
    "    if a == b:\n",
    "        result = 1\n",
    "    else:\n",
    "        result = 0\n",
    "    return result"
   ]
  },
  {
   "cell_type": "code",
   "execution_count": 62,
   "metadata": {},
   "outputs": [
    {
     "name": "stdout",
     "output_type": "stream",
     "text": [
      "Decission Tree 0.88\n",
      "Random Forest 0.86\n",
      "Voting Regressor DT 0.88\n"
     ]
    }
   ],
   "source": [
    "print('Decission Tree',round(dt.score(X_train, y_train),2))\n",
    "print('Random Forest',round(rf.score(X_train, y_train),2))\n",
    "print('Voting Regressor DT',round(vr.score(X_train, y_train),2))"
   ]
  },
  {
   "cell_type": "code",
   "execution_count": 63,
   "metadata": {},
   "outputs": [],
   "source": [
    "def cycle_pred_test(result,num):\n",
    "    score = check(result,y_test.loc[num])\n",
    "    return score\n",
    "\n",
    "def model_pred_test(model):\n",
    "    pred = []\n",
    "    numbers = X_test.index\n",
    "    random_nums = random.choices(numbers, k=50)\n",
    "    for i in random_nums:\n",
    "        p = X_test.loc[i].tolist()\n",
    "        result = model.predict([p]).flatten().round()\n",
    "        prediction = cycle_pred_test(result,i)\n",
    "        pred.append(prediction)\n",
    "    dz = pd.DataFrame(pred)\n",
    "    #df = pd.DataFrame(prob)\n",
    "    c = str(float(dz.sum().values / 50))\n",
    "    return c"
   ]
  },
  {
   "cell_type": "code",
   "execution_count": 64,
   "metadata": {},
   "outputs": [],
   "source": [
    "test_results = pd.DataFrame(index=range(10),columns=['vr','dt','rf'])\n",
    "test_results = test_results.fillna(0.0)"
   ]
  },
  {
   "cell_type": "code",
   "execution_count": 65,
   "metadata": {},
   "outputs": [],
   "source": [
    "for i in range(10):\n",
    "    v_s = model_pred_test(vr)\n",
    "    test_results.at[i,'vr'] = v_s\n",
    "    d_s = model_pred_test(dt)\n",
    "    test_results.at[i,'dt'] = d_s\n",
    "    r_s = model_pred_test(rf)\n",
    "    test_results.at[i,'rf'] = r_s"
   ]
  },
  {
   "cell_type": "code",
   "execution_count": 66,
   "metadata": {},
   "outputs": [
    {
     "data": {
      "text/html": [
       "<div>\n",
       "<style scoped>\n",
       "    .dataframe tbody tr th:only-of-type {\n",
       "        vertical-align: middle;\n",
       "    }\n",
       "\n",
       "    .dataframe tbody tr th {\n",
       "        vertical-align: top;\n",
       "    }\n",
       "\n",
       "    .dataframe thead th {\n",
       "        text-align: right;\n",
       "    }\n",
       "</style>\n",
       "<table border=\"1\" class=\"dataframe\">\n",
       "  <thead>\n",
       "    <tr style=\"text-align: right;\">\n",
       "      <th></th>\n",
       "      <th>vr</th>\n",
       "      <th>dt</th>\n",
       "      <th>rf</th>\n",
       "    </tr>\n",
       "  </thead>\n",
       "  <tbody>\n",
       "    <tr>\n",
       "      <th>count</th>\n",
       "      <td>10.000000</td>\n",
       "      <td>10.000000</td>\n",
       "      <td>10.00000</td>\n",
       "    </tr>\n",
       "    <tr>\n",
       "      <th>mean</th>\n",
       "      <td>0.230000</td>\n",
       "      <td>0.302000</td>\n",
       "      <td>0.25400</td>\n",
       "    </tr>\n",
       "    <tr>\n",
       "      <th>std</th>\n",
       "      <td>0.089567</td>\n",
       "      <td>0.061427</td>\n",
       "      <td>0.03134</td>\n",
       "    </tr>\n",
       "    <tr>\n",
       "      <th>min</th>\n",
       "      <td>0.100000</td>\n",
       "      <td>0.220000</td>\n",
       "      <td>0.20000</td>\n",
       "    </tr>\n",
       "    <tr>\n",
       "      <th>25%</th>\n",
       "      <td>0.180000</td>\n",
       "      <td>0.265000</td>\n",
       "      <td>0.24000</td>\n",
       "    </tr>\n",
       "    <tr>\n",
       "      <th>50%</th>\n",
       "      <td>0.210000</td>\n",
       "      <td>0.280000</td>\n",
       "      <td>0.25000</td>\n",
       "    </tr>\n",
       "    <tr>\n",
       "      <th>75%</th>\n",
       "      <td>0.315000</td>\n",
       "      <td>0.340000</td>\n",
       "      <td>0.26000</td>\n",
       "    </tr>\n",
       "    <tr>\n",
       "      <th>max</th>\n",
       "      <td>0.340000</td>\n",
       "      <td>0.420000</td>\n",
       "      <td>0.32000</td>\n",
       "    </tr>\n",
       "  </tbody>\n",
       "</table>\n",
       "</div>"
      ],
      "text/plain": [
       "              vr         dt        rf\n",
       "count  10.000000  10.000000  10.00000\n",
       "mean    0.230000   0.302000   0.25400\n",
       "std     0.089567   0.061427   0.03134\n",
       "min     0.100000   0.220000   0.20000\n",
       "25%     0.180000   0.265000   0.24000\n",
       "50%     0.210000   0.280000   0.25000\n",
       "75%     0.315000   0.340000   0.26000\n",
       "max     0.340000   0.420000   0.32000"
      ]
     },
     "execution_count": 66,
     "metadata": {},
     "output_type": "execute_result"
    }
   ],
   "source": [
    "test_results.describe()"
   ]
  },
  {
   "cell_type": "code",
   "execution_count": 67,
   "metadata": {},
   "outputs": [],
   "source": [
    "def cycle_prob_test(num,model):\n",
    "    p = X_test.iloc[num].tolist()\n",
    "    e = model.predict([p]).flatten()\n",
    "    e = e[0]\n",
    "    return int(round(e))\n",
    "\n",
    "def model_pred_test(model):\n",
    "    b = []\n",
    "    prob = []\n",
    "    random_nums = np.random.randint(low=1, high=58, size=(20))\n",
    "    for i in random_nums:\n",
    "        prob.append(cycle_prob_test(i,model))\n",
    "    df = pd.DataFrame(prob)\n",
    "    df = df.values\n",
    "    print('scores :\\n',df)"
   ]
  },
  {
   "cell_type": "code",
   "execution_count": 68,
   "metadata": {},
   "outputs": [
    {
     "name": "stdout",
     "output_type": "stream",
     "text": [
      "scores :\n",
      " [[0]\n",
      " [1]\n",
      " [1]\n",
      " [0]\n",
      " [0]\n",
      " [0]\n",
      " [3]\n",
      " [0]\n",
      " [1]\n",
      " [0]\n",
      " [1]\n",
      " [3]\n",
      " [0]\n",
      " [1]\n",
      " [0]\n",
      " [2]\n",
      " [2]\n",
      " [4]\n",
      " [2]\n",
      " [1]]\n"
     ]
    }
   ],
   "source": [
    "model_pred_test(dt)"
   ]
  },
  {
   "cell_type": "code",
   "execution_count": 69,
   "metadata": {},
   "outputs": [
    {
     "name": "stdout",
     "output_type": "stream",
     "text": [
      "scores :\n",
      " [[0]\n",
      " [1]\n",
      " [2]\n",
      " [0]\n",
      " [1]\n",
      " [2]\n",
      " [2]\n",
      " [3]\n",
      " [0]\n",
      " [1]\n",
      " [2]\n",
      " [0]\n",
      " [1]\n",
      " [2]\n",
      " [1]\n",
      " [1]\n",
      " [1]\n",
      " [1]\n",
      " [2]\n",
      " [1]]\n"
     ]
    }
   ],
   "source": [
    "model_pred_test(vr)"
   ]
  },
  {
   "cell_type": "code",
   "execution_count": 70,
   "metadata": {},
   "outputs": [
    {
     "name": "stdout",
     "output_type": "stream",
     "text": [
      "scores :\n",
      " [[1]\n",
      " [2]\n",
      " [2]\n",
      " [1]\n",
      " [2]\n",
      " [1]\n",
      " [2]\n",
      " [1]\n",
      " [1]\n",
      " [1]\n",
      " [2]\n",
      " [2]\n",
      " [2]\n",
      " [2]\n",
      " [1]\n",
      " [1]\n",
      " [2]\n",
      " [2]\n",
      " [1]\n",
      " [1]]\n"
     ]
    }
   ],
   "source": [
    "model_pred_test(rf)"
   ]
  },
  {
   "cell_type": "code",
   "execution_count": 71,
   "metadata": {},
   "outputs": [],
   "source": [
    "import pickle\n",
    "filename = 'models/cpl_score_regressor-08-19-rf.sav'\n",
    "pickle.dump(rf, open(filename, 'wb'))"
   ]
  },
  {
   "cell_type": "code",
   "execution_count": 72,
   "metadata": {},
   "outputs": [],
   "source": [
    "import pickle\n",
    "filename = 'models/cpl_score_regressor-08-19-vr.sav'\n",
    "pickle.dump(vr, open(filename, 'wb'))"
   ]
  },
  {
   "cell_type": "code",
   "execution_count": 71,
   "metadata": {},
   "outputs": [],
   "source": [
    "import pickle\n",
    "filename = 'models/cpl_score_regressor-08-19-dt.sav'\n",
    "pickle.dump(dt, open(filename, 'wb'))"
   ]
  },
  {
   "cell_type": "code",
   "execution_count": null,
   "metadata": {},
   "outputs": [],
   "source": []
  }
 ],
 "metadata": {
  "kernelspec": {
   "display_name": "Python 3",
   "language": "python",
   "name": "python3"
  },
  "language_info": {
   "codemirror_mode": {
    "name": "ipython",
    "version": 3
   },
   "file_extension": ".py",
   "mimetype": "text/x-python",
   "name": "python",
   "nbconvert_exporter": "python",
   "pygments_lexer": "ipython3",
   "version": "3.7.6"
  }
 },
 "nbformat": 4,
 "nbformat_minor": 4
}
